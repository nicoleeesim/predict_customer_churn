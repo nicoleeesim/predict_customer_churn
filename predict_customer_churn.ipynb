{
 "cells": [
  {
   "cell_type": "markdown",
   "metadata": {},
   "source": [
    "# **1. Introduction**\n",
    "\n",
    "Customer churn occurs when a customer stops using a business's products or services. Customer retention is critical to the business as it is often more costly to acquire new customers compared to retaining existing ones. As such, predicting customer churn will help in early detection of customers who are at risks of leaving a service/product, allowing the business to take proactive measures in prioritising retention efforts with these customers. "
   ]
  },
  {
   "cell_type": "code",
   "execution_count": 33,
   "metadata": {
    "execution": {
     "iopub.execute_input": "2021-11-06T07:36:13.811689Z",
     "iopub.status.busy": "2021-11-06T07:36:13.807501Z",
     "iopub.status.idle": "2021-11-06T07:36:21.295801Z",
     "shell.execute_reply": "2021-11-06T07:36:21.294573Z",
     "shell.execute_reply.started": "2021-11-06T07:36:13.811475Z"
    }
   },
   "outputs": [],
   "source": [
    "# !pip install pydotplus\n",
    "# !pip install six"
   ]
  },
  {
   "cell_type": "code",
   "execution_count": 34,
   "metadata": {
    "execution": {
     "iopub.execute_input": "2021-11-06T07:36:21.299636Z",
     "iopub.status.busy": "2021-11-06T07:36:21.299088Z",
     "iopub.status.idle": "2021-11-06T07:36:21.312323Z",
     "shell.execute_reply": "2021-11-06T07:36:21.311396Z",
     "shell.execute_reply.started": "2021-11-06T07:36:21.299601Z"
    }
   },
   "outputs": [],
   "source": [
    "#import libs\n",
    "import pandas as pd\n",
    "pd.set_option(\"display.max_columns\", 101)\n",
    "import numpy as np\n",
    "import matplotlib.pyplot as plt\n",
    "import seaborn as sns\n",
    "import statsmodels.formula.api as smf\n",
    "from sklearn.model_selection import train_test_split\n",
    "from statsmodels.stats.outliers_influence import variance_inflation_factor\n",
    "from sklearn.metrics import confusion_matrix ,classification_report,precision_score, recall_score ,f1_score, accuracy_score \n",
    "\n",
    "#decision tree\n",
    "from sklearn.tree import DecisionTreeClassifier\n",
    "from sklearn.ensemble import RandomForestClassifier\n",
    "from sklearn import metrics\n",
    "from sklearn.tree import export_graphviz\n",
    "from six import StringIO\n",
    "from IPython.display import Image  \n",
    "import pydotplus"
   ]
  },
  {
   "cell_type": "code",
   "execution_count": 35,
   "metadata": {
    "execution": {
     "iopub.execute_input": "2021-11-06T07:36:21.314680Z",
     "iopub.status.busy": "2021-11-06T07:36:21.314117Z",
     "iopub.status.idle": "2021-11-06T07:36:21.421990Z",
     "shell.execute_reply": "2021-11-06T07:36:21.421253Z",
     "shell.execute_reply.started": "2021-11-06T07:36:21.314644Z"
    }
   },
   "outputs": [
    {
     "data": {
      "text/html": [
       "<div>\n",
       "<style scoped>\n",
       "    .dataframe tbody tr th:only-of-type {\n",
       "        vertical-align: middle;\n",
       "    }\n",
       "\n",
       "    .dataframe tbody tr th {\n",
       "        vertical-align: top;\n",
       "    }\n",
       "\n",
       "    .dataframe thead th {\n",
       "        text-align: right;\n",
       "    }\n",
       "</style>\n",
       "<table border=\"1\" class=\"dataframe\">\n",
       "  <thead>\n",
       "    <tr style=\"text-align: right;\">\n",
       "      <th></th>\n",
       "      <th>customerID</th>\n",
       "      <th>gender</th>\n",
       "      <th>SeniorCitizen</th>\n",
       "      <th>Partner</th>\n",
       "      <th>Dependents</th>\n",
       "      <th>tenure</th>\n",
       "      <th>PhoneService</th>\n",
       "      <th>MultipleLines</th>\n",
       "      <th>InternetService</th>\n",
       "      <th>OnlineSecurity</th>\n",
       "      <th>OnlineBackup</th>\n",
       "      <th>DeviceProtection</th>\n",
       "      <th>TechSupport</th>\n",
       "      <th>StreamingTV</th>\n",
       "      <th>StreamingMovies</th>\n",
       "      <th>Contract</th>\n",
       "      <th>PaperlessBilling</th>\n",
       "      <th>PaymentMethod</th>\n",
       "      <th>MonthlyCharges</th>\n",
       "      <th>TotalCharges</th>\n",
       "      <th>Churn</th>\n",
       "    </tr>\n",
       "  </thead>\n",
       "  <tbody>\n",
       "    <tr>\n",
       "      <td>0</td>\n",
       "      <td>7590-VHVEG</td>\n",
       "      <td>Female</td>\n",
       "      <td>0</td>\n",
       "      <td>Yes</td>\n",
       "      <td>No</td>\n",
       "      <td>1</td>\n",
       "      <td>No</td>\n",
       "      <td>No phone service</td>\n",
       "      <td>DSL</td>\n",
       "      <td>No</td>\n",
       "      <td>Yes</td>\n",
       "      <td>No</td>\n",
       "      <td>No</td>\n",
       "      <td>No</td>\n",
       "      <td>No</td>\n",
       "      <td>Month-to-month</td>\n",
       "      <td>Yes</td>\n",
       "      <td>Electronic check</td>\n",
       "      <td>29.85</td>\n",
       "      <td>29.85</td>\n",
       "      <td>No</td>\n",
       "    </tr>\n",
       "    <tr>\n",
       "      <td>1</td>\n",
       "      <td>5575-GNVDE</td>\n",
       "      <td>Male</td>\n",
       "      <td>0</td>\n",
       "      <td>No</td>\n",
       "      <td>No</td>\n",
       "      <td>34</td>\n",
       "      <td>Yes</td>\n",
       "      <td>No</td>\n",
       "      <td>DSL</td>\n",
       "      <td>Yes</td>\n",
       "      <td>No</td>\n",
       "      <td>Yes</td>\n",
       "      <td>No</td>\n",
       "      <td>No</td>\n",
       "      <td>No</td>\n",
       "      <td>One year</td>\n",
       "      <td>No</td>\n",
       "      <td>Mailed check</td>\n",
       "      <td>56.95</td>\n",
       "      <td>1889.5</td>\n",
       "      <td>No</td>\n",
       "    </tr>\n",
       "    <tr>\n",
       "      <td>2</td>\n",
       "      <td>3668-QPYBK</td>\n",
       "      <td>Male</td>\n",
       "      <td>0</td>\n",
       "      <td>No</td>\n",
       "      <td>No</td>\n",
       "      <td>2</td>\n",
       "      <td>Yes</td>\n",
       "      <td>No</td>\n",
       "      <td>DSL</td>\n",
       "      <td>Yes</td>\n",
       "      <td>Yes</td>\n",
       "      <td>No</td>\n",
       "      <td>No</td>\n",
       "      <td>No</td>\n",
       "      <td>No</td>\n",
       "      <td>Month-to-month</td>\n",
       "      <td>Yes</td>\n",
       "      <td>Mailed check</td>\n",
       "      <td>53.85</td>\n",
       "      <td>108.15</td>\n",
       "      <td>Yes</td>\n",
       "    </tr>\n",
       "    <tr>\n",
       "      <td>3</td>\n",
       "      <td>7795-CFOCW</td>\n",
       "      <td>Male</td>\n",
       "      <td>0</td>\n",
       "      <td>No</td>\n",
       "      <td>No</td>\n",
       "      <td>45</td>\n",
       "      <td>No</td>\n",
       "      <td>No phone service</td>\n",
       "      <td>DSL</td>\n",
       "      <td>Yes</td>\n",
       "      <td>No</td>\n",
       "      <td>Yes</td>\n",
       "      <td>Yes</td>\n",
       "      <td>No</td>\n",
       "      <td>No</td>\n",
       "      <td>One year</td>\n",
       "      <td>No</td>\n",
       "      <td>Bank transfer (automatic)</td>\n",
       "      <td>42.30</td>\n",
       "      <td>1840.75</td>\n",
       "      <td>No</td>\n",
       "    </tr>\n",
       "    <tr>\n",
       "      <td>4</td>\n",
       "      <td>9237-HQITU</td>\n",
       "      <td>Female</td>\n",
       "      <td>0</td>\n",
       "      <td>No</td>\n",
       "      <td>No</td>\n",
       "      <td>2</td>\n",
       "      <td>Yes</td>\n",
       "      <td>No</td>\n",
       "      <td>Fiber optic</td>\n",
       "      <td>No</td>\n",
       "      <td>No</td>\n",
       "      <td>No</td>\n",
       "      <td>No</td>\n",
       "      <td>No</td>\n",
       "      <td>No</td>\n",
       "      <td>Month-to-month</td>\n",
       "      <td>Yes</td>\n",
       "      <td>Electronic check</td>\n",
       "      <td>70.70</td>\n",
       "      <td>151.65</td>\n",
       "      <td>Yes</td>\n",
       "    </tr>\n",
       "  </tbody>\n",
       "</table>\n",
       "</div>"
      ],
      "text/plain": [
       "   customerID  gender  SeniorCitizen Partner Dependents  tenure PhoneService  \\\n",
       "0  7590-VHVEG  Female              0     Yes         No       1           No   \n",
       "1  5575-GNVDE    Male              0      No         No      34          Yes   \n",
       "2  3668-QPYBK    Male              0      No         No       2          Yes   \n",
       "3  7795-CFOCW    Male              0      No         No      45           No   \n",
       "4  9237-HQITU  Female              0      No         No       2          Yes   \n",
       "\n",
       "      MultipleLines InternetService OnlineSecurity OnlineBackup  \\\n",
       "0  No phone service             DSL             No          Yes   \n",
       "1                No             DSL            Yes           No   \n",
       "2                No             DSL            Yes          Yes   \n",
       "3  No phone service             DSL            Yes           No   \n",
       "4                No     Fiber optic             No           No   \n",
       "\n",
       "  DeviceProtection TechSupport StreamingTV StreamingMovies        Contract  \\\n",
       "0               No          No          No              No  Month-to-month   \n",
       "1              Yes          No          No              No        One year   \n",
       "2               No          No          No              No  Month-to-month   \n",
       "3              Yes         Yes          No              No        One year   \n",
       "4               No          No          No              No  Month-to-month   \n",
       "\n",
       "  PaperlessBilling              PaymentMethod  MonthlyCharges TotalCharges  \\\n",
       "0              Yes           Electronic check           29.85        29.85   \n",
       "1               No               Mailed check           56.95       1889.5   \n",
       "2              Yes               Mailed check           53.85       108.15   \n",
       "3               No  Bank transfer (automatic)           42.30      1840.75   \n",
       "4              Yes           Electronic check           70.70       151.65   \n",
       "\n",
       "  Churn  \n",
       "0    No  \n",
       "1    No  \n",
       "2   Yes  \n",
       "3    No  \n",
       "4   Yes  "
      ]
     },
     "execution_count": 35,
     "metadata": {},
     "output_type": "execute_result"
    }
   ],
   "source": [
    "df = pd.read_csv(\"data/Telco-Customer-Churn.csv\")\n",
    "df.head()"
   ]
  },
  {
   "cell_type": "markdown",
   "metadata": {
    "execution": {
     "iopub.execute_input": "2021-11-05T09:29:45.452316Z",
     "iopub.status.busy": "2021-11-05T09:29:45.451829Z",
     "iopub.status.idle": "2021-11-05T09:29:45.457402Z",
     "shell.execute_reply": "2021-11-05T09:29:45.45623Z",
     "shell.execute_reply.started": "2021-11-05T09:29:45.452256Z"
    }
   },
   "source": [
    "# **2. Data Processing**\n",
    "The overall data quality is quite good. There are no duplicates and outliers. There is only a handful of missing values for TotalCharges which was replaced with 0."
   ]
  },
  {
   "cell_type": "markdown",
   "metadata": {},
   "source": [
    "### 2A. Check data type, missing values and duplicates\n",
    "As TotalCharges is a float and SeniorCitizen is a dummy variable, I have corrected the data type."
   ]
  },
  {
   "cell_type": "code",
   "execution_count": 36,
   "metadata": {
    "execution": {
     "iopub.execute_input": "2021-11-06T07:36:21.424026Z",
     "iopub.status.busy": "2021-11-06T07:36:21.423502Z",
     "iopub.status.idle": "2021-11-06T07:36:21.437217Z",
     "shell.execute_reply": "2021-11-06T07:36:21.436520Z",
     "shell.execute_reply.started": "2021-11-06T07:36:21.423990Z"
    }
   },
   "outputs": [
    {
     "data": {
      "text/plain": [
       "customerID           object\n",
       "gender               object\n",
       "SeniorCitizen         int64\n",
       "Partner              object\n",
       "Dependents           object\n",
       "tenure                int64\n",
       "PhoneService         object\n",
       "MultipleLines        object\n",
       "InternetService      object\n",
       "OnlineSecurity       object\n",
       "OnlineBackup         object\n",
       "DeviceProtection     object\n",
       "TechSupport          object\n",
       "StreamingTV          object\n",
       "StreamingMovies      object\n",
       "Contract             object\n",
       "PaperlessBilling     object\n",
       "PaymentMethod        object\n",
       "MonthlyCharges      float64\n",
       "TotalCharges         object\n",
       "Churn                object\n",
       "dtype: object"
      ]
     },
     "execution_count": 36,
     "metadata": {},
     "output_type": "execute_result"
    }
   ],
   "source": [
    "#check data type\n",
    "df.dtypes"
   ]
  },
  {
   "cell_type": "code",
   "execution_count": 37,
   "metadata": {
    "execution": {
     "iopub.execute_input": "2021-11-06T07:36:21.439967Z",
     "iopub.status.busy": "2021-11-06T07:36:21.439522Z",
     "iopub.status.idle": "2021-11-06T07:36:21.460510Z",
     "shell.execute_reply": "2021-11-06T07:36:21.459559Z",
     "shell.execute_reply.started": "2021-11-06T07:36:21.439937Z"
    }
   },
   "outputs": [],
   "source": [
    "#convert data type\n",
    "df['TotalCharges'] = df['TotalCharges'].str.replace(\" \", \"0\", regex=False) #regex=False means input string is not a regex pattern\n",
    "df['TotalCharges'] = df['TotalCharges'].astype('float64')\n",
    "df['SeniorCitizen'] = df['SeniorCitizen'].astype('object')"
   ]
  },
  {
   "cell_type": "code",
   "execution_count": 38,
   "metadata": {
    "execution": {
     "iopub.execute_input": "2021-11-06T07:36:21.462183Z",
     "iopub.status.busy": "2021-11-06T07:36:21.461890Z",
     "iopub.status.idle": "2021-11-06T07:36:21.471562Z",
     "shell.execute_reply": "2021-11-06T07:36:21.470725Z",
     "shell.execute_reply.started": "2021-11-06T07:36:21.462152Z"
    }
   },
   "outputs": [
    {
     "data": {
      "text/plain": [
       "0"
      ]
     },
     "execution_count": 38,
     "metadata": {},
     "output_type": "execute_result"
    }
   ],
   "source": [
    "#check for duplicate values - no duplicates\n",
    "df['customerID'].duplicated().sum()"
   ]
  },
  {
   "cell_type": "code",
   "execution_count": 39,
   "metadata": {
    "execution": {
     "iopub.execute_input": "2021-11-06T07:36:21.473458Z",
     "iopub.status.busy": "2021-11-06T07:36:21.473039Z",
     "iopub.status.idle": "2021-11-06T07:36:21.491929Z",
     "shell.execute_reply": "2021-11-06T07:36:21.490773Z",
     "shell.execute_reply.started": "2021-11-06T07:36:21.473426Z"
    }
   },
   "outputs": [],
   "source": [
    "#drop irrelevant columns - customerID\n",
    "df.index = df['customerID']\n",
    "df = df.drop(columns='customerID')"
   ]
  },
  {
   "cell_type": "code",
   "execution_count": 40,
   "metadata": {
    "execution": {
     "iopub.execute_input": "2021-11-06T07:36:21.493941Z",
     "iopub.status.busy": "2021-11-06T07:36:21.493276Z",
     "iopub.status.idle": "2021-11-06T07:36:21.512038Z",
     "shell.execute_reply": "2021-11-06T07:36:21.511256Z",
     "shell.execute_reply.started": "2021-11-06T07:36:21.493909Z"
    }
   },
   "outputs": [
    {
     "data": {
      "text/plain": [
       "gender              0\n",
       "SeniorCitizen       0\n",
       "Partner             0\n",
       "Dependents          0\n",
       "tenure              0\n",
       "PhoneService        0\n",
       "MultipleLines       0\n",
       "InternetService     0\n",
       "OnlineSecurity      0\n",
       "OnlineBackup        0\n",
       "DeviceProtection    0\n",
       "TechSupport         0\n",
       "StreamingTV         0\n",
       "StreamingMovies     0\n",
       "Contract            0\n",
       "PaperlessBilling    0\n",
       "PaymentMethod       0\n",
       "MonthlyCharges      0\n",
       "TotalCharges        0\n",
       "Churn               0\n",
       "dtype: int64"
      ]
     },
     "execution_count": 40,
     "metadata": {},
     "output_type": "execute_result"
    }
   ],
   "source": [
    "#check for missing values\n",
    "df.isnull().sum()"
   ]
  },
  {
   "cell_type": "markdown",
   "metadata": {},
   "source": [
    "### 2B. Check for outliers\n",
    "As seen from the summary stats table and boxplot below:\n",
    "- tenure is positively skewed as mean is greater than median monthly charges\n",
    "- MonthlyCharges is negatively skewed as mean is lower than median monthly charges\n",
    "- TotalCharges is positively skewed as mean is greater than median total charges\n",
    "- Based on the IQR formula, there are no outliers"
   ]
  },
  {
   "cell_type": "code",
   "execution_count": 41,
   "metadata": {
    "execution": {
     "iopub.execute_input": "2021-11-06T07:36:21.514200Z",
     "iopub.status.busy": "2021-11-06T07:36:21.513676Z",
     "iopub.status.idle": "2021-11-06T07:36:21.544012Z",
     "shell.execute_reply": "2021-11-06T07:36:21.543460Z",
     "shell.execute_reply.started": "2021-11-06T07:36:21.514150Z"
    }
   },
   "outputs": [
    {
     "data": {
      "text/html": [
       "<div>\n",
       "<style scoped>\n",
       "    .dataframe tbody tr th:only-of-type {\n",
       "        vertical-align: middle;\n",
       "    }\n",
       "\n",
       "    .dataframe tbody tr th {\n",
       "        vertical-align: top;\n",
       "    }\n",
       "\n",
       "    .dataframe thead th {\n",
       "        text-align: right;\n",
       "    }\n",
       "</style>\n",
       "<table border=\"1\" class=\"dataframe\">\n",
       "  <thead>\n",
       "    <tr style=\"text-align: right;\">\n",
       "      <th></th>\n",
       "      <th>tenure</th>\n",
       "      <th>MonthlyCharges</th>\n",
       "      <th>TotalCharges</th>\n",
       "    </tr>\n",
       "  </thead>\n",
       "  <tbody>\n",
       "    <tr>\n",
       "      <td>count</td>\n",
       "      <td>7043.000000</td>\n",
       "      <td>7043.000000</td>\n",
       "      <td>7043.000000</td>\n",
       "    </tr>\n",
       "    <tr>\n",
       "      <td>mean</td>\n",
       "      <td>32.371149</td>\n",
       "      <td>64.761692</td>\n",
       "      <td>2279.734304</td>\n",
       "    </tr>\n",
       "    <tr>\n",
       "      <td>std</td>\n",
       "      <td>24.559481</td>\n",
       "      <td>30.090047</td>\n",
       "      <td>2266.794470</td>\n",
       "    </tr>\n",
       "    <tr>\n",
       "      <td>min</td>\n",
       "      <td>0.000000</td>\n",
       "      <td>18.250000</td>\n",
       "      <td>0.000000</td>\n",
       "    </tr>\n",
       "    <tr>\n",
       "      <td>25%</td>\n",
       "      <td>9.000000</td>\n",
       "      <td>35.500000</td>\n",
       "      <td>398.550000</td>\n",
       "    </tr>\n",
       "    <tr>\n",
       "      <td>50%</td>\n",
       "      <td>29.000000</td>\n",
       "      <td>70.350000</td>\n",
       "      <td>1394.550000</td>\n",
       "    </tr>\n",
       "    <tr>\n",
       "      <td>75%</td>\n",
       "      <td>55.000000</td>\n",
       "      <td>89.850000</td>\n",
       "      <td>3786.600000</td>\n",
       "    </tr>\n",
       "    <tr>\n",
       "      <td>max</td>\n",
       "      <td>72.000000</td>\n",
       "      <td>118.750000</td>\n",
       "      <td>8684.800000</td>\n",
       "    </tr>\n",
       "  </tbody>\n",
       "</table>\n",
       "</div>"
      ],
      "text/plain": [
       "            tenure  MonthlyCharges  TotalCharges\n",
       "count  7043.000000     7043.000000   7043.000000\n",
       "mean     32.371149       64.761692   2279.734304\n",
       "std      24.559481       30.090047   2266.794470\n",
       "min       0.000000       18.250000      0.000000\n",
       "25%       9.000000       35.500000    398.550000\n",
       "50%      29.000000       70.350000   1394.550000\n",
       "75%      55.000000       89.850000   3786.600000\n",
       "max      72.000000      118.750000   8684.800000"
      ]
     },
     "execution_count": 41,
     "metadata": {},
     "output_type": "execute_result"
    }
   ],
   "source": [
    "#check outliers using mean and median\n",
    "df.describe()"
   ]
  },
  {
   "cell_type": "code",
   "execution_count": 42,
   "metadata": {
    "execution": {
     "iopub.execute_input": "2021-11-06T07:36:21.545775Z",
     "iopub.status.busy": "2021-11-06T07:36:21.545206Z",
     "iopub.status.idle": "2021-11-06T07:36:21.985578Z",
     "shell.execute_reply": "2021-11-06T07:36:21.984836Z",
     "shell.execute_reply.started": "2021-11-06T07:36:21.545738Z"
    }
   },
   "outputs": [
    {
     "data": {
      "image/png": "[encoded data removed]",
      "text/plain": [
       "<Figure size 1152x288 with 3 Axes>"
      ]
     },
     "metadata": {
      "needs_background": "light"
     },
     "output_type": "display_data"
    }
   ],
   "source": [
    "#check outliers using boxplot\n",
    "numeric_col = ['tenure', 'MonthlyCharges', 'TotalCharges']\n",
    "fig, ax = plt.subplots(1,3, figsize=(16, 4)) \n",
    "\n",
    "#enumerate adds a counter to iterable\n",
    "for n, each_col in enumerate(numeric_col):\n",
    "    ax[n].boxplot(df[each_col]) \n",
    "    ax[n].set_title(each_col)"
   ]
  },
  {
   "cell_type": "markdown",
   "metadata": {},
   "source": [
    "# 3. Exploratory Data Analysis"
   ]
  },
  {
   "cell_type": "code",
   "execution_count": 43,
   "metadata": {
    "execution": {
     "iopub.execute_input": "2021-11-06T07:36:21.987204Z",
     "iopub.status.busy": "2021-11-06T07:36:21.986811Z",
     "iopub.status.idle": "2021-11-06T07:36:21.995163Z",
     "shell.execute_reply": "2021-11-06T07:36:21.994269Z",
     "shell.execute_reply.started": "2021-11-06T07:36:21.987173Z"
    }
   },
   "outputs": [
    {
     "name": "stdout",
     "output_type": "stream",
     "text": [
      "['tenure', 'MonthlyCharges', 'TotalCharges']\n",
      "['gender', 'SeniorCitizen', 'Partner', 'Dependents', 'PhoneService', 'MultipleLines', 'InternetService', 'OnlineSecurity', 'OnlineBackup', 'DeviceProtection', 'TechSupport', 'StreamingTV', 'StreamingMovies', 'Contract', 'PaperlessBilling', 'PaymentMethod', 'Churn']\n"
     ]
    }
   ],
   "source": [
    "numerical_col = []\n",
    "cat_col = []\n",
    "for each_feature in df.columns:\n",
    "    if df[each_feature].dtypes == 'int64' or df[each_feature].dtypes == 'float64':\n",
    "        numerical_col.append(each_feature)\n",
    "    else:\n",
    "        cat_col.append(each_feature)\n",
    "        \n",
    "print(numerical_col)\n",
    "print(cat_col)"
   ]
  },
  {
   "cell_type": "markdown",
   "metadata": {},
   "source": [
    "### 3A. Understand data distribution for each categorical variable\n",
    "- In terms of demographic, this dataset is mainly made up customers who are young and has no dependents. \n",
    "- As for the firm's core services, 90% of the customers are subscribed to the firm's phone service. Out of these customers, majority of them own multiple lines. 77% of customers have subscribed to the firm's Internet service and out of these customers, 44% of customers are Fibre Optic users and 34% are DSL users.\n",
    "- On average, across all the add-on service , 78% of customers do not subscribe or do not need add-on services such as Online Security, Online Backup, Device Protection, Tech Support, StreamingTV and StreamingMovies \n",
    "- Month-to-month contracts are more popular than 1-year and 2-year contracts\n",
    "- This dataset has an unequal class distribution. 73% of the data represents existing customers while only 27% of the data represents churned customer. This could create an imbalanced classification issue where it will be more challeneging for the model to learn the characterisitics of the minority class (churned customers)."
   ]
  },
  {
   "cell_type": "code",
   "execution_count": 44,
   "metadata": {
    "execution": {
     "iopub.execute_input": "2021-11-06T07:36:21.997100Z",
     "iopub.status.busy": "2021-11-06T07:36:21.996689Z",
     "iopub.status.idle": "2021-11-06T07:36:24.203498Z",
     "shell.execute_reply": "2021-11-06T07:36:24.202591Z",
     "shell.execute_reply.started": "2021-11-06T07:36:21.997056Z"
    }
   },
   "outputs": [
    {
     "data": {
      "image/png": "[encoded data removed]",
      "text/plain": [
       "<Figure size 1152x1296 with 16 Axes>"
      ]
     },
     "metadata": {},
     "output_type": "display_data"
    }
   ],
   "source": [
    "fig = plt.figure (figsize=(16, 18))\n",
    "for y, each_feature in enumerate(cat_col[1:], start=1): #counter starts at 1, required by add_subplot\n",
    "    x = fig.add_subplot(5,4,y) #5by4 plot, ax1 is subplot at position y\n",
    "    x.pie(df.groupby(each_feature).size(), labels=df[each_feature].unique(), autopct=lambda p: '{:.0f}%'.format(p)) #autopct is the label for piechart, requires function\n",
    "    x.set_title(each_feature) #set title for each subplot\n"
   ]
  },
  {
   "cell_type": "markdown",
   "metadata": {
    "execution": {
     "iopub.execute_input": "2021-11-06T05:46:47.718545Z",
     "iopub.status.busy": "2021-11-06T05:46:47.717130Z",
     "iopub.status.idle": "2021-11-06T05:46:47.727882Z",
     "shell.execute_reply": "2021-11-06T05:46:47.726455Z",
     "shell.execute_reply.started": "2021-11-06T05:46:47.718477Z"
    }
   },
   "source": [
    "### 3B. Understand relationship between numerical independent variable with dependent variable\n",
    "- Churn customers have a shorter median tenure of 10 months, compared to non-churn customers who have a longer median tenure of 38 months\n",
    "- Churn customers have a higher median monthly charge bill of \\\\$79.6 compared to non-churn customers who have a lower median monthly bill of \\\\$64.4.\n",
    "- Yet, churn customers have a lower median total charge bill of \\\\$703.6 compared to non-churn customers who have a higher median total bill of \\\\$1079.5. This seems to contradict the findings from the monthly charge bill. A possible reason could be that churn customers have shorter tenure where they churn prematurely before the end of the fiscal period, resulting in lower total charges."
   ]
  },
  {
   "cell_type": "code",
   "execution_count": 45,
   "metadata": {
    "execution": {
     "iopub.execute_input": "2021-11-06T07:36:24.205642Z",
     "iopub.status.busy": "2021-11-06T07:36:24.204800Z",
     "iopub.status.idle": "2021-11-06T07:36:24.719409Z",
     "shell.execute_reply": "2021-11-06T07:36:24.718762Z",
     "shell.execute_reply.started": "2021-11-06T07:36:24.205609Z"
    }
   },
   "outputs": [
    {
     "data": {
      "image/png": "[encoded data removed]",
      "text/plain": [
       "<Figure size 1152x432 with 3 Axes>"
      ]
     },
     "metadata": {
      "needs_background": "light"
     },
     "output_type": "display_data"
    }
   ],
   "source": [
    "#numerical variables\n",
    "fig, ax = plt.subplots(1,3, figsize=(16, 6)) \n",
    "for n, each_feature in enumerate(numeric_col):\n",
    "    box_plot = sns.boxplot(ax=ax[n], y=each_feature, x = 'Churn', data=df)\n",
    "    \n",
    "    medians = round(df.groupby(df['Churn'])[each_feature].median(),1)\n",
    "    vertical_offset = df[each_feature].median() * 0.05 # offset from median for display\n",
    "\n",
    "    for xtick in box_plot.get_xticks():\n",
    "        box_plot.text(xtick,medians[xtick] + vertical_offset,medians[xtick], \n",
    "                horizontalalignment='center',size='small',color='w',weight='semibold')"
   ]
  },
  {
   "cell_type": "markdown",
   "metadata": {},
   "source": [
    "# 4. Classification Models"
   ]
  },
  {
   "cell_type": "markdown",
   "metadata": {},
   "source": [
    "### 4A. Prepare data for analysis"
   ]
  },
  {
   "cell_type": "code",
   "execution_count": 46,
   "metadata": {
    "execution": {
     "iopub.execute_input": "2021-11-06T07:36:24.722887Z",
     "iopub.status.busy": "2021-11-06T07:36:24.722461Z",
     "iopub.status.idle": "2021-11-06T07:36:24.814742Z",
     "shell.execute_reply": "2021-11-06T07:36:24.813286Z",
     "shell.execute_reply.started": "2021-11-06T07:36:24.722851Z"
    }
   },
   "outputs": [
    {
     "data": {
      "text/html": [
       "<div>\n",
       "<style scoped>\n",
       "    .dataframe tbody tr th:only-of-type {\n",
       "        vertical-align: middle;\n",
       "    }\n",
       "\n",
       "    .dataframe tbody tr th {\n",
       "        vertical-align: top;\n",
       "    }\n",
       "\n",
       "    .dataframe thead th {\n",
       "        text-align: right;\n",
       "    }\n",
       "</style>\n",
       "<table border=\"1\" class=\"dataframe\">\n",
       "  <thead>\n",
       "    <tr style=\"text-align: right;\">\n",
       "      <th></th>\n",
       "      <th>gender</th>\n",
       "      <th>SeniorCitizen</th>\n",
       "      <th>Partner</th>\n",
       "      <th>Dependents</th>\n",
       "      <th>tenure</th>\n",
       "      <th>PhoneService</th>\n",
       "      <th>MultipleLines</th>\n",
       "      <th>InternetService</th>\n",
       "      <th>OnlineSecurity</th>\n",
       "      <th>OnlineBackup</th>\n",
       "      <th>DeviceProtection</th>\n",
       "      <th>TechSupport</th>\n",
       "      <th>StreamingTV</th>\n",
       "      <th>StreamingMovies</th>\n",
       "      <th>Contract</th>\n",
       "      <th>PaperlessBilling</th>\n",
       "      <th>PaymentMethod</th>\n",
       "      <th>MonthlyCharges</th>\n",
       "      <th>TotalCharges</th>\n",
       "      <th>Churn</th>\n",
       "    </tr>\n",
       "    <tr>\n",
       "      <th>customerID</th>\n",
       "      <th></th>\n",
       "      <th></th>\n",
       "      <th></th>\n",
       "      <th></th>\n",
       "      <th></th>\n",
       "      <th></th>\n",
       "      <th></th>\n",
       "      <th></th>\n",
       "      <th></th>\n",
       "      <th></th>\n",
       "      <th></th>\n",
       "      <th></th>\n",
       "      <th></th>\n",
       "      <th></th>\n",
       "      <th></th>\n",
       "      <th></th>\n",
       "      <th></th>\n",
       "      <th></th>\n",
       "      <th></th>\n",
       "      <th></th>\n",
       "    </tr>\n",
       "  </thead>\n",
       "  <tbody>\n",
       "    <tr>\n",
       "      <td>7590-VHVEG</td>\n",
       "      <td>0</td>\n",
       "      <td>0</td>\n",
       "      <td>1</td>\n",
       "      <td>0</td>\n",
       "      <td>1</td>\n",
       "      <td>0</td>\n",
       "      <td>1</td>\n",
       "      <td>0</td>\n",
       "      <td>0</td>\n",
       "      <td>2</td>\n",
       "      <td>0</td>\n",
       "      <td>0</td>\n",
       "      <td>0</td>\n",
       "      <td>0</td>\n",
       "      <td>0</td>\n",
       "      <td>1</td>\n",
       "      <td>2</td>\n",
       "      <td>29.85</td>\n",
       "      <td>29.85</td>\n",
       "      <td>0</td>\n",
       "    </tr>\n",
       "    <tr>\n",
       "      <td>5575-GNVDE</td>\n",
       "      <td>1</td>\n",
       "      <td>0</td>\n",
       "      <td>0</td>\n",
       "      <td>0</td>\n",
       "      <td>34</td>\n",
       "      <td>1</td>\n",
       "      <td>0</td>\n",
       "      <td>0</td>\n",
       "      <td>2</td>\n",
       "      <td>0</td>\n",
       "      <td>2</td>\n",
       "      <td>0</td>\n",
       "      <td>0</td>\n",
       "      <td>0</td>\n",
       "      <td>1</td>\n",
       "      <td>0</td>\n",
       "      <td>3</td>\n",
       "      <td>56.95</td>\n",
       "      <td>1889.50</td>\n",
       "      <td>0</td>\n",
       "    </tr>\n",
       "    <tr>\n",
       "      <td>3668-QPYBK</td>\n",
       "      <td>1</td>\n",
       "      <td>0</td>\n",
       "      <td>0</td>\n",
       "      <td>0</td>\n",
       "      <td>2</td>\n",
       "      <td>1</td>\n",
       "      <td>0</td>\n",
       "      <td>0</td>\n",
       "      <td>2</td>\n",
       "      <td>2</td>\n",
       "      <td>0</td>\n",
       "      <td>0</td>\n",
       "      <td>0</td>\n",
       "      <td>0</td>\n",
       "      <td>0</td>\n",
       "      <td>1</td>\n",
       "      <td>3</td>\n",
       "      <td>53.85</td>\n",
       "      <td>108.15</td>\n",
       "      <td>1</td>\n",
       "    </tr>\n",
       "    <tr>\n",
       "      <td>7795-CFOCW</td>\n",
       "      <td>1</td>\n",
       "      <td>0</td>\n",
       "      <td>0</td>\n",
       "      <td>0</td>\n",
       "      <td>45</td>\n",
       "      <td>0</td>\n",
       "      <td>1</td>\n",
       "      <td>0</td>\n",
       "      <td>2</td>\n",
       "      <td>0</td>\n",
       "      <td>2</td>\n",
       "      <td>2</td>\n",
       "      <td>0</td>\n",
       "      <td>0</td>\n",
       "      <td>1</td>\n",
       "      <td>0</td>\n",
       "      <td>0</td>\n",
       "      <td>42.30</td>\n",
       "      <td>1840.75</td>\n",
       "      <td>0</td>\n",
       "    </tr>\n",
       "    <tr>\n",
       "      <td>9237-HQITU</td>\n",
       "      <td>0</td>\n",
       "      <td>0</td>\n",
       "      <td>0</td>\n",
       "      <td>0</td>\n",
       "      <td>2</td>\n",
       "      <td>1</td>\n",
       "      <td>0</td>\n",
       "      <td>1</td>\n",
       "      <td>0</td>\n",
       "      <td>0</td>\n",
       "      <td>0</td>\n",
       "      <td>0</td>\n",
       "      <td>0</td>\n",
       "      <td>0</td>\n",
       "      <td>0</td>\n",
       "      <td>1</td>\n",
       "      <td>2</td>\n",
       "      <td>70.70</td>\n",
       "      <td>151.65</td>\n",
       "      <td>1</td>\n",
       "    </tr>\n",
       "  </tbody>\n",
       "</table>\n",
       "</div>"
      ],
      "text/plain": [
       "            gender  SeniorCitizen  Partner  Dependents  tenure  PhoneService  \\\n",
       "customerID                                                                     \n",
       "7590-VHVEG       0              0        1           0       1             0   \n",
       "5575-GNVDE       1              0        0           0      34             1   \n",
       "3668-QPYBK       1              0        0           0       2             1   \n",
       "7795-CFOCW       1              0        0           0      45             0   \n",
       "9237-HQITU       0              0        0           0       2             1   \n",
       "\n",
       "            MultipleLines  InternetService  OnlineSecurity  OnlineBackup  \\\n",
       "customerID                                                                 \n",
       "7590-VHVEG              1                0               0             2   \n",
       "5575-GNVDE              0                0               2             0   \n",
       "3668-QPYBK              0                0               2             2   \n",
       "7795-CFOCW              1                0               2             0   \n",
       "9237-HQITU              0                1               0             0   \n",
       "\n",
       "            DeviceProtection  TechSupport  StreamingTV  StreamingMovies  \\\n",
       "customerID                                                                \n",
       "7590-VHVEG                 0            0            0                0   \n",
       "5575-GNVDE                 2            0            0                0   \n",
       "3668-QPYBK                 0            0            0                0   \n",
       "7795-CFOCW                 2            2            0                0   \n",
       "9237-HQITU                 0            0            0                0   \n",
       "\n",
       "            Contract  PaperlessBilling  PaymentMethod  MonthlyCharges  \\\n",
       "customerID                                                              \n",
       "7590-VHVEG         0                 1              2           29.85   \n",
       "5575-GNVDE         1                 0              3           56.95   \n",
       "3668-QPYBK         0                 1              3           53.85   \n",
       "7795-CFOCW         1                 0              0           42.30   \n",
       "9237-HQITU         0                 1              2           70.70   \n",
       "\n",
       "            TotalCharges  Churn  \n",
       "customerID                       \n",
       "7590-VHVEG         29.85      0  \n",
       "5575-GNVDE       1889.50      0  \n",
       "3668-QPYBK        108.15      1  \n",
       "7795-CFOCW       1840.75      0  \n",
       "9237-HQITU        151.65      1  "
      ]
     },
     "execution_count": 46,
     "metadata": {},
     "output_type": "execute_result"
    }
   ],
   "source": [
    "#perform encoding for analysis\n",
    "for each in cat_col:\n",
    "    df[each] = df[each].astype('category')\n",
    "    df[each] = df[each].cat.codes\n",
    "    \n",
    "df.head()"
   ]
  },
  {
   "cell_type": "code",
   "execution_count": 47,
   "metadata": {
    "execution": {
     "iopub.execute_input": "2021-11-06T07:36:24.817046Z",
     "iopub.status.busy": "2021-11-06T07:36:24.816560Z",
     "iopub.status.idle": "2021-11-06T07:36:24.839344Z",
     "shell.execute_reply": "2021-11-06T07:36:24.838126Z",
     "shell.execute_reply.started": "2021-11-06T07:36:24.816994Z"
    }
   },
   "outputs": [],
   "source": [
    "#split data into test and train\n",
    "x = df.iloc[:,0:-1]\n",
    "y = df.iloc[:,-1]\n",
    "x_train, x_test, y_train, y_test = train_test_split(x, y, test_size=0.3, random_state=4)"
   ]
  },
  {
   "cell_type": "markdown",
   "metadata": {},
   "source": [
    "### 4B. Correcting imbalanced class distribution\n",
    "Since it was detected that the dataset has unequal class distribution, I have performed oversampling to duplicate samples from the minority class to create equally distributed classes in the training dataset. "
   ]
  },
  {
   "cell_type": "code",
   "execution_count": 48,
   "metadata": {
    "execution": {
     "iopub.execute_input": "2021-11-06T07:36:24.842099Z",
     "iopub.status.busy": "2021-11-06T07:36:24.841824Z",
     "iopub.status.idle": "2021-11-06T07:36:25.166745Z",
     "shell.execute_reply": "2021-11-06T07:36:25.165816Z",
     "shell.execute_reply.started": "2021-11-06T07:36:24.842068Z"
    }
   },
   "outputs": [
    {
     "name": "stdout",
     "output_type": "stream",
     "text": [
      "what we had before\n",
      "(4930, 19) (4930,) (2113, 19) (2113,)\n",
      "\n",
      "what we have now after oversampling\n",
      "(7222, 19) (7222,) (2113, 19) (2113,)\n",
      "\n",
      "new class distribution\n"
     ]
    },
    {
     "data": {
      "text/plain": [
       "1    3611\n",
       "0    3611\n",
       "Name: Churn, dtype: int64"
      ]
     },
     "execution_count": 48,
     "metadata": {},
     "output_type": "execute_result"
    }
   ],
   "source": [
    "from imblearn.over_sampling import SMOTENC\n",
    "\n",
    "sm = SMOTENC(categorical_features=[0,16], random_state = 2)\n",
    "x_train_sm, y_train_sm = sm.fit_resample(x_train, y_train)\n",
    "\n",
    "# what we had before\n",
    "print(\"what we had before\")\n",
    "print(x_train.shape, y_train.shape, x_test.shape, y_test.shape)\n",
    "\n",
    "# what we have now - an increase in training data, does not affect the test data\n",
    "print(\"\\nwhat we have now after oversampling\")\n",
    "print(x_train_sm.shape, y_train_sm.shape, x_test.shape, y_test.shape)\n",
    "\n",
    "#class distribution\n",
    "print(\"\\nnew class distribution\")\n",
    "y_train_sm.value_counts()"
   ]
  },
  {
   "cell_type": "markdown",
   "metadata": {},
   "source": [
    "### 4C. Model #1 - Logistic Regression\n",
    "Logistic regression is a classification algorithm that predicts a binary outcome (churn vs non-churn). The dependent variable is categorical while the independent variables can be continuous or categorical. "
   ]
  },
  {
   "cell_type": "markdown",
   "metadata": {},
   "source": [
    "**Verifying Assumption #1: The independent variables are linearly related to the log odds**\n",
    "\n",
    "Logistic Regression assumes that the continuous dependent variables are linearly related to the log odds of the dependent variable. To verify this assumption, I have plot the continuous dependent predictor - monthly charges and total charges to the log odds of the dependent variable. We would expect a flat top and bottom with a increasing/decreasing middle. Indeed, we have validated the assumption that the 2 continuous predictor variables are linearly related to the log odds of the dependent variable."
   ]
  },
  {
   "cell_type": "code",
   "execution_count": 49,
   "metadata": {
    "execution": {
     "iopub.execute_input": "2021-11-06T07:36:25.168324Z",
     "iopub.status.busy": "2021-11-06T07:36:25.168052Z",
     "iopub.status.idle": "2021-11-06T07:36:42.599274Z",
     "shell.execute_reply": "2021-11-06T07:36:42.598477Z",
     "shell.execute_reply.started": "2021-11-06T07:36:25.168292Z"
    }
   },
   "outputs": [
    {
     "data": {
      "text/plain": [
       "Text(0.5, 1.0, 'Monthly Charges Log Odds Linear Plot')"
      ]
     },
     "execution_count": 49,
     "metadata": {},
     "output_type": "execute_result"
    },
    {
     "data": {
      "image/png": "[encoded data removed]",
      "text/plain": [
       "<Figure size 432x288 with 1 Axes>"
      ]
     },
     "metadata": {
      "needs_background": "light"
     },
     "output_type": "display_data"
    }
   ],
   "source": [
    "sns.regplot(x= 'MonthlyCharges', y= 'Churn', data= df, logistic= True).set_title(\"Monthly Charges Log Odds Linear Plot\")"
   ]
  },
  {
   "cell_type": "code",
   "execution_count": 50,
   "metadata": {
    "execution": {
     "iopub.execute_input": "2021-11-06T07:36:42.603038Z",
     "iopub.status.busy": "2021-11-06T07:36:42.602794Z",
     "iopub.status.idle": "2021-11-06T07:37:00.611216Z",
     "shell.execute_reply": "2021-11-06T07:37:00.610595Z",
     "shell.execute_reply.started": "2021-11-06T07:36:42.603006Z"
    }
   },
   "outputs": [
    {
     "data": {
      "text/plain": [
       "Text(0.5, 1.0, 'Total Charges Log Odds Linear Plot')"
      ]
     },
     "execution_count": 50,
     "metadata": {},
     "output_type": "execute_result"
    },
    {
     "data": {
      "image/png": "[encoded data removed]",
      "text/plain": [
       "<Figure size 432x288 with 1 Axes>"
      ]
     },
     "metadata": {
      "needs_background": "light"
     },
     "output_type": "display_data"
    }
   ],
   "source": [
    "sns.regplot(x= 'TotalCharges', y= 'Churn', data= df, logistic= True).set_title(\"Total Charges Log Odds Linear Plot\")"
   ]
  },
  {
   "cell_type": "markdown",
   "metadata": {},
   "source": [
    "**Verifying Assumption #2: There is little to no multicollinearity between the independent variables**\n",
    "\n",
    "Logistic Regression also assumes little to no multicollinearity. I have tested this by looking at the correlation between independent variables with Spearman and computed the variance inflation factor (VIF) score. In general, correlation > 0.7 and  VIF>10 indicates presence of multi-collinearity. As seen below, TotalCharges, Tenure, Phone Service and MonthlyCharges are at high risk of multi-collinearity and are removed from the dataset [1, 2, 6]. "
   ]
  },
  {
   "cell_type": "code",
   "execution_count": 51,
   "metadata": {
    "execution": {
     "iopub.execute_input": "2021-11-06T07:37:00.613188Z",
     "iopub.status.busy": "2021-11-06T07:37:00.612865Z",
     "iopub.status.idle": "2021-11-06T07:37:00.668020Z",
     "shell.execute_reply": "2021-11-06T07:37:00.667083Z",
     "shell.execute_reply.started": "2021-11-06T07:37:00.613131Z"
    },
    "scrolled": false
   },
   "outputs": [
    {
     "data": {
      "text/html": [
       "<style  type=\"text/css\" >\n",
       "    #T_9981018c_3eea_11ec_9a71_54e1ad6086fcrow0_col0 {\n",
       "            background-color:  red;\n",
       "        }    #T_9981018c_3eea_11ec_9a71_54e1ad6086fcrow0_col1 {\n",
       "            background-color:  white;\n",
       "        }    #T_9981018c_3eea_11ec_9a71_54e1ad6086fcrow0_col2 {\n",
       "            background-color:  white;\n",
       "        }    #T_9981018c_3eea_11ec_9a71_54e1ad6086fcrow0_col3 {\n",
       "            background-color:  white;\n",
       "        }    #T_9981018c_3eea_11ec_9a71_54e1ad6086fcrow0_col4 {\n",
       "            background-color:  white;\n",
       "        }    #T_9981018c_3eea_11ec_9a71_54e1ad6086fcrow0_col5 {\n",
       "            background-color:  white;\n",
       "        }    #T_9981018c_3eea_11ec_9a71_54e1ad6086fcrow0_col6 {\n",
       "            background-color:  white;\n",
       "        }    #T_9981018c_3eea_11ec_9a71_54e1ad6086fcrow0_col7 {\n",
       "            background-color:  white;\n",
       "        }    #T_9981018c_3eea_11ec_9a71_54e1ad6086fcrow0_col8 {\n",
       "            background-color:  white;\n",
       "        }    #T_9981018c_3eea_11ec_9a71_54e1ad6086fcrow0_col9 {\n",
       "            background-color:  white;\n",
       "        }    #T_9981018c_3eea_11ec_9a71_54e1ad6086fcrow0_col10 {\n",
       "            background-color:  white;\n",
       "        }    #T_9981018c_3eea_11ec_9a71_54e1ad6086fcrow0_col11 {\n",
       "            background-color:  white;\n",
       "        }    #T_9981018c_3eea_11ec_9a71_54e1ad6086fcrow0_col12 {\n",
       "            background-color:  white;\n",
       "        }    #T_9981018c_3eea_11ec_9a71_54e1ad6086fcrow0_col13 {\n",
       "            background-color:  white;\n",
       "        }    #T_9981018c_3eea_11ec_9a71_54e1ad6086fcrow0_col14 {\n",
       "            background-color:  white;\n",
       "        }    #T_9981018c_3eea_11ec_9a71_54e1ad6086fcrow0_col15 {\n",
       "            background-color:  white;\n",
       "        }    #T_9981018c_3eea_11ec_9a71_54e1ad6086fcrow0_col16 {\n",
       "            background-color:  white;\n",
       "        }    #T_9981018c_3eea_11ec_9a71_54e1ad6086fcrow0_col17 {\n",
       "            background-color:  white;\n",
       "        }    #T_9981018c_3eea_11ec_9a71_54e1ad6086fcrow0_col18 {\n",
       "            background-color:  white;\n",
       "        }    #T_9981018c_3eea_11ec_9a71_54e1ad6086fcrow1_col0 {\n",
       "            background-color:  white;\n",
       "        }    #T_9981018c_3eea_11ec_9a71_54e1ad6086fcrow1_col1 {\n",
       "            background-color:  red;\n",
       "        }    #T_9981018c_3eea_11ec_9a71_54e1ad6086fcrow1_col2 {\n",
       "            background-color:  white;\n",
       "        }    #T_9981018c_3eea_11ec_9a71_54e1ad6086fcrow1_col3 {\n",
       "            background-color:  white;\n",
       "        }    #T_9981018c_3eea_11ec_9a71_54e1ad6086fcrow1_col4 {\n",
       "            background-color:  white;\n",
       "        }    #T_9981018c_3eea_11ec_9a71_54e1ad6086fcrow1_col5 {\n",
       "            background-color:  white;\n",
       "        }    #T_9981018c_3eea_11ec_9a71_54e1ad6086fcrow1_col6 {\n",
       "            background-color:  white;\n",
       "        }    #T_9981018c_3eea_11ec_9a71_54e1ad6086fcrow1_col7 {\n",
       "            background-color:  white;\n",
       "        }    #T_9981018c_3eea_11ec_9a71_54e1ad6086fcrow1_col8 {\n",
       "            background-color:  white;\n",
       "        }    #T_9981018c_3eea_11ec_9a71_54e1ad6086fcrow1_col9 {\n",
       "            background-color:  white;\n",
       "        }    #T_9981018c_3eea_11ec_9a71_54e1ad6086fcrow1_col10 {\n",
       "            background-color:  white;\n",
       "        }    #T_9981018c_3eea_11ec_9a71_54e1ad6086fcrow1_col11 {\n",
       "            background-color:  white;\n",
       "        }    #T_9981018c_3eea_11ec_9a71_54e1ad6086fcrow1_col12 {\n",
       "            background-color:  white;\n",
       "        }    #T_9981018c_3eea_11ec_9a71_54e1ad6086fcrow1_col13 {\n",
       "            background-color:  white;\n",
       "        }    #T_9981018c_3eea_11ec_9a71_54e1ad6086fcrow1_col14 {\n",
       "            background-color:  white;\n",
       "        }    #T_9981018c_3eea_11ec_9a71_54e1ad6086fcrow1_col15 {\n",
       "            background-color:  white;\n",
       "        }    #T_9981018c_3eea_11ec_9a71_54e1ad6086fcrow1_col16 {\n",
       "            background-color:  white;\n",
       "        }    #T_9981018c_3eea_11ec_9a71_54e1ad6086fcrow1_col17 {\n",
       "            background-color:  white;\n",
       "        }    #T_9981018c_3eea_11ec_9a71_54e1ad6086fcrow1_col18 {\n",
       "            background-color:  white;\n",
       "        }    #T_9981018c_3eea_11ec_9a71_54e1ad6086fcrow2_col0 {\n",
       "            background-color:  white;\n",
       "        }    #T_9981018c_3eea_11ec_9a71_54e1ad6086fcrow2_col1 {\n",
       "            background-color:  white;\n",
       "        }    #T_9981018c_3eea_11ec_9a71_54e1ad6086fcrow2_col2 {\n",
       "            background-color:  red;\n",
       "        }    #T_9981018c_3eea_11ec_9a71_54e1ad6086fcrow2_col3 {\n",
       "            background-color:  white;\n",
       "        }    #T_9981018c_3eea_11ec_9a71_54e1ad6086fcrow2_col4 {\n",
       "            background-color:  white;\n",
       "        }    #T_9981018c_3eea_11ec_9a71_54e1ad6086fcrow2_col5 {\n",
       "            background-color:  white;\n",
       "        }    #T_9981018c_3eea_11ec_9a71_54e1ad6086fcrow2_col6 {\n",
       "            background-color:  white;\n",
       "        }    #T_9981018c_3eea_11ec_9a71_54e1ad6086fcrow2_col7 {\n",
       "            background-color:  white;\n",
       "        }    #T_9981018c_3eea_11ec_9a71_54e1ad6086fcrow2_col8 {\n",
       "            background-color:  white;\n",
       "        }    #T_9981018c_3eea_11ec_9a71_54e1ad6086fcrow2_col9 {\n",
       "            background-color:  white;\n",
       "        }    #T_9981018c_3eea_11ec_9a71_54e1ad6086fcrow2_col10 {\n",
       "            background-color:  white;\n",
       "        }    #T_9981018c_3eea_11ec_9a71_54e1ad6086fcrow2_col11 {\n",
       "            background-color:  white;\n",
       "        }    #T_9981018c_3eea_11ec_9a71_54e1ad6086fcrow2_col12 {\n",
       "            background-color:  white;\n",
       "        }    #T_9981018c_3eea_11ec_9a71_54e1ad6086fcrow2_col13 {\n",
       "            background-color:  white;\n",
       "        }    #T_9981018c_3eea_11ec_9a71_54e1ad6086fcrow2_col14 {\n",
       "            background-color:  white;\n",
       "        }    #T_9981018c_3eea_11ec_9a71_54e1ad6086fcrow2_col15 {\n",
       "            background-color:  white;\n",
       "        }    #T_9981018c_3eea_11ec_9a71_54e1ad6086fcrow2_col16 {\n",
       "            background-color:  white;\n",
       "        }    #T_9981018c_3eea_11ec_9a71_54e1ad6086fcrow2_col17 {\n",
       "            background-color:  white;\n",
       "        }    #T_9981018c_3eea_11ec_9a71_54e1ad6086fcrow2_col18 {\n",
       "            background-color:  white;\n",
       "        }    #T_9981018c_3eea_11ec_9a71_54e1ad6086fcrow3_col0 {\n",
       "            background-color:  white;\n",
       "        }    #T_9981018c_3eea_11ec_9a71_54e1ad6086fcrow3_col1 {\n",
       "            background-color:  white;\n",
       "        }    #T_9981018c_3eea_11ec_9a71_54e1ad6086fcrow3_col2 {\n",
       "            background-color:  white;\n",
       "        }    #T_9981018c_3eea_11ec_9a71_54e1ad6086fcrow3_col3 {\n",
       "            background-color:  red;\n",
       "        }    #T_9981018c_3eea_11ec_9a71_54e1ad6086fcrow3_col4 {\n",
       "            background-color:  white;\n",
       "        }    #T_9981018c_3eea_11ec_9a71_54e1ad6086fcrow3_col5 {\n",
       "            background-color:  white;\n",
       "        }    #T_9981018c_3eea_11ec_9a71_54e1ad6086fcrow3_col6 {\n",
       "            background-color:  white;\n",
       "        }    #T_9981018c_3eea_11ec_9a71_54e1ad6086fcrow3_col7 {\n",
       "            background-color:  white;\n",
       "        }    #T_9981018c_3eea_11ec_9a71_54e1ad6086fcrow3_col8 {\n",
       "            background-color:  white;\n",
       "        }    #T_9981018c_3eea_11ec_9a71_54e1ad6086fcrow3_col9 {\n",
       "            background-color:  white;\n",
       "        }    #T_9981018c_3eea_11ec_9a71_54e1ad6086fcrow3_col10 {\n",
       "            background-color:  white;\n",
       "        }    #T_9981018c_3eea_11ec_9a71_54e1ad6086fcrow3_col11 {\n",
       "            background-color:  white;\n",
       "        }    #T_9981018c_3eea_11ec_9a71_54e1ad6086fcrow3_col12 {\n",
       "            background-color:  white;\n",
       "        }    #T_9981018c_3eea_11ec_9a71_54e1ad6086fcrow3_col13 {\n",
       "            background-color:  white;\n",
       "        }    #T_9981018c_3eea_11ec_9a71_54e1ad6086fcrow3_col14 {\n",
       "            background-color:  white;\n",
       "        }    #T_9981018c_3eea_11ec_9a71_54e1ad6086fcrow3_col15 {\n",
       "            background-color:  white;\n",
       "        }    #T_9981018c_3eea_11ec_9a71_54e1ad6086fcrow3_col16 {\n",
       "            background-color:  white;\n",
       "        }    #T_9981018c_3eea_11ec_9a71_54e1ad6086fcrow3_col17 {\n",
       "            background-color:  white;\n",
       "        }    #T_9981018c_3eea_11ec_9a71_54e1ad6086fcrow3_col18 {\n",
       "            background-color:  white;\n",
       "        }    #T_9981018c_3eea_11ec_9a71_54e1ad6086fcrow4_col0 {\n",
       "            background-color:  white;\n",
       "        }    #T_9981018c_3eea_11ec_9a71_54e1ad6086fcrow4_col1 {\n",
       "            background-color:  white;\n",
       "        }    #T_9981018c_3eea_11ec_9a71_54e1ad6086fcrow4_col2 {\n",
       "            background-color:  white;\n",
       "        }    #T_9981018c_3eea_11ec_9a71_54e1ad6086fcrow4_col3 {\n",
       "            background-color:  white;\n",
       "        }    #T_9981018c_3eea_11ec_9a71_54e1ad6086fcrow4_col4 {\n",
       "            background-color:  red;\n",
       "        }    #T_9981018c_3eea_11ec_9a71_54e1ad6086fcrow4_col5 {\n",
       "            background-color:  white;\n",
       "        }    #T_9981018c_3eea_11ec_9a71_54e1ad6086fcrow4_col6 {\n",
       "            background-color:  white;\n",
       "        }    #T_9981018c_3eea_11ec_9a71_54e1ad6086fcrow4_col7 {\n",
       "            background-color:  white;\n",
       "        }    #T_9981018c_3eea_11ec_9a71_54e1ad6086fcrow4_col8 {\n",
       "            background-color:  white;\n",
       "        }    #T_9981018c_3eea_11ec_9a71_54e1ad6086fcrow4_col9 {\n",
       "            background-color:  white;\n",
       "        }    #T_9981018c_3eea_11ec_9a71_54e1ad6086fcrow4_col10 {\n",
       "            background-color:  white;\n",
       "        }    #T_9981018c_3eea_11ec_9a71_54e1ad6086fcrow4_col11 {\n",
       "            background-color:  white;\n",
       "        }    #T_9981018c_3eea_11ec_9a71_54e1ad6086fcrow4_col12 {\n",
       "            background-color:  white;\n",
       "        }    #T_9981018c_3eea_11ec_9a71_54e1ad6086fcrow4_col13 {\n",
       "            background-color:  white;\n",
       "        }    #T_9981018c_3eea_11ec_9a71_54e1ad6086fcrow4_col14 {\n",
       "            background-color:  white;\n",
       "        }    #T_9981018c_3eea_11ec_9a71_54e1ad6086fcrow4_col15 {\n",
       "            background-color:  white;\n",
       "        }    #T_9981018c_3eea_11ec_9a71_54e1ad6086fcrow4_col16 {\n",
       "            background-color:  white;\n",
       "        }    #T_9981018c_3eea_11ec_9a71_54e1ad6086fcrow4_col17 {\n",
       "            background-color:  white;\n",
       "        }    #T_9981018c_3eea_11ec_9a71_54e1ad6086fcrow4_col18 {\n",
       "            background-color:  red;\n",
       "        }    #T_9981018c_3eea_11ec_9a71_54e1ad6086fcrow5_col0 {\n",
       "            background-color:  white;\n",
       "        }    #T_9981018c_3eea_11ec_9a71_54e1ad6086fcrow5_col1 {\n",
       "            background-color:  white;\n",
       "        }    #T_9981018c_3eea_11ec_9a71_54e1ad6086fcrow5_col2 {\n",
       "            background-color:  white;\n",
       "        }    #T_9981018c_3eea_11ec_9a71_54e1ad6086fcrow5_col3 {\n",
       "            background-color:  white;\n",
       "        }    #T_9981018c_3eea_11ec_9a71_54e1ad6086fcrow5_col4 {\n",
       "            background-color:  white;\n",
       "        }    #T_9981018c_3eea_11ec_9a71_54e1ad6086fcrow5_col5 {\n",
       "            background-color:  red;\n",
       "        }    #T_9981018c_3eea_11ec_9a71_54e1ad6086fcrow5_col6 {\n",
       "            background-color:  white;\n",
       "        }    #T_9981018c_3eea_11ec_9a71_54e1ad6086fcrow5_col7 {\n",
       "            background-color:  white;\n",
       "        }    #T_9981018c_3eea_11ec_9a71_54e1ad6086fcrow5_col8 {\n",
       "            background-color:  white;\n",
       "        }    #T_9981018c_3eea_11ec_9a71_54e1ad6086fcrow5_col9 {\n",
       "            background-color:  white;\n",
       "        }    #T_9981018c_3eea_11ec_9a71_54e1ad6086fcrow5_col10 {\n",
       "            background-color:  white;\n",
       "        }    #T_9981018c_3eea_11ec_9a71_54e1ad6086fcrow5_col11 {\n",
       "            background-color:  white;\n",
       "        }    #T_9981018c_3eea_11ec_9a71_54e1ad6086fcrow5_col12 {\n",
       "            background-color:  white;\n",
       "        }    #T_9981018c_3eea_11ec_9a71_54e1ad6086fcrow5_col13 {\n",
       "            background-color:  white;\n",
       "        }    #T_9981018c_3eea_11ec_9a71_54e1ad6086fcrow5_col14 {\n",
       "            background-color:  white;\n",
       "        }    #T_9981018c_3eea_11ec_9a71_54e1ad6086fcrow5_col15 {\n",
       "            background-color:  white;\n",
       "        }    #T_9981018c_3eea_11ec_9a71_54e1ad6086fcrow5_col16 {\n",
       "            background-color:  white;\n",
       "        }    #T_9981018c_3eea_11ec_9a71_54e1ad6086fcrow5_col17 {\n",
       "            background-color:  white;\n",
       "        }    #T_9981018c_3eea_11ec_9a71_54e1ad6086fcrow5_col18 {\n",
       "            background-color:  white;\n",
       "        }    #T_9981018c_3eea_11ec_9a71_54e1ad6086fcrow6_col0 {\n",
       "            background-color:  white;\n",
       "        }    #T_9981018c_3eea_11ec_9a71_54e1ad6086fcrow6_col1 {\n",
       "            background-color:  white;\n",
       "        }    #T_9981018c_3eea_11ec_9a71_54e1ad6086fcrow6_col2 {\n",
       "            background-color:  white;\n",
       "        }    #T_9981018c_3eea_11ec_9a71_54e1ad6086fcrow6_col3 {\n",
       "            background-color:  white;\n",
       "        }    #T_9981018c_3eea_11ec_9a71_54e1ad6086fcrow6_col4 {\n",
       "            background-color:  white;\n",
       "        }    #T_9981018c_3eea_11ec_9a71_54e1ad6086fcrow6_col5 {\n",
       "            background-color:  white;\n",
       "        }    #T_9981018c_3eea_11ec_9a71_54e1ad6086fcrow6_col6 {\n",
       "            background-color:  red;\n",
       "        }    #T_9981018c_3eea_11ec_9a71_54e1ad6086fcrow6_col7 {\n",
       "            background-color:  white;\n",
       "        }    #T_9981018c_3eea_11ec_9a71_54e1ad6086fcrow6_col8 {\n",
       "            background-color:  white;\n",
       "        }    #T_9981018c_3eea_11ec_9a71_54e1ad6086fcrow6_col9 {\n",
       "            background-color:  white;\n",
       "        }    #T_9981018c_3eea_11ec_9a71_54e1ad6086fcrow6_col10 {\n",
       "            background-color:  white;\n",
       "        }    #T_9981018c_3eea_11ec_9a71_54e1ad6086fcrow6_col11 {\n",
       "            background-color:  white;\n",
       "        }    #T_9981018c_3eea_11ec_9a71_54e1ad6086fcrow6_col12 {\n",
       "            background-color:  white;\n",
       "        }    #T_9981018c_3eea_11ec_9a71_54e1ad6086fcrow6_col13 {\n",
       "            background-color:  white;\n",
       "        }    #T_9981018c_3eea_11ec_9a71_54e1ad6086fcrow6_col14 {\n",
       "            background-color:  white;\n",
       "        }    #T_9981018c_3eea_11ec_9a71_54e1ad6086fcrow6_col15 {\n",
       "            background-color:  white;\n",
       "        }    #T_9981018c_3eea_11ec_9a71_54e1ad6086fcrow6_col16 {\n",
       "            background-color:  white;\n",
       "        }    #T_9981018c_3eea_11ec_9a71_54e1ad6086fcrow6_col17 {\n",
       "            background-color:  white;\n",
       "        }    #T_9981018c_3eea_11ec_9a71_54e1ad6086fcrow6_col18 {\n",
       "            background-color:  white;\n",
       "        }    #T_9981018c_3eea_11ec_9a71_54e1ad6086fcrow7_col0 {\n",
       "            background-color:  white;\n",
       "        }    #T_9981018c_3eea_11ec_9a71_54e1ad6086fcrow7_col1 {\n",
       "            background-color:  white;\n",
       "        }    #T_9981018c_3eea_11ec_9a71_54e1ad6086fcrow7_col2 {\n",
       "            background-color:  white;\n",
       "        }    #T_9981018c_3eea_11ec_9a71_54e1ad6086fcrow7_col3 {\n",
       "            background-color:  white;\n",
       "        }    #T_9981018c_3eea_11ec_9a71_54e1ad6086fcrow7_col4 {\n",
       "            background-color:  white;\n",
       "        }    #T_9981018c_3eea_11ec_9a71_54e1ad6086fcrow7_col5 {\n",
       "            background-color:  white;\n",
       "        }    #T_9981018c_3eea_11ec_9a71_54e1ad6086fcrow7_col6 {\n",
       "            background-color:  white;\n",
       "        }    #T_9981018c_3eea_11ec_9a71_54e1ad6086fcrow7_col7 {\n",
       "            background-color:  red;\n",
       "        }    #T_9981018c_3eea_11ec_9a71_54e1ad6086fcrow7_col8 {\n",
       "            background-color:  white;\n",
       "        }    #T_9981018c_3eea_11ec_9a71_54e1ad6086fcrow7_col9 {\n",
       "            background-color:  white;\n",
       "        }    #T_9981018c_3eea_11ec_9a71_54e1ad6086fcrow7_col10 {\n",
       "            background-color:  white;\n",
       "        }    #T_9981018c_3eea_11ec_9a71_54e1ad6086fcrow7_col11 {\n",
       "            background-color:  white;\n",
       "        }    #T_9981018c_3eea_11ec_9a71_54e1ad6086fcrow7_col12 {\n",
       "            background-color:  white;\n",
       "        }    #T_9981018c_3eea_11ec_9a71_54e1ad6086fcrow7_col13 {\n",
       "            background-color:  white;\n",
       "        }    #T_9981018c_3eea_11ec_9a71_54e1ad6086fcrow7_col14 {\n",
       "            background-color:  white;\n",
       "        }    #T_9981018c_3eea_11ec_9a71_54e1ad6086fcrow7_col15 {\n",
       "            background-color:  white;\n",
       "        }    #T_9981018c_3eea_11ec_9a71_54e1ad6086fcrow7_col16 {\n",
       "            background-color:  white;\n",
       "        }    #T_9981018c_3eea_11ec_9a71_54e1ad6086fcrow7_col17 {\n",
       "            background-color:  white;\n",
       "        }    #T_9981018c_3eea_11ec_9a71_54e1ad6086fcrow7_col18 {\n",
       "            background-color:  white;\n",
       "        }    #T_9981018c_3eea_11ec_9a71_54e1ad6086fcrow8_col0 {\n",
       "            background-color:  white;\n",
       "        }    #T_9981018c_3eea_11ec_9a71_54e1ad6086fcrow8_col1 {\n",
       "            background-color:  white;\n",
       "        }    #T_9981018c_3eea_11ec_9a71_54e1ad6086fcrow8_col2 {\n",
       "            background-color:  white;\n",
       "        }    #T_9981018c_3eea_11ec_9a71_54e1ad6086fcrow8_col3 {\n",
       "            background-color:  white;\n",
       "        }    #T_9981018c_3eea_11ec_9a71_54e1ad6086fcrow8_col4 {\n",
       "            background-color:  white;\n",
       "        }    #T_9981018c_3eea_11ec_9a71_54e1ad6086fcrow8_col5 {\n",
       "            background-color:  white;\n",
       "        }    #T_9981018c_3eea_11ec_9a71_54e1ad6086fcrow8_col6 {\n",
       "            background-color:  white;\n",
       "        }    #T_9981018c_3eea_11ec_9a71_54e1ad6086fcrow8_col7 {\n",
       "            background-color:  white;\n",
       "        }    #T_9981018c_3eea_11ec_9a71_54e1ad6086fcrow8_col8 {\n",
       "            background-color:  red;\n",
       "        }    #T_9981018c_3eea_11ec_9a71_54e1ad6086fcrow8_col9 {\n",
       "            background-color:  white;\n",
       "        }    #T_9981018c_3eea_11ec_9a71_54e1ad6086fcrow8_col10 {\n",
       "            background-color:  white;\n",
       "        }    #T_9981018c_3eea_11ec_9a71_54e1ad6086fcrow8_col11 {\n",
       "            background-color:  white;\n",
       "        }    #T_9981018c_3eea_11ec_9a71_54e1ad6086fcrow8_col12 {\n",
       "            background-color:  white;\n",
       "        }    #T_9981018c_3eea_11ec_9a71_54e1ad6086fcrow8_col13 {\n",
       "            background-color:  white;\n",
       "        }    #T_9981018c_3eea_11ec_9a71_54e1ad6086fcrow8_col14 {\n",
       "            background-color:  white;\n",
       "        }    #T_9981018c_3eea_11ec_9a71_54e1ad6086fcrow8_col15 {\n",
       "            background-color:  white;\n",
       "        }    #T_9981018c_3eea_11ec_9a71_54e1ad6086fcrow8_col16 {\n",
       "            background-color:  white;\n",
       "        }    #T_9981018c_3eea_11ec_9a71_54e1ad6086fcrow8_col17 {\n",
       "            background-color:  white;\n",
       "        }    #T_9981018c_3eea_11ec_9a71_54e1ad6086fcrow8_col18 {\n",
       "            background-color:  white;\n",
       "        }    #T_9981018c_3eea_11ec_9a71_54e1ad6086fcrow9_col0 {\n",
       "            background-color:  white;\n",
       "        }    #T_9981018c_3eea_11ec_9a71_54e1ad6086fcrow9_col1 {\n",
       "            background-color:  white;\n",
       "        }    #T_9981018c_3eea_11ec_9a71_54e1ad6086fcrow9_col2 {\n",
       "            background-color:  white;\n",
       "        }    #T_9981018c_3eea_11ec_9a71_54e1ad6086fcrow9_col3 {\n",
       "            background-color:  white;\n",
       "        }    #T_9981018c_3eea_11ec_9a71_54e1ad6086fcrow9_col4 {\n",
       "            background-color:  white;\n",
       "        }    #T_9981018c_3eea_11ec_9a71_54e1ad6086fcrow9_col5 {\n",
       "            background-color:  white;\n",
       "        }    #T_9981018c_3eea_11ec_9a71_54e1ad6086fcrow9_col6 {\n",
       "            background-color:  white;\n",
       "        }    #T_9981018c_3eea_11ec_9a71_54e1ad6086fcrow9_col7 {\n",
       "            background-color:  white;\n",
       "        }    #T_9981018c_3eea_11ec_9a71_54e1ad6086fcrow9_col8 {\n",
       "            background-color:  white;\n",
       "        }    #T_9981018c_3eea_11ec_9a71_54e1ad6086fcrow9_col9 {\n",
       "            background-color:  red;\n",
       "        }    #T_9981018c_3eea_11ec_9a71_54e1ad6086fcrow9_col10 {\n",
       "            background-color:  white;\n",
       "        }    #T_9981018c_3eea_11ec_9a71_54e1ad6086fcrow9_col11 {\n",
       "            background-color:  white;\n",
       "        }    #T_9981018c_3eea_11ec_9a71_54e1ad6086fcrow9_col12 {\n",
       "            background-color:  white;\n",
       "        }    #T_9981018c_3eea_11ec_9a71_54e1ad6086fcrow9_col13 {\n",
       "            background-color:  white;\n",
       "        }    #T_9981018c_3eea_11ec_9a71_54e1ad6086fcrow9_col14 {\n",
       "            background-color:  white;\n",
       "        }    #T_9981018c_3eea_11ec_9a71_54e1ad6086fcrow9_col15 {\n",
       "            background-color:  white;\n",
       "        }    #T_9981018c_3eea_11ec_9a71_54e1ad6086fcrow9_col16 {\n",
       "            background-color:  white;\n",
       "        }    #T_9981018c_3eea_11ec_9a71_54e1ad6086fcrow9_col17 {\n",
       "            background-color:  white;\n",
       "        }    #T_9981018c_3eea_11ec_9a71_54e1ad6086fcrow9_col18 {\n",
       "            background-color:  white;\n",
       "        }    #T_9981018c_3eea_11ec_9a71_54e1ad6086fcrow10_col0 {\n",
       "            background-color:  white;\n",
       "        }    #T_9981018c_3eea_11ec_9a71_54e1ad6086fcrow10_col1 {\n",
       "            background-color:  white;\n",
       "        }    #T_9981018c_3eea_11ec_9a71_54e1ad6086fcrow10_col2 {\n",
       "            background-color:  white;\n",
       "        }    #T_9981018c_3eea_11ec_9a71_54e1ad6086fcrow10_col3 {\n",
       "            background-color:  white;\n",
       "        }    #T_9981018c_3eea_11ec_9a71_54e1ad6086fcrow10_col4 {\n",
       "            background-color:  white;\n",
       "        }    #T_9981018c_3eea_11ec_9a71_54e1ad6086fcrow10_col5 {\n",
       "            background-color:  white;\n",
       "        }    #T_9981018c_3eea_11ec_9a71_54e1ad6086fcrow10_col6 {\n",
       "            background-color:  white;\n",
       "        }    #T_9981018c_3eea_11ec_9a71_54e1ad6086fcrow10_col7 {\n",
       "            background-color:  white;\n",
       "        }    #T_9981018c_3eea_11ec_9a71_54e1ad6086fcrow10_col8 {\n",
       "            background-color:  white;\n",
       "        }    #T_9981018c_3eea_11ec_9a71_54e1ad6086fcrow10_col9 {\n",
       "            background-color:  white;\n",
       "        }    #T_9981018c_3eea_11ec_9a71_54e1ad6086fcrow10_col10 {\n",
       "            background-color:  red;\n",
       "        }    #T_9981018c_3eea_11ec_9a71_54e1ad6086fcrow10_col11 {\n",
       "            background-color:  white;\n",
       "        }    #T_9981018c_3eea_11ec_9a71_54e1ad6086fcrow10_col12 {\n",
       "            background-color:  white;\n",
       "        }    #T_9981018c_3eea_11ec_9a71_54e1ad6086fcrow10_col13 {\n",
       "            background-color:  white;\n",
       "        }    #T_9981018c_3eea_11ec_9a71_54e1ad6086fcrow10_col14 {\n",
       "            background-color:  white;\n",
       "        }    #T_9981018c_3eea_11ec_9a71_54e1ad6086fcrow10_col15 {\n",
       "            background-color:  white;\n",
       "        }    #T_9981018c_3eea_11ec_9a71_54e1ad6086fcrow10_col16 {\n",
       "            background-color:  white;\n",
       "        }    #T_9981018c_3eea_11ec_9a71_54e1ad6086fcrow10_col17 {\n",
       "            background-color:  white;\n",
       "        }    #T_9981018c_3eea_11ec_9a71_54e1ad6086fcrow10_col18 {\n",
       "            background-color:  white;\n",
       "        }    #T_9981018c_3eea_11ec_9a71_54e1ad6086fcrow11_col0 {\n",
       "            background-color:  white;\n",
       "        }    #T_9981018c_3eea_11ec_9a71_54e1ad6086fcrow11_col1 {\n",
       "            background-color:  white;\n",
       "        }    #T_9981018c_3eea_11ec_9a71_54e1ad6086fcrow11_col2 {\n",
       "            background-color:  white;\n",
       "        }    #T_9981018c_3eea_11ec_9a71_54e1ad6086fcrow11_col3 {\n",
       "            background-color:  white;\n",
       "        }    #T_9981018c_3eea_11ec_9a71_54e1ad6086fcrow11_col4 {\n",
       "            background-color:  white;\n",
       "        }    #T_9981018c_3eea_11ec_9a71_54e1ad6086fcrow11_col5 {\n",
       "            background-color:  white;\n",
       "        }    #T_9981018c_3eea_11ec_9a71_54e1ad6086fcrow11_col6 {\n",
       "            background-color:  white;\n",
       "        }    #T_9981018c_3eea_11ec_9a71_54e1ad6086fcrow11_col7 {\n",
       "            background-color:  white;\n",
       "        }    #T_9981018c_3eea_11ec_9a71_54e1ad6086fcrow11_col8 {\n",
       "            background-color:  white;\n",
       "        }    #T_9981018c_3eea_11ec_9a71_54e1ad6086fcrow11_col9 {\n",
       "            background-color:  white;\n",
       "        }    #T_9981018c_3eea_11ec_9a71_54e1ad6086fcrow11_col10 {\n",
       "            background-color:  white;\n",
       "        }    #T_9981018c_3eea_11ec_9a71_54e1ad6086fcrow11_col11 {\n",
       "            background-color:  red;\n",
       "        }    #T_9981018c_3eea_11ec_9a71_54e1ad6086fcrow11_col12 {\n",
       "            background-color:  white;\n",
       "        }    #T_9981018c_3eea_11ec_9a71_54e1ad6086fcrow11_col13 {\n",
       "            background-color:  white;\n",
       "        }    #T_9981018c_3eea_11ec_9a71_54e1ad6086fcrow11_col14 {\n",
       "            background-color:  white;\n",
       "        }    #T_9981018c_3eea_11ec_9a71_54e1ad6086fcrow11_col15 {\n",
       "            background-color:  white;\n",
       "        }    #T_9981018c_3eea_11ec_9a71_54e1ad6086fcrow11_col16 {\n",
       "            background-color:  white;\n",
       "        }    #T_9981018c_3eea_11ec_9a71_54e1ad6086fcrow11_col17 {\n",
       "            background-color:  white;\n",
       "        }    #T_9981018c_3eea_11ec_9a71_54e1ad6086fcrow11_col18 {\n",
       "            background-color:  white;\n",
       "        }    #T_9981018c_3eea_11ec_9a71_54e1ad6086fcrow12_col0 {\n",
       "            background-color:  white;\n",
       "        }    #T_9981018c_3eea_11ec_9a71_54e1ad6086fcrow12_col1 {\n",
       "            background-color:  white;\n",
       "        }    #T_9981018c_3eea_11ec_9a71_54e1ad6086fcrow12_col2 {\n",
       "            background-color:  white;\n",
       "        }    #T_9981018c_3eea_11ec_9a71_54e1ad6086fcrow12_col3 {\n",
       "            background-color:  white;\n",
       "        }    #T_9981018c_3eea_11ec_9a71_54e1ad6086fcrow12_col4 {\n",
       "            background-color:  white;\n",
       "        }    #T_9981018c_3eea_11ec_9a71_54e1ad6086fcrow12_col5 {\n",
       "            background-color:  white;\n",
       "        }    #T_9981018c_3eea_11ec_9a71_54e1ad6086fcrow12_col6 {\n",
       "            background-color:  white;\n",
       "        }    #T_9981018c_3eea_11ec_9a71_54e1ad6086fcrow12_col7 {\n",
       "            background-color:  white;\n",
       "        }    #T_9981018c_3eea_11ec_9a71_54e1ad6086fcrow12_col8 {\n",
       "            background-color:  white;\n",
       "        }    #T_9981018c_3eea_11ec_9a71_54e1ad6086fcrow12_col9 {\n",
       "            background-color:  white;\n",
       "        }    #T_9981018c_3eea_11ec_9a71_54e1ad6086fcrow12_col10 {\n",
       "            background-color:  white;\n",
       "        }    #T_9981018c_3eea_11ec_9a71_54e1ad6086fcrow12_col11 {\n",
       "            background-color:  white;\n",
       "        }    #T_9981018c_3eea_11ec_9a71_54e1ad6086fcrow12_col12 {\n",
       "            background-color:  red;\n",
       "        }    #T_9981018c_3eea_11ec_9a71_54e1ad6086fcrow12_col13 {\n",
       "            background-color:  white;\n",
       "        }    #T_9981018c_3eea_11ec_9a71_54e1ad6086fcrow12_col14 {\n",
       "            background-color:  white;\n",
       "        }    #T_9981018c_3eea_11ec_9a71_54e1ad6086fcrow12_col15 {\n",
       "            background-color:  white;\n",
       "        }    #T_9981018c_3eea_11ec_9a71_54e1ad6086fcrow12_col16 {\n",
       "            background-color:  white;\n",
       "        }    #T_9981018c_3eea_11ec_9a71_54e1ad6086fcrow12_col17 {\n",
       "            background-color:  white;\n",
       "        }    #T_9981018c_3eea_11ec_9a71_54e1ad6086fcrow12_col18 {\n",
       "            background-color:  white;\n",
       "        }    #T_9981018c_3eea_11ec_9a71_54e1ad6086fcrow13_col0 {\n",
       "            background-color:  white;\n",
       "        }    #T_9981018c_3eea_11ec_9a71_54e1ad6086fcrow13_col1 {\n",
       "            background-color:  white;\n",
       "        }    #T_9981018c_3eea_11ec_9a71_54e1ad6086fcrow13_col2 {\n",
       "            background-color:  white;\n",
       "        }    #T_9981018c_3eea_11ec_9a71_54e1ad6086fcrow13_col3 {\n",
       "            background-color:  white;\n",
       "        }    #T_9981018c_3eea_11ec_9a71_54e1ad6086fcrow13_col4 {\n",
       "            background-color:  white;\n",
       "        }    #T_9981018c_3eea_11ec_9a71_54e1ad6086fcrow13_col5 {\n",
       "            background-color:  white;\n",
       "        }    #T_9981018c_3eea_11ec_9a71_54e1ad6086fcrow13_col6 {\n",
       "            background-color:  white;\n",
       "        }    #T_9981018c_3eea_11ec_9a71_54e1ad6086fcrow13_col7 {\n",
       "            background-color:  white;\n",
       "        }    #T_9981018c_3eea_11ec_9a71_54e1ad6086fcrow13_col8 {\n",
       "            background-color:  white;\n",
       "        }    #T_9981018c_3eea_11ec_9a71_54e1ad6086fcrow13_col9 {\n",
       "            background-color:  white;\n",
       "        }    #T_9981018c_3eea_11ec_9a71_54e1ad6086fcrow13_col10 {\n",
       "            background-color:  white;\n",
       "        }    #T_9981018c_3eea_11ec_9a71_54e1ad6086fcrow13_col11 {\n",
       "            background-color:  white;\n",
       "        }    #T_9981018c_3eea_11ec_9a71_54e1ad6086fcrow13_col12 {\n",
       "            background-color:  white;\n",
       "        }    #T_9981018c_3eea_11ec_9a71_54e1ad6086fcrow13_col13 {\n",
       "            background-color:  red;\n",
       "        }    #T_9981018c_3eea_11ec_9a71_54e1ad6086fcrow13_col14 {\n",
       "            background-color:  white;\n",
       "        }    #T_9981018c_3eea_11ec_9a71_54e1ad6086fcrow13_col15 {\n",
       "            background-color:  white;\n",
       "        }    #T_9981018c_3eea_11ec_9a71_54e1ad6086fcrow13_col16 {\n",
       "            background-color:  white;\n",
       "        }    #T_9981018c_3eea_11ec_9a71_54e1ad6086fcrow13_col17 {\n",
       "            background-color:  white;\n",
       "        }    #T_9981018c_3eea_11ec_9a71_54e1ad6086fcrow13_col18 {\n",
       "            background-color:  white;\n",
       "        }    #T_9981018c_3eea_11ec_9a71_54e1ad6086fcrow14_col0 {\n",
       "            background-color:  white;\n",
       "        }    #T_9981018c_3eea_11ec_9a71_54e1ad6086fcrow14_col1 {\n",
       "            background-color:  white;\n",
       "        }    #T_9981018c_3eea_11ec_9a71_54e1ad6086fcrow14_col2 {\n",
       "            background-color:  white;\n",
       "        }    #T_9981018c_3eea_11ec_9a71_54e1ad6086fcrow14_col3 {\n",
       "            background-color:  white;\n",
       "        }    #T_9981018c_3eea_11ec_9a71_54e1ad6086fcrow14_col4 {\n",
       "            background-color:  white;\n",
       "        }    #T_9981018c_3eea_11ec_9a71_54e1ad6086fcrow14_col5 {\n",
       "            background-color:  white;\n",
       "        }    #T_9981018c_3eea_11ec_9a71_54e1ad6086fcrow14_col6 {\n",
       "            background-color:  white;\n",
       "        }    #T_9981018c_3eea_11ec_9a71_54e1ad6086fcrow14_col7 {\n",
       "            background-color:  white;\n",
       "        }    #T_9981018c_3eea_11ec_9a71_54e1ad6086fcrow14_col8 {\n",
       "            background-color:  white;\n",
       "        }    #T_9981018c_3eea_11ec_9a71_54e1ad6086fcrow14_col9 {\n",
       "            background-color:  white;\n",
       "        }    #T_9981018c_3eea_11ec_9a71_54e1ad6086fcrow14_col10 {\n",
       "            background-color:  white;\n",
       "        }    #T_9981018c_3eea_11ec_9a71_54e1ad6086fcrow14_col11 {\n",
       "            background-color:  white;\n",
       "        }    #T_9981018c_3eea_11ec_9a71_54e1ad6086fcrow14_col12 {\n",
       "            background-color:  white;\n",
       "        }    #T_9981018c_3eea_11ec_9a71_54e1ad6086fcrow14_col13 {\n",
       "            background-color:  white;\n",
       "        }    #T_9981018c_3eea_11ec_9a71_54e1ad6086fcrow14_col14 {\n",
       "            background-color:  red;\n",
       "        }    #T_9981018c_3eea_11ec_9a71_54e1ad6086fcrow14_col15 {\n",
       "            background-color:  white;\n",
       "        }    #T_9981018c_3eea_11ec_9a71_54e1ad6086fcrow14_col16 {\n",
       "            background-color:  white;\n",
       "        }    #T_9981018c_3eea_11ec_9a71_54e1ad6086fcrow14_col17 {\n",
       "            background-color:  white;\n",
       "        }    #T_9981018c_3eea_11ec_9a71_54e1ad6086fcrow14_col18 {\n",
       "            background-color:  white;\n",
       "        }    #T_9981018c_3eea_11ec_9a71_54e1ad6086fcrow15_col0 {\n",
       "            background-color:  white;\n",
       "        }    #T_9981018c_3eea_11ec_9a71_54e1ad6086fcrow15_col1 {\n",
       "            background-color:  white;\n",
       "        }    #T_9981018c_3eea_11ec_9a71_54e1ad6086fcrow15_col2 {\n",
       "            background-color:  white;\n",
       "        }    #T_9981018c_3eea_11ec_9a71_54e1ad6086fcrow15_col3 {\n",
       "            background-color:  white;\n",
       "        }    #T_9981018c_3eea_11ec_9a71_54e1ad6086fcrow15_col4 {\n",
       "            background-color:  white;\n",
       "        }    #T_9981018c_3eea_11ec_9a71_54e1ad6086fcrow15_col5 {\n",
       "            background-color:  white;\n",
       "        }    #T_9981018c_3eea_11ec_9a71_54e1ad6086fcrow15_col6 {\n",
       "            background-color:  white;\n",
       "        }    #T_9981018c_3eea_11ec_9a71_54e1ad6086fcrow15_col7 {\n",
       "            background-color:  white;\n",
       "        }    #T_9981018c_3eea_11ec_9a71_54e1ad6086fcrow15_col8 {\n",
       "            background-color:  white;\n",
       "        }    #T_9981018c_3eea_11ec_9a71_54e1ad6086fcrow15_col9 {\n",
       "            background-color:  white;\n",
       "        }    #T_9981018c_3eea_11ec_9a71_54e1ad6086fcrow15_col10 {\n",
       "            background-color:  white;\n",
       "        }    #T_9981018c_3eea_11ec_9a71_54e1ad6086fcrow15_col11 {\n",
       "            background-color:  white;\n",
       "        }    #T_9981018c_3eea_11ec_9a71_54e1ad6086fcrow15_col12 {\n",
       "            background-color:  white;\n",
       "        }    #T_9981018c_3eea_11ec_9a71_54e1ad6086fcrow15_col13 {\n",
       "            background-color:  white;\n",
       "        }    #T_9981018c_3eea_11ec_9a71_54e1ad6086fcrow15_col14 {\n",
       "            background-color:  white;\n",
       "        }    #T_9981018c_3eea_11ec_9a71_54e1ad6086fcrow15_col15 {\n",
       "            background-color:  red;\n",
       "        }    #T_9981018c_3eea_11ec_9a71_54e1ad6086fcrow15_col16 {\n",
       "            background-color:  white;\n",
       "        }    #T_9981018c_3eea_11ec_9a71_54e1ad6086fcrow15_col17 {\n",
       "            background-color:  white;\n",
       "        }    #T_9981018c_3eea_11ec_9a71_54e1ad6086fcrow15_col18 {\n",
       "            background-color:  white;\n",
       "        }    #T_9981018c_3eea_11ec_9a71_54e1ad6086fcrow16_col0 {\n",
       "            background-color:  white;\n",
       "        }    #T_9981018c_3eea_11ec_9a71_54e1ad6086fcrow16_col1 {\n",
       "            background-color:  white;\n",
       "        }    #T_9981018c_3eea_11ec_9a71_54e1ad6086fcrow16_col2 {\n",
       "            background-color:  white;\n",
       "        }    #T_9981018c_3eea_11ec_9a71_54e1ad6086fcrow16_col3 {\n",
       "            background-color:  white;\n",
       "        }    #T_9981018c_3eea_11ec_9a71_54e1ad6086fcrow16_col4 {\n",
       "            background-color:  white;\n",
       "        }    #T_9981018c_3eea_11ec_9a71_54e1ad6086fcrow16_col5 {\n",
       "            background-color:  white;\n",
       "        }    #T_9981018c_3eea_11ec_9a71_54e1ad6086fcrow16_col6 {\n",
       "            background-color:  white;\n",
       "        }    #T_9981018c_3eea_11ec_9a71_54e1ad6086fcrow16_col7 {\n",
       "            background-color:  white;\n",
       "        }    #T_9981018c_3eea_11ec_9a71_54e1ad6086fcrow16_col8 {\n",
       "            background-color:  white;\n",
       "        }    #T_9981018c_3eea_11ec_9a71_54e1ad6086fcrow16_col9 {\n",
       "            background-color:  white;\n",
       "        }    #T_9981018c_3eea_11ec_9a71_54e1ad6086fcrow16_col10 {\n",
       "            background-color:  white;\n",
       "        }    #T_9981018c_3eea_11ec_9a71_54e1ad6086fcrow16_col11 {\n",
       "            background-color:  white;\n",
       "        }    #T_9981018c_3eea_11ec_9a71_54e1ad6086fcrow16_col12 {\n",
       "            background-color:  white;\n",
       "        }    #T_9981018c_3eea_11ec_9a71_54e1ad6086fcrow16_col13 {\n",
       "            background-color:  white;\n",
       "        }    #T_9981018c_3eea_11ec_9a71_54e1ad6086fcrow16_col14 {\n",
       "            background-color:  white;\n",
       "        }    #T_9981018c_3eea_11ec_9a71_54e1ad6086fcrow16_col15 {\n",
       "            background-color:  white;\n",
       "        }    #T_9981018c_3eea_11ec_9a71_54e1ad6086fcrow16_col16 {\n",
       "            background-color:  red;\n",
       "        }    #T_9981018c_3eea_11ec_9a71_54e1ad6086fcrow16_col17 {\n",
       "            background-color:  white;\n",
       "        }    #T_9981018c_3eea_11ec_9a71_54e1ad6086fcrow16_col18 {\n",
       "            background-color:  white;\n",
       "        }    #T_9981018c_3eea_11ec_9a71_54e1ad6086fcrow17_col0 {\n",
       "            background-color:  white;\n",
       "        }    #T_9981018c_3eea_11ec_9a71_54e1ad6086fcrow17_col1 {\n",
       "            background-color:  white;\n",
       "        }    #T_9981018c_3eea_11ec_9a71_54e1ad6086fcrow17_col2 {\n",
       "            background-color:  white;\n",
       "        }    #T_9981018c_3eea_11ec_9a71_54e1ad6086fcrow17_col3 {\n",
       "            background-color:  white;\n",
       "        }    #T_9981018c_3eea_11ec_9a71_54e1ad6086fcrow17_col4 {\n",
       "            background-color:  white;\n",
       "        }    #T_9981018c_3eea_11ec_9a71_54e1ad6086fcrow17_col5 {\n",
       "            background-color:  white;\n",
       "        }    #T_9981018c_3eea_11ec_9a71_54e1ad6086fcrow17_col6 {\n",
       "            background-color:  white;\n",
       "        }    #T_9981018c_3eea_11ec_9a71_54e1ad6086fcrow17_col7 {\n",
       "            background-color:  white;\n",
       "        }    #T_9981018c_3eea_11ec_9a71_54e1ad6086fcrow17_col8 {\n",
       "            background-color:  white;\n",
       "        }    #T_9981018c_3eea_11ec_9a71_54e1ad6086fcrow17_col9 {\n",
       "            background-color:  white;\n",
       "        }    #T_9981018c_3eea_11ec_9a71_54e1ad6086fcrow17_col10 {\n",
       "            background-color:  white;\n",
       "        }    #T_9981018c_3eea_11ec_9a71_54e1ad6086fcrow17_col11 {\n",
       "            background-color:  white;\n",
       "        }    #T_9981018c_3eea_11ec_9a71_54e1ad6086fcrow17_col12 {\n",
       "            background-color:  white;\n",
       "        }    #T_9981018c_3eea_11ec_9a71_54e1ad6086fcrow17_col13 {\n",
       "            background-color:  white;\n",
       "        }    #T_9981018c_3eea_11ec_9a71_54e1ad6086fcrow17_col14 {\n",
       "            background-color:  white;\n",
       "        }    #T_9981018c_3eea_11ec_9a71_54e1ad6086fcrow17_col15 {\n",
       "            background-color:  white;\n",
       "        }    #T_9981018c_3eea_11ec_9a71_54e1ad6086fcrow17_col16 {\n",
       "            background-color:  white;\n",
       "        }    #T_9981018c_3eea_11ec_9a71_54e1ad6086fcrow17_col17 {\n",
       "            background-color:  red;\n",
       "        }    #T_9981018c_3eea_11ec_9a71_54e1ad6086fcrow17_col18 {\n",
       "            background-color:  white;\n",
       "        }    #T_9981018c_3eea_11ec_9a71_54e1ad6086fcrow18_col0 {\n",
       "            background-color:  white;\n",
       "        }    #T_9981018c_3eea_11ec_9a71_54e1ad6086fcrow18_col1 {\n",
       "            background-color:  white;\n",
       "        }    #T_9981018c_3eea_11ec_9a71_54e1ad6086fcrow18_col2 {\n",
       "            background-color:  white;\n",
       "        }    #T_9981018c_3eea_11ec_9a71_54e1ad6086fcrow18_col3 {\n",
       "            background-color:  white;\n",
       "        }    #T_9981018c_3eea_11ec_9a71_54e1ad6086fcrow18_col4 {\n",
       "            background-color:  red;\n",
       "        }    #T_9981018c_3eea_11ec_9a71_54e1ad6086fcrow18_col5 {\n",
       "            background-color:  white;\n",
       "        }    #T_9981018c_3eea_11ec_9a71_54e1ad6086fcrow18_col6 {\n",
       "            background-color:  white;\n",
       "        }    #T_9981018c_3eea_11ec_9a71_54e1ad6086fcrow18_col7 {\n",
       "            background-color:  white;\n",
       "        }    #T_9981018c_3eea_11ec_9a71_54e1ad6086fcrow18_col8 {\n",
       "            background-color:  white;\n",
       "        }    #T_9981018c_3eea_11ec_9a71_54e1ad6086fcrow18_col9 {\n",
       "            background-color:  white;\n",
       "        }    #T_9981018c_3eea_11ec_9a71_54e1ad6086fcrow18_col10 {\n",
       "            background-color:  white;\n",
       "        }    #T_9981018c_3eea_11ec_9a71_54e1ad6086fcrow18_col11 {\n",
       "            background-color:  white;\n",
       "        }    #T_9981018c_3eea_11ec_9a71_54e1ad6086fcrow18_col12 {\n",
       "            background-color:  white;\n",
       "        }    #T_9981018c_3eea_11ec_9a71_54e1ad6086fcrow18_col13 {\n",
       "            background-color:  white;\n",
       "        }    #T_9981018c_3eea_11ec_9a71_54e1ad6086fcrow18_col14 {\n",
       "            background-color:  white;\n",
       "        }    #T_9981018c_3eea_11ec_9a71_54e1ad6086fcrow18_col15 {\n",
       "            background-color:  white;\n",
       "        }    #T_9981018c_3eea_11ec_9a71_54e1ad6086fcrow18_col16 {\n",
       "            background-color:  white;\n",
       "        }    #T_9981018c_3eea_11ec_9a71_54e1ad6086fcrow18_col17 {\n",
       "            background-color:  white;\n",
       "        }    #T_9981018c_3eea_11ec_9a71_54e1ad6086fcrow18_col18 {\n",
       "            background-color:  red;\n",
       "        }</style><table id=\"T_9981018c_3eea_11ec_9a71_54e1ad6086fc\" ><thead>    <tr>        <th class=\"blank level0\" ></th>        <th class=\"col_heading level0 col0\" >gender</th>        <th class=\"col_heading level0 col1\" >SeniorCitizen</th>        <th class=\"col_heading level0 col2\" >Partner</th>        <th class=\"col_heading level0 col3\" >Dependents</th>        <th class=\"col_heading level0 col4\" >tenure</th>        <th class=\"col_heading level0 col5\" >PhoneService</th>        <th class=\"col_heading level0 col6\" >MultipleLines</th>        <th class=\"col_heading level0 col7\" >InternetService</th>        <th class=\"col_heading level0 col8\" >OnlineSecurity</th>        <th class=\"col_heading level0 col9\" >OnlineBackup</th>        <th class=\"col_heading level0 col10\" >DeviceProtection</th>        <th class=\"col_heading level0 col11\" >TechSupport</th>        <th class=\"col_heading level0 col12\" >StreamingTV</th>        <th class=\"col_heading level0 col13\" >StreamingMovies</th>        <th class=\"col_heading level0 col14\" >Contract</th>        <th class=\"col_heading level0 col15\" >PaperlessBilling</th>        <th class=\"col_heading level0 col16\" >PaymentMethod</th>        <th class=\"col_heading level0 col17\" >MonthlyCharges</th>        <th class=\"col_heading level0 col18\" >TotalCharges</th>    </tr></thead><tbody>\n",
       "                <tr>\n",
       "                        <th id=\"T_9981018c_3eea_11ec_9a71_54e1ad6086fclevel0_row0\" class=\"row_heading level0 row0\" >gender</th>\n",
       "                        <td id=\"T_9981018c_3eea_11ec_9a71_54e1ad6086fcrow0_col0\" class=\"data row0 col0\" >1</td>\n",
       "                        <td id=\"T_9981018c_3eea_11ec_9a71_54e1ad6086fcrow0_col1\" class=\"data row0 col1\" >-0.00187371</td>\n",
       "                        <td id=\"T_9981018c_3eea_11ec_9a71_54e1ad6086fcrow0_col2\" class=\"data row0 col2\" >-0.00180808</td>\n",
       "                        <td id=\"T_9981018c_3eea_11ec_9a71_54e1ad6086fcrow0_col3\" class=\"data row0 col3\" >0.0105166</td>\n",
       "                        <td id=\"T_9981018c_3eea_11ec_9a71_54e1ad6086fcrow0_col4\" class=\"data row0 col4\" >0.00348627</td>\n",
       "                        <td id=\"T_9981018c_3eea_11ec_9a71_54e1ad6086fcrow0_col5\" class=\"data row0 col5\" >-0.00648767</td>\n",
       "                        <td id=\"T_9981018c_3eea_11ec_9a71_54e1ad6086fcrow0_col6\" class=\"data row0 col6\" >-0.00662578</td>\n",
       "                        <td id=\"T_9981018c_3eea_11ec_9a71_54e1ad6086fcrow0_col7\" class=\"data row0 col7\" >-0.00151733</td>\n",
       "                        <td id=\"T_9981018c_3eea_11ec_9a71_54e1ad6086fcrow0_col8\" class=\"data row0 col8\" >-0.0143189</td>\n",
       "                        <td id=\"T_9981018c_3eea_11ec_9a71_54e1ad6086fcrow0_col9\" class=\"data row0 col9\" >-0.0118085</td>\n",
       "                        <td id=\"T_9981018c_3eea_11ec_9a71_54e1ad6086fcrow0_col10\" class=\"data row0 col10\" >0.00076849</td>\n",
       "                        <td id=\"T_9981018c_3eea_11ec_9a71_54e1ad6086fcrow0_col11\" class=\"data row0 col11\" >-0.00626276</td>\n",
       "                        <td id=\"T_9981018c_3eea_11ec_9a71_54e1ad6086fcrow0_col12\" class=\"data row0 col12\" >-0.00638724</td>\n",
       "                        <td id=\"T_9981018c_3eea_11ec_9a71_54e1ad6086fcrow0_col13\" class=\"data row0 col13\" >-0.00872566</td>\n",
       "                        <td id=\"T_9981018c_3eea_11ec_9a71_54e1ad6086fcrow0_col14\" class=\"data row0 col14\" >0.00109389</td>\n",
       "                        <td id=\"T_9981018c_3eea_11ec_9a71_54e1ad6086fcrow0_col15\" class=\"data row0 col15\" >-0.0117537</td>\n",
       "                        <td id=\"T_9981018c_3eea_11ec_9a71_54e1ad6086fcrow0_col16\" class=\"data row0 col16\" >0.0171192</td>\n",
       "                        <td id=\"T_9981018c_3eea_11ec_9a71_54e1ad6086fcrow0_col17\" class=\"data row0 col17\" >-0.0137365</td>\n",
       "                        <td id=\"T_9981018c_3eea_11ec_9a71_54e1ad6086fcrow0_col18\" class=\"data row0 col18\" >-0.00139398</td>\n",
       "            </tr>\n",
       "            <tr>\n",
       "                        <th id=\"T_9981018c_3eea_11ec_9a71_54e1ad6086fclevel0_row1\" class=\"row_heading level0 row1\" >SeniorCitizen</th>\n",
       "                        <td id=\"T_9981018c_3eea_11ec_9a71_54e1ad6086fcrow1_col0\" class=\"data row1 col0\" >-0.00187371</td>\n",
       "                        <td id=\"T_9981018c_3eea_11ec_9a71_54e1ad6086fcrow1_col1\" class=\"data row1 col1\" >1</td>\n",
       "                        <td id=\"T_9981018c_3eea_11ec_9a71_54e1ad6086fcrow1_col2\" class=\"data row1 col2\" >0.0164787</td>\n",
       "                        <td id=\"T_9981018c_3eea_11ec_9a71_54e1ad6086fcrow1_col3\" class=\"data row1 col3\" >-0.211185</td>\n",
       "                        <td id=\"T_9981018c_3eea_11ec_9a71_54e1ad6086fcrow1_col4\" class=\"data row1 col4\" >0.0185556</td>\n",
       "                        <td id=\"T_9981018c_3eea_11ec_9a71_54e1ad6086fcrow1_col5\" class=\"data row1 col5\" >0.0085764</td>\n",
       "                        <td id=\"T_9981018c_3eea_11ec_9a71_54e1ad6086fcrow1_col6\" class=\"data row1 col6\" >0.145968</td>\n",
       "                        <td id=\"T_9981018c_3eea_11ec_9a71_54e1ad6086fcrow1_col7\" class=\"data row1 col7\" >-0.0169635</td>\n",
       "                        <td id=\"T_9981018c_3eea_11ec_9a71_54e1ad6086fcrow1_col8\" class=\"data row1 col8\" >-0.141363</td>\n",
       "                        <td id=\"T_9981018c_3eea_11ec_9a71_54e1ad6086fcrow1_col9\" class=\"data row1 col9\" >-0.0201572</td>\n",
       "                        <td id=\"T_9981018c_3eea_11ec_9a71_54e1ad6086fcrow1_col10\" class=\"data row1 col10\" >-0.0280399</td>\n",
       "                        <td id=\"T_9981018c_3eea_11ec_9a71_54e1ad6086fcrow1_col11\" class=\"data row1 col11\" >-0.163717</td>\n",
       "                        <td id=\"T_9981018c_3eea_11ec_9a71_54e1ad6086fcrow1_col12\" class=\"data row1 col12\" >0.0297518</td>\n",
       "                        <td id=\"T_9981018c_3eea_11ec_9a71_54e1ad6086fcrow1_col13\" class=\"data row1 col13\" >0.0467394</td>\n",
       "                        <td id=\"T_9981018c_3eea_11ec_9a71_54e1ad6086fcrow1_col14\" class=\"data row1 col14\" >-0.14385</td>\n",
       "                        <td id=\"T_9981018c_3eea_11ec_9a71_54e1ad6086fcrow1_col15\" class=\"data row1 col15\" >0.15653</td>\n",
       "                        <td id=\"T_9981018c_3eea_11ec_9a71_54e1ad6086fcrow1_col16\" class=\"data row1 col16\" >-0.0437032</td>\n",
       "                        <td id=\"T_9981018c_3eea_11ec_9a71_54e1ad6086fcrow1_col17\" class=\"data row1 col17\" >0.221067</td>\n",
       "                        <td id=\"T_9981018c_3eea_11ec_9a71_54e1ad6086fcrow1_col18\" class=\"data row1 col18\" >0.108171</td>\n",
       "            </tr>\n",
       "            <tr>\n",
       "                        <th id=\"T_9981018c_3eea_11ec_9a71_54e1ad6086fclevel0_row2\" class=\"row_heading level0 row2\" >Partner</th>\n",
       "                        <td id=\"T_9981018c_3eea_11ec_9a71_54e1ad6086fcrow2_col0\" class=\"data row2 col0\" >-0.00180808</td>\n",
       "                        <td id=\"T_9981018c_3eea_11ec_9a71_54e1ad6086fcrow2_col1\" class=\"data row2 col1\" >0.0164787</td>\n",
       "                        <td id=\"T_9981018c_3eea_11ec_9a71_54e1ad6086fcrow2_col2\" class=\"data row2 col2\" >1</td>\n",
       "                        <td id=\"T_9981018c_3eea_11ec_9a71_54e1ad6086fcrow2_col3\" class=\"data row2 col3\" >0.452676</td>\n",
       "                        <td id=\"T_9981018c_3eea_11ec_9a71_54e1ad6086fcrow2_col4\" class=\"data row2 col4\" >0.384931</td>\n",
       "                        <td id=\"T_9981018c_3eea_11ec_9a71_54e1ad6086fcrow2_col5\" class=\"data row2 col5\" >0.0177057</td>\n",
       "                        <td id=\"T_9981018c_3eea_11ec_9a71_54e1ad6086fcrow2_col6\" class=\"data row2 col6\" >0.142041</td>\n",
       "                        <td id=\"T_9981018c_3eea_11ec_9a71_54e1ad6086fcrow2_col7\" class=\"data row2 col7\" >0.000899695</td>\n",
       "                        <td id=\"T_9981018c_3eea_11ec_9a71_54e1ad6086fcrow2_col8\" class=\"data row2 col8\" >0.148804</td>\n",
       "                        <td id=\"T_9981018c_3eea_11ec_9a71_54e1ad6086fcrow2_col9\" class=\"data row2 col9\" >0.152746</td>\n",
       "                        <td id=\"T_9981018c_3eea_11ec_9a71_54e1ad6086fcrow2_col10\" class=\"data row2 col10\" >0.165893</td>\n",
       "                        <td id=\"T_9981018c_3eea_11ec_9a71_54e1ad6086fcrow2_col11\" class=\"data row2 col11\" >0.125159</td>\n",
       "                        <td id=\"T_9981018c_3eea_11ec_9a71_54e1ad6086fcrow2_col12\" class=\"data row2 col12\" >0.137336</td>\n",
       "                        <td id=\"T_9981018c_3eea_11ec_9a71_54e1ad6086fcrow2_col13\" class=\"data row2 col13\" >0.129573</td>\n",
       "                        <td id=\"T_9981018c_3eea_11ec_9a71_54e1ad6086fcrow2_col14\" class=\"data row2 col14\" >0.295925</td>\n",
       "                        <td id=\"T_9981018c_3eea_11ec_9a71_54e1ad6086fcrow2_col15\" class=\"data row2 col15\" >-0.0148766</td>\n",
       "                        <td id=\"T_9981018c_3eea_11ec_9a71_54e1ad6086fcrow2_col16\" class=\"data row2 col16\" >-0.155247</td>\n",
       "                        <td id=\"T_9981018c_3eea_11ec_9a71_54e1ad6086fcrow2_col17\" class=\"data row2 col17\" >0.108463</td>\n",
       "                        <td id=\"T_9981018c_3eea_11ec_9a71_54e1ad6086fcrow2_col18\" class=\"data row2 col18\" >0.340298</td>\n",
       "            </tr>\n",
       "            <tr>\n",
       "                        <th id=\"T_9981018c_3eea_11ec_9a71_54e1ad6086fclevel0_row3\" class=\"row_heading level0 row3\" >Dependents</th>\n",
       "                        <td id=\"T_9981018c_3eea_11ec_9a71_54e1ad6086fcrow3_col0\" class=\"data row3 col0\" >0.0105166</td>\n",
       "                        <td id=\"T_9981018c_3eea_11ec_9a71_54e1ad6086fcrow3_col1\" class=\"data row3 col1\" >-0.211185</td>\n",
       "                        <td id=\"T_9981018c_3eea_11ec_9a71_54e1ad6086fcrow3_col2\" class=\"data row3 col2\" >0.452676</td>\n",
       "                        <td id=\"T_9981018c_3eea_11ec_9a71_54e1ad6086fcrow3_col3\" class=\"data row3 col3\" >1</td>\n",
       "                        <td id=\"T_9981018c_3eea_11ec_9a71_54e1ad6086fcrow3_col4\" class=\"data row3 col4\" >0.164175</td>\n",
       "                        <td id=\"T_9981018c_3eea_11ec_9a71_54e1ad6086fcrow3_col5\" class=\"data row3 col5\" >-0.00176168</td>\n",
       "                        <td id=\"T_9981018c_3eea_11ec_9a71_54e1ad6086fcrow3_col6\" class=\"data row3 col6\" >-0.0249486</td>\n",
       "                        <td id=\"T_9981018c_3eea_11ec_9a71_54e1ad6086fcrow3_col7\" class=\"data row3 col7\" >0.0343728</td>\n",
       "                        <td id=\"T_9981018c_3eea_11ec_9a71_54e1ad6086fcrow3_col8\" class=\"data row3 col8\" >0.161477</td>\n",
       "                        <td id=\"T_9981018c_3eea_11ec_9a71_54e1ad6086fcrow3_col9\" class=\"data row3 col9\" >0.0957933</td>\n",
       "                        <td id=\"T_9981018c_3eea_11ec_9a71_54e1ad6086fcrow3_col10\" class=\"data row3 col10\" >0.0854416</td>\n",
       "                        <td id=\"T_9981018c_3eea_11ec_9a71_54e1ad6086fcrow3_col11\" class=\"data row3 col11\" >0.14282</td>\n",
       "                        <td id=\"T_9981018c_3eea_11ec_9a71_54e1ad6086fcrow3_col12\" class=\"data row3 col12\" >0.0476642</td>\n",
       "                        <td id=\"T_9981018c_3eea_11ec_9a71_54e1ad6086fcrow3_col13\" class=\"data row3 col13\" >0.0217232</td>\n",
       "                        <td id=\"T_9981018c_3eea_11ec_9a71_54e1ad6086fcrow3_col14\" class=\"data row3 col14\" >0.24412</td>\n",
       "                        <td id=\"T_9981018c_3eea_11ec_9a71_54e1ad6086fcrow3_col15\" class=\"data row3 col15\" >-0.111377</td>\n",
       "                        <td id=\"T_9981018c_3eea_11ec_9a71_54e1ad6086fcrow3_col16\" class=\"data row3 col16\" >-0.0375898</td>\n",
       "                        <td id=\"T_9981018c_3eea_11ec_9a71_54e1ad6086fcrow3_col17\" class=\"data row3 col17\" >-0.107011</td>\n",
       "                        <td id=\"T_9981018c_3eea_11ec_9a71_54e1ad6086fcrow3_col18\" class=\"data row3 col18\" >0.0784087</td>\n",
       "            </tr>\n",
       "            <tr>\n",
       "                        <th id=\"T_9981018c_3eea_11ec_9a71_54e1ad6086fclevel0_row4\" class=\"row_heading level0 row4\" >tenure</th>\n",
       "                        <td id=\"T_9981018c_3eea_11ec_9a71_54e1ad6086fcrow4_col0\" class=\"data row4 col0\" >0.00348627</td>\n",
       "                        <td id=\"T_9981018c_3eea_11ec_9a71_54e1ad6086fcrow4_col1\" class=\"data row4 col1\" >0.0185556</td>\n",
       "                        <td id=\"T_9981018c_3eea_11ec_9a71_54e1ad6086fcrow4_col2\" class=\"data row4 col2\" >0.384931</td>\n",
       "                        <td id=\"T_9981018c_3eea_11ec_9a71_54e1ad6086fcrow4_col3\" class=\"data row4 col3\" >0.164175</td>\n",
       "                        <td id=\"T_9981018c_3eea_11ec_9a71_54e1ad6086fcrow4_col4\" class=\"data row4 col4\" >1</td>\n",
       "                        <td id=\"T_9981018c_3eea_11ec_9a71_54e1ad6086fcrow4_col5\" class=\"data row4 col5\" >0.00848314</td>\n",
       "                        <td id=\"T_9981018c_3eea_11ec_9a71_54e1ad6086fcrow4_col6\" class=\"data row4 col6\" >0.348444</td>\n",
       "                        <td id=\"T_9981018c_3eea_11ec_9a71_54e1ad6086fcrow4_col7\" class=\"data row4 col7\" >-0.0285748</td>\n",
       "                        <td id=\"T_9981018c_3eea_11ec_9a71_54e1ad6086fcrow4_col8\" class=\"data row4 col8\" >0.318672</td>\n",
       "                        <td id=\"T_9981018c_3eea_11ec_9a71_54e1ad6086fcrow4_col9\" class=\"data row4 col9\" >0.367451</td>\n",
       "                        <td id=\"T_9981018c_3eea_11ec_9a71_54e1ad6086fcrow4_col10\" class=\"data row4 col10\" >0.370751</td>\n",
       "                        <td id=\"T_9981018c_3eea_11ec_9a71_54e1ad6086fcrow4_col11\" class=\"data row4 col11\" >0.31746</td>\n",
       "                        <td id=\"T_9981018c_3eea_11ec_9a71_54e1ad6086fcrow4_col12\" class=\"data row4 col12\" >0.29365</td>\n",
       "                        <td id=\"T_9981018c_3eea_11ec_9a71_54e1ad6086fcrow4_col13\" class=\"data row4 col13\" >0.301412</td>\n",
       "                        <td id=\"T_9981018c_3eea_11ec_9a71_54e1ad6086fcrow4_col14\" class=\"data row4 col14\" >0.667623</td>\n",
       "                        <td id=\"T_9981018c_3eea_11ec_9a71_54e1ad6086fcrow4_col15\" class=\"data row4 col15\" >0.0076952</td>\n",
       "                        <td id=\"T_9981018c_3eea_11ec_9a71_54e1ad6086fcrow4_col16\" class=\"data row4 col16\" >-0.379356</td>\n",
       "                        <td id=\"T_9981018c_3eea_11ec_9a71_54e1ad6086fcrow4_col17\" class=\"data row4 col17\" >0.276417</td>\n",
       "                        <td id=\"T_9981018c_3eea_11ec_9a71_54e1ad6086fcrow4_col18\" class=\"data row4 col18\" >0.889696</td>\n",
       "            </tr>\n",
       "            <tr>\n",
       "                        <th id=\"T_9981018c_3eea_11ec_9a71_54e1ad6086fclevel0_row5\" class=\"row_heading level0 row5\" >PhoneService</th>\n",
       "                        <td id=\"T_9981018c_3eea_11ec_9a71_54e1ad6086fcrow5_col0\" class=\"data row5 col0\" >-0.00648767</td>\n",
       "                        <td id=\"T_9981018c_3eea_11ec_9a71_54e1ad6086fcrow5_col1\" class=\"data row5 col1\" >0.0085764</td>\n",
       "                        <td id=\"T_9981018c_3eea_11ec_9a71_54e1ad6086fcrow5_col2\" class=\"data row5 col2\" >0.0177057</td>\n",
       "                        <td id=\"T_9981018c_3eea_11ec_9a71_54e1ad6086fcrow5_col3\" class=\"data row5 col3\" >-0.00176168</td>\n",
       "                        <td id=\"T_9981018c_3eea_11ec_9a71_54e1ad6086fcrow5_col4\" class=\"data row5 col4\" >0.00848314</td>\n",
       "                        <td id=\"T_9981018c_3eea_11ec_9a71_54e1ad6086fcrow5_col5\" class=\"data row5 col5\" >1</td>\n",
       "                        <td id=\"T_9981018c_3eea_11ec_9a71_54e1ad6086fcrow5_col6\" class=\"data row5 col6\" >-0.037431</td>\n",
       "                        <td id=\"T_9981018c_3eea_11ec_9a71_54e1ad6086fcrow5_col7\" class=\"data row5 col7\" >0.400349</td>\n",
       "                        <td id=\"T_9981018c_3eea_11ec_9a71_54e1ad6086fcrow5_col8\" class=\"data row5 col8\" >-0.000943101</td>\n",
       "                        <td id=\"T_9981018c_3eea_11ec_9a71_54e1ad6086fcrow5_col9\" class=\"data row5 col9\" >0.0302239</td>\n",
       "                        <td id=\"T_9981018c_3eea_11ec_9a71_54e1ad6086fcrow5_col10\" class=\"data row5 col10\" >0.0100321</td>\n",
       "                        <td id=\"T_9981018c_3eea_11ec_9a71_54e1ad6086fcrow5_col11\" class=\"data row5 col11\" >-0.0053548</td>\n",
       "                        <td id=\"T_9981018c_3eea_11ec_9a71_54e1ad6086fcrow5_col12\" class=\"data row5 col12\" >0.0563133</td>\n",
       "                        <td id=\"T_9981018c_3eea_11ec_9a71_54e1ad6086fcrow5_col13\" class=\"data row5 col13\" >0.0443647</td>\n",
       "                        <td id=\"T_9981018c_3eea_11ec_9a71_54e1ad6086fcrow5_col14\" class=\"data row5 col14\" >0.00184151</td>\n",
       "                        <td id=\"T_9981018c_3eea_11ec_9a71_54e1ad6086fcrow5_col15\" class=\"data row5 col15\" >0.0165048</td>\n",
       "                        <td id=\"T_9981018c_3eea_11ec_9a71_54e1ad6086fcrow5_col16\" class=\"data row5 col16\" >-0.00380799</td>\n",
       "                        <td id=\"T_9981018c_3eea_11ec_9a71_54e1ad6086fcrow5_col17\" class=\"data row5 col17\" >0.239701</td>\n",
       "                        <td id=\"T_9981018c_3eea_11ec_9a71_54e1ad6086fcrow5_col18\" class=\"data row5 col18\" >0.0853706</td>\n",
       "            </tr>\n",
       "            <tr>\n",
       "                        <th id=\"T_9981018c_3eea_11ec_9a71_54e1ad6086fclevel0_row6\" class=\"row_heading level0 row6\" >MultipleLines</th>\n",
       "                        <td id=\"T_9981018c_3eea_11ec_9a71_54e1ad6086fcrow6_col0\" class=\"data row6 col0\" >-0.00662578</td>\n",
       "                        <td id=\"T_9981018c_3eea_11ec_9a71_54e1ad6086fcrow6_col1\" class=\"data row6 col1\" >0.145968</td>\n",
       "                        <td id=\"T_9981018c_3eea_11ec_9a71_54e1ad6086fcrow6_col2\" class=\"data row6 col2\" >0.142041</td>\n",
       "                        <td id=\"T_9981018c_3eea_11ec_9a71_54e1ad6086fcrow6_col3\" class=\"data row6 col3\" >-0.0249486</td>\n",
       "                        <td id=\"T_9981018c_3eea_11ec_9a71_54e1ad6086fcrow6_col4\" class=\"data row6 col4\" >0.348444</td>\n",
       "                        <td id=\"T_9981018c_3eea_11ec_9a71_54e1ad6086fcrow6_col5\" class=\"data row6 col5\" >-0.037431</td>\n",
       "                        <td id=\"T_9981018c_3eea_11ec_9a71_54e1ad6086fcrow6_col6\" class=\"data row6 col6\" >1</td>\n",
       "                        <td id=\"T_9981018c_3eea_11ec_9a71_54e1ad6086fcrow6_col7\" class=\"data row6 col7\" >-0.097689</td>\n",
       "                        <td id=\"T_9981018c_3eea_11ec_9a71_54e1ad6086fcrow6_col8\" class=\"data row6 col8\" >-0.0151986</td>\n",
       "                        <td id=\"T_9981018c_3eea_11ec_9a71_54e1ad6086fcrow6_col9\" class=\"data row6 col9\" >0.106652</td>\n",
       "                        <td id=\"T_9981018c_3eea_11ec_9a71_54e1ad6086fcrow6_col10\" class=\"data row6 col10\" >0.111745</td>\n",
       "                        <td id=\"T_9981018c_3eea_11ec_9a71_54e1ad6086fcrow6_col11\" class=\"data row6 col11\" >-0.0100749</td>\n",
       "                        <td id=\"T_9981018c_3eea_11ec_9a71_54e1ad6086fcrow6_col12\" class=\"data row6 col12\" >0.172484</td>\n",
       "                        <td id=\"T_9981018c_3eea_11ec_9a71_54e1ad6086fcrow6_col13\" class=\"data row6 col13\" >0.17933</td>\n",
       "                        <td id=\"T_9981018c_3eea_11ec_9a71_54e1ad6086fcrow6_col14\" class=\"data row6 col14\" >0.107037</td>\n",
       "                        <td id=\"T_9981018c_3eea_11ec_9a71_54e1ad6086fcrow6_col15\" class=\"data row6 col15\" >0.164786</td>\n",
       "                        <td id=\"T_9981018c_3eea_11ec_9a71_54e1ad6086fcrow6_col16\" class=\"data row6 col16\" >-0.182721</td>\n",
       "                        <td id=\"T_9981018c_3eea_11ec_9a71_54e1ad6086fcrow6_col17\" class=\"data row6 col17\" >0.46421</td>\n",
       "                        <td id=\"T_9981018c_3eea_11ec_9a71_54e1ad6086fcrow6_col18\" class=\"data row6 col18\" >0.460102</td>\n",
       "            </tr>\n",
       "            <tr>\n",
       "                        <th id=\"T_9981018c_3eea_11ec_9a71_54e1ad6086fclevel0_row7\" class=\"row_heading level0 row7\" >InternetService</th>\n",
       "                        <td id=\"T_9981018c_3eea_11ec_9a71_54e1ad6086fcrow7_col0\" class=\"data row7 col0\" >-0.00151733</td>\n",
       "                        <td id=\"T_9981018c_3eea_11ec_9a71_54e1ad6086fcrow7_col1\" class=\"data row7 col1\" >-0.0169635</td>\n",
       "                        <td id=\"T_9981018c_3eea_11ec_9a71_54e1ad6086fcrow7_col2\" class=\"data row7 col2\" >0.000899695</td>\n",
       "                        <td id=\"T_9981018c_3eea_11ec_9a71_54e1ad6086fcrow7_col3\" class=\"data row7 col3\" >0.0343728</td>\n",
       "                        <td id=\"T_9981018c_3eea_11ec_9a71_54e1ad6086fcrow7_col4\" class=\"data row7 col4\" >-0.0285748</td>\n",
       "                        <td id=\"T_9981018c_3eea_11ec_9a71_54e1ad6086fcrow7_col5\" class=\"data row7 col5\" >0.400349</td>\n",
       "                        <td id=\"T_9981018c_3eea_11ec_9a71_54e1ad6086fcrow7_col6\" class=\"data row7 col6\" >-0.097689</td>\n",
       "                        <td id=\"T_9981018c_3eea_11ec_9a71_54e1ad6086fcrow7_col7\" class=\"data row7 col7\" >1</td>\n",
       "                        <td id=\"T_9981018c_3eea_11ec_9a71_54e1ad6086fcrow7_col8\" class=\"data row7 col8\" >0.0200742</td>\n",
       "                        <td id=\"T_9981018c_3eea_11ec_9a71_54e1ad6086fcrow7_col9\" class=\"data row7 col9\" >0.0609248</td>\n",
       "                        <td id=\"T_9981018c_3eea_11ec_9a71_54e1ad6086fcrow7_col10\" class=\"data row7 col10\" >0.0708485</td>\n",
       "                        <td id=\"T_9981018c_3eea_11ec_9a71_54e1ad6086fcrow7_col11\" class=\"data row7 col11\" >0.0208153</td>\n",
       "                        <td id=\"T_9981018c_3eea_11ec_9a71_54e1ad6086fcrow7_col12\" class=\"data row7 col12\" >0.119093</td>\n",
       "                        <td id=\"T_9981018c_3eea_11ec_9a71_54e1ad6086fcrow7_col13\" class=\"data row7 col13\" >0.107663</td>\n",
       "                        <td id=\"T_9981018c_3eea_11ec_9a71_54e1ad6086fcrow7_col14\" class=\"data row7 col14\" >0.079586</td>\n",
       "                        <td id=\"T_9981018c_3eea_11ec_9a71_54e1ad6086fcrow7_col15\" class=\"data row7 col15\" >-0.117944</td>\n",
       "                        <td id=\"T_9981018c_3eea_11ec_9a71_54e1ad6086fcrow7_col16\" class=\"data row7 col16\" >0.0846861</td>\n",
       "                        <td id=\"T_9981018c_3eea_11ec_9a71_54e1ad6086fcrow7_col17\" class=\"data row7 col17\" >-0.206889</td>\n",
       "                        <td id=\"T_9981018c_3eea_11ec_9a71_54e1ad6086fcrow7_col18\" class=\"data row7 col18\" >-0.188862</td>\n",
       "            </tr>\n",
       "            <tr>\n",
       "                        <th id=\"T_9981018c_3eea_11ec_9a71_54e1ad6086fclevel0_row8\" class=\"row_heading level0 row8\" >OnlineSecurity</th>\n",
       "                        <td id=\"T_9981018c_3eea_11ec_9a71_54e1ad6086fcrow8_col0\" class=\"data row8 col0\" >-0.0143189</td>\n",
       "                        <td id=\"T_9981018c_3eea_11ec_9a71_54e1ad6086fcrow8_col1\" class=\"data row8 col1\" >-0.141363</td>\n",
       "                        <td id=\"T_9981018c_3eea_11ec_9a71_54e1ad6086fcrow8_col2\" class=\"data row8 col2\" >0.148804</td>\n",
       "                        <td id=\"T_9981018c_3eea_11ec_9a71_54e1ad6086fcrow8_col3\" class=\"data row8 col3\" >0.161477</td>\n",
       "                        <td id=\"T_9981018c_3eea_11ec_9a71_54e1ad6086fcrow8_col4\" class=\"data row8 col4\" >0.318672</td>\n",
       "                        <td id=\"T_9981018c_3eea_11ec_9a71_54e1ad6086fcrow8_col5\" class=\"data row8 col5\" >-0.000943101</td>\n",
       "                        <td id=\"T_9981018c_3eea_11ec_9a71_54e1ad6086fcrow8_col6\" class=\"data row8 col6\" >-0.0151986</td>\n",
       "                        <td id=\"T_9981018c_3eea_11ec_9a71_54e1ad6086fcrow8_col7\" class=\"data row8 col7\" >0.0200742</td>\n",
       "                        <td id=\"T_9981018c_3eea_11ec_9a71_54e1ad6086fcrow8_col8\" class=\"data row8 col8\" >1</td>\n",
       "                        <td id=\"T_9981018c_3eea_11ec_9a71_54e1ad6086fcrow8_col9\" class=\"data row8 col9\" >0.194121</td>\n",
       "                        <td id=\"T_9981018c_3eea_11ec_9a71_54e1ad6086fcrow8_col10\" class=\"data row8 col10\" >0.185368</td>\n",
       "                        <td id=\"T_9981018c_3eea_11ec_9a71_54e1ad6086fcrow8_col11\" class=\"data row8 col11\" >0.303877</td>\n",
       "                        <td id=\"T_9981018c_3eea_11ec_9a71_54e1ad6086fcrow8_col12\" class=\"data row8 col12\" >0.0459262</td>\n",
       "                        <td id=\"T_9981018c_3eea_11ec_9a71_54e1ad6086fcrow8_col13\" class=\"data row8 col13\" >0.0561474</td>\n",
       "                        <td id=\"T_9981018c_3eea_11ec_9a71_54e1ad6086fcrow8_col14\" class=\"data row8 col14\" >0.392417</td>\n",
       "                        <td id=\"T_9981018c_3eea_11ec_9a71_54e1ad6086fcrow8_col15\" class=\"data row8 col15\" >-0.181656</td>\n",
       "                        <td id=\"T_9981018c_3eea_11ec_9a71_54e1ad6086fcrow8_col16\" class=\"data row8 col16\" >-0.080632</td>\n",
       "                        <td id=\"T_9981018c_3eea_11ec_9a71_54e1ad6086fcrow8_col17\" class=\"data row8 col17\" >-0.108483</td>\n",
       "                        <td id=\"T_9981018c_3eea_11ec_9a71_54e1ad6086fcrow8_col18\" class=\"data row8 col18\" >0.20813</td>\n",
       "            </tr>\n",
       "            <tr>\n",
       "                        <th id=\"T_9981018c_3eea_11ec_9a71_54e1ad6086fclevel0_row9\" class=\"row_heading level0 row9\" >OnlineBackup</th>\n",
       "                        <td id=\"T_9981018c_3eea_11ec_9a71_54e1ad6086fcrow9_col0\" class=\"data row9 col0\" >-0.0118085</td>\n",
       "                        <td id=\"T_9981018c_3eea_11ec_9a71_54e1ad6086fcrow9_col1\" class=\"data row9 col1\" >-0.0201572</td>\n",
       "                        <td id=\"T_9981018c_3eea_11ec_9a71_54e1ad6086fcrow9_col2\" class=\"data row9 col2\" >0.152746</td>\n",
       "                        <td id=\"T_9981018c_3eea_11ec_9a71_54e1ad6086fcrow9_col3\" class=\"data row9 col3\" >0.0957933</td>\n",
       "                        <td id=\"T_9981018c_3eea_11ec_9a71_54e1ad6086fcrow9_col4\" class=\"data row9 col4\" >0.367451</td>\n",
       "                        <td id=\"T_9981018c_3eea_11ec_9a71_54e1ad6086fcrow9_col5\" class=\"data row9 col5\" >0.0302239</td>\n",
       "                        <td id=\"T_9981018c_3eea_11ec_9a71_54e1ad6086fcrow9_col6\" class=\"data row9 col6\" >0.106652</td>\n",
       "                        <td id=\"T_9981018c_3eea_11ec_9a71_54e1ad6086fcrow9_col7\" class=\"data row9 col7\" >0.0609248</td>\n",
       "                        <td id=\"T_9981018c_3eea_11ec_9a71_54e1ad6086fcrow9_col8\" class=\"data row9 col8\" >0.194121</td>\n",
       "                        <td id=\"T_9981018c_3eea_11ec_9a71_54e1ad6086fcrow9_col9\" class=\"data row9 col9\" >1</td>\n",
       "                        <td id=\"T_9981018c_3eea_11ec_9a71_54e1ad6086fcrow9_col10\" class=\"data row9 col10\" >0.192148</td>\n",
       "                        <td id=\"T_9981018c_3eea_11ec_9a71_54e1ad6086fcrow9_col11\" class=\"data row9 col11\" >0.204336</td>\n",
       "                        <td id=\"T_9981018c_3eea_11ec_9a71_54e1ad6086fcrow9_col12\" class=\"data row9 col12\" >0.147611</td>\n",
       "                        <td id=\"T_9981018c_3eea_11ec_9a71_54e1ad6086fcrow9_col13\" class=\"data row9 col13\" >0.136782</td>\n",
       "                        <td id=\"T_9981018c_3eea_11ec_9a71_54e1ad6086fcrow9_col14\" class=\"data row9 col14\" >0.293445</td>\n",
       "                        <td id=\"T_9981018c_3eea_11ec_9a71_54e1ad6086fcrow9_col15\" class=\"data row9 col15\" >-0.0248606</td>\n",
       "                        <td id=\"T_9981018c_3eea_11ec_9a71_54e1ad6086fcrow9_col16\" class=\"data row9 col16\" >-0.119225</td>\n",
       "                        <td id=\"T_9981018c_3eea_11ec_9a71_54e1ad6086fcrow9_col17\" class=\"data row9 col17\" >0.111845</td>\n",
       "                        <td id=\"T_9981018c_3eea_11ec_9a71_54e1ad6086fcrow9_col18\" class=\"data row9 col18\" >0.332762</td>\n",
       "            </tr>\n",
       "            <tr>\n",
       "                        <th id=\"T_9981018c_3eea_11ec_9a71_54e1ad6086fclevel0_row10\" class=\"row_heading level0 row10\" >DeviceProtection</th>\n",
       "                        <td id=\"T_9981018c_3eea_11ec_9a71_54e1ad6086fcrow10_col0\" class=\"data row10 col0\" >0.00076849</td>\n",
       "                        <td id=\"T_9981018c_3eea_11ec_9a71_54e1ad6086fcrow10_col1\" class=\"data row10 col1\" >-0.0280399</td>\n",
       "                        <td id=\"T_9981018c_3eea_11ec_9a71_54e1ad6086fcrow10_col2\" class=\"data row10 col2\" >0.165893</td>\n",
       "                        <td id=\"T_9981018c_3eea_11ec_9a71_54e1ad6086fcrow10_col3\" class=\"data row10 col3\" >0.0854416</td>\n",
       "                        <td id=\"T_9981018c_3eea_11ec_9a71_54e1ad6086fcrow10_col4\" class=\"data row10 col4\" >0.370751</td>\n",
       "                        <td id=\"T_9981018c_3eea_11ec_9a71_54e1ad6086fcrow10_col5\" class=\"data row10 col5\" >0.0100321</td>\n",
       "                        <td id=\"T_9981018c_3eea_11ec_9a71_54e1ad6086fcrow10_col6\" class=\"data row10 col6\" >0.111745</td>\n",
       "                        <td id=\"T_9981018c_3eea_11ec_9a71_54e1ad6086fcrow10_col7\" class=\"data row10 col7\" >0.0708485</td>\n",
       "                        <td id=\"T_9981018c_3eea_11ec_9a71_54e1ad6086fcrow10_col8\" class=\"data row10 col8\" >0.185368</td>\n",
       "                        <td id=\"T_9981018c_3eea_11ec_9a71_54e1ad6086fcrow10_col9\" class=\"data row10 col9\" >0.192148</td>\n",
       "                        <td id=\"T_9981018c_3eea_11ec_9a71_54e1ad6086fcrow10_col10\" class=\"data row10 col10\" >1</td>\n",
       "                        <td id=\"T_9981018c_3eea_11ec_9a71_54e1ad6086fcrow10_col11\" class=\"data row10 col11\" >0.24871</td>\n",
       "                        <td id=\"T_9981018c_3eea_11ec_9a71_54e1ad6086fcrow10_col12\" class=\"data row10 col12\" >0.276711</td>\n",
       "                        <td id=\"T_9981018c_3eea_11ec_9a71_54e1ad6086fcrow10_col13\" class=\"data row10 col13\" >0.28843</td>\n",
       "                        <td id=\"T_9981018c_3eea_11ec_9a71_54e1ad6086fcrow10_col14\" class=\"data row10 col14\" >0.363058</td>\n",
       "                        <td id=\"T_9981018c_3eea_11ec_9a71_54e1ad6086fcrow10_col15\" class=\"data row10 col15\" >-0.0499003</td>\n",
       "                        <td id=\"T_9981018c_3eea_11ec_9a71_54e1ad6086fcrow10_col16\" class=\"data row10 col16\" >-0.13112</td>\n",
       "                        <td id=\"T_9981018c_3eea_11ec_9a71_54e1ad6086fcrow10_col17\" class=\"data row10 col17\" >0.158987</td>\n",
       "                        <td id=\"T_9981018c_3eea_11ec_9a71_54e1ad6086fcrow10_col18\" class=\"data row10 col18\" >0.350661</td>\n",
       "            </tr>\n",
       "            <tr>\n",
       "                        <th id=\"T_9981018c_3eea_11ec_9a71_54e1ad6086fclevel0_row11\" class=\"row_heading level0 row11\" >TechSupport</th>\n",
       "                        <td id=\"T_9981018c_3eea_11ec_9a71_54e1ad6086fcrow11_col0\" class=\"data row11 col0\" >-0.00626276</td>\n",
       "                        <td id=\"T_9981018c_3eea_11ec_9a71_54e1ad6086fcrow11_col1\" class=\"data row11 col1\" >-0.163717</td>\n",
       "                        <td id=\"T_9981018c_3eea_11ec_9a71_54e1ad6086fcrow11_col2\" class=\"data row11 col2\" >0.125159</td>\n",
       "                        <td id=\"T_9981018c_3eea_11ec_9a71_54e1ad6086fcrow11_col3\" class=\"data row11 col3\" >0.14282</td>\n",
       "                        <td id=\"T_9981018c_3eea_11ec_9a71_54e1ad6086fcrow11_col4\" class=\"data row11 col4\" >0.31746</td>\n",
       "                        <td id=\"T_9981018c_3eea_11ec_9a71_54e1ad6086fcrow11_col5\" class=\"data row11 col5\" >-0.0053548</td>\n",
       "                        <td id=\"T_9981018c_3eea_11ec_9a71_54e1ad6086fcrow11_col6\" class=\"data row11 col6\" >-0.0100749</td>\n",
       "                        <td id=\"T_9981018c_3eea_11ec_9a71_54e1ad6086fcrow11_col7\" class=\"data row11 col7\" >0.0208153</td>\n",
       "                        <td id=\"T_9981018c_3eea_11ec_9a71_54e1ad6086fcrow11_col8\" class=\"data row11 col8\" >0.303877</td>\n",
       "                        <td id=\"T_9981018c_3eea_11ec_9a71_54e1ad6086fcrow11_col9\" class=\"data row11 col9\" >0.204336</td>\n",
       "                        <td id=\"T_9981018c_3eea_11ec_9a71_54e1ad6086fcrow11_col10\" class=\"data row11 col10\" >0.24871</td>\n",
       "                        <td id=\"T_9981018c_3eea_11ec_9a71_54e1ad6086fcrow11_col11\" class=\"data row11 col11\" >1</td>\n",
       "                        <td id=\"T_9981018c_3eea_11ec_9a71_54e1ad6086fcrow11_col12\" class=\"data row11 col12\" >0.161038</td>\n",
       "                        <td id=\"T_9981018c_3eea_11ec_9a71_54e1ad6086fcrow11_col13\" class=\"data row11 col13\" >0.160178</td>\n",
       "                        <td id=\"T_9981018c_3eea_11ec_9a71_54e1ad6086fcrow11_col14\" class=\"data row11 col14\" >0.440338</td>\n",
       "                        <td id=\"T_9981018c_3eea_11ec_9a71_54e1ad6086fcrow11_col15\" class=\"data row11 col15\" >-0.137417</td>\n",
       "                        <td id=\"T_9981018c_3eea_11ec_9a71_54e1ad6086fcrow11_col16\" class=\"data row11 col16\" >-0.088904</td>\n",
       "                        <td id=\"T_9981018c_3eea_11ec_9a71_54e1ad6086fcrow11_col17\" class=\"data row11 col17\" >-0.0564847</td>\n",
       "                        <td id=\"T_9981018c_3eea_11ec_9a71_54e1ad6086fcrow11_col18\" class=\"data row11 col18\" >0.225007</td>\n",
       "            </tr>\n",
       "            <tr>\n",
       "                        <th id=\"T_9981018c_3eea_11ec_9a71_54e1ad6086fclevel0_row12\" class=\"row_heading level0 row12\" >StreamingTV</th>\n",
       "                        <td id=\"T_9981018c_3eea_11ec_9a71_54e1ad6086fcrow12_col0\" class=\"data row12 col0\" >-0.00638724</td>\n",
       "                        <td id=\"T_9981018c_3eea_11ec_9a71_54e1ad6086fcrow12_col1\" class=\"data row12 col1\" >0.0297518</td>\n",
       "                        <td id=\"T_9981018c_3eea_11ec_9a71_54e1ad6086fcrow12_col2\" class=\"data row12 col2\" >0.137336</td>\n",
       "                        <td id=\"T_9981018c_3eea_11ec_9a71_54e1ad6086fcrow12_col3\" class=\"data row12 col3\" >0.0476642</td>\n",
       "                        <td id=\"T_9981018c_3eea_11ec_9a71_54e1ad6086fcrow12_col4\" class=\"data row12 col4\" >0.29365</td>\n",
       "                        <td id=\"T_9981018c_3eea_11ec_9a71_54e1ad6086fcrow12_col5\" class=\"data row12 col5\" >0.0563133</td>\n",
       "                        <td id=\"T_9981018c_3eea_11ec_9a71_54e1ad6086fcrow12_col6\" class=\"data row12 col6\" >0.172484</td>\n",
       "                        <td id=\"T_9981018c_3eea_11ec_9a71_54e1ad6086fcrow12_col7\" class=\"data row12 col7\" >0.119093</td>\n",
       "                        <td id=\"T_9981018c_3eea_11ec_9a71_54e1ad6086fcrow12_col8\" class=\"data row12 col8\" >0.0459262</td>\n",
       "                        <td id=\"T_9981018c_3eea_11ec_9a71_54e1ad6086fcrow12_col9\" class=\"data row12 col9\" >0.147611</td>\n",
       "                        <td id=\"T_9981018c_3eea_11ec_9a71_54e1ad6086fcrow12_col10\" class=\"data row12 col10\" >0.276711</td>\n",
       "                        <td id=\"T_9981018c_3eea_11ec_9a71_54e1ad6086fcrow12_col11\" class=\"data row12 col11\" >0.161038</td>\n",
       "                        <td id=\"T_9981018c_3eea_11ec_9a71_54e1ad6086fcrow12_col12\" class=\"data row12 col12\" >1</td>\n",
       "                        <td id=\"T_9981018c_3eea_11ec_9a71_54e1ad6086fcrow12_col13\" class=\"data row12 col13\" >0.434803</td>\n",
       "                        <td id=\"T_9981018c_3eea_11ec_9a71_54e1ad6086fcrow12_col14\" class=\"data row12 col14\" >0.231926</td>\n",
       "                        <td id=\"T_9981018c_3eea_11ec_9a71_54e1ad6086fcrow12_col15\" class=\"data row12 col15\" >0.0948391</td>\n",
       "                        <td id=\"T_9981018c_3eea_11ec_9a71_54e1ad6086fcrow12_col16\" class=\"data row12 col16\" >-0.106461</td>\n",
       "                        <td id=\"T_9981018c_3eea_11ec_9a71_54e1ad6086fcrow12_col17\" class=\"data row12 col17\" >0.371644</td>\n",
       "                        <td id=\"T_9981018c_3eea_11ec_9a71_54e1ad6086fcrow12_col18\" class=\"data row12 col18\" >0.361614</td>\n",
       "            </tr>\n",
       "            <tr>\n",
       "                        <th id=\"T_9981018c_3eea_11ec_9a71_54e1ad6086fclevel0_row13\" class=\"row_heading level0 row13\" >StreamingMovies</th>\n",
       "                        <td id=\"T_9981018c_3eea_11ec_9a71_54e1ad6086fcrow13_col0\" class=\"data row13 col0\" >-0.00872566</td>\n",
       "                        <td id=\"T_9981018c_3eea_11ec_9a71_54e1ad6086fcrow13_col1\" class=\"data row13 col1\" >0.0467394</td>\n",
       "                        <td id=\"T_9981018c_3eea_11ec_9a71_54e1ad6086fcrow13_col2\" class=\"data row13 col2\" >0.129573</td>\n",
       "                        <td id=\"T_9981018c_3eea_11ec_9a71_54e1ad6086fcrow13_col3\" class=\"data row13 col3\" >0.0217232</td>\n",
       "                        <td id=\"T_9981018c_3eea_11ec_9a71_54e1ad6086fcrow13_col4\" class=\"data row13 col4\" >0.301412</td>\n",
       "                        <td id=\"T_9981018c_3eea_11ec_9a71_54e1ad6086fcrow13_col5\" class=\"data row13 col5\" >0.0443647</td>\n",
       "                        <td id=\"T_9981018c_3eea_11ec_9a71_54e1ad6086fcrow13_col6\" class=\"data row13 col6\" >0.17933</td>\n",
       "                        <td id=\"T_9981018c_3eea_11ec_9a71_54e1ad6086fcrow13_col7\" class=\"data row13 col7\" >0.107663</td>\n",
       "                        <td id=\"T_9981018c_3eea_11ec_9a71_54e1ad6086fcrow13_col8\" class=\"data row13 col8\" >0.0561474</td>\n",
       "                        <td id=\"T_9981018c_3eea_11ec_9a71_54e1ad6086fcrow13_col9\" class=\"data row13 col9\" >0.136782</td>\n",
       "                        <td id=\"T_9981018c_3eea_11ec_9a71_54e1ad6086fcrow13_col10\" class=\"data row13 col10\" >0.28843</td>\n",
       "                        <td id=\"T_9981018c_3eea_11ec_9a71_54e1ad6086fcrow13_col11\" class=\"data row13 col11\" >0.160178</td>\n",
       "                        <td id=\"T_9981018c_3eea_11ec_9a71_54e1ad6086fcrow13_col12\" class=\"data row13 col12\" >0.434803</td>\n",
       "                        <td id=\"T_9981018c_3eea_11ec_9a71_54e1ad6086fcrow13_col13\" class=\"data row13 col13\" >1</td>\n",
       "                        <td id=\"T_9981018c_3eea_11ec_9a71_54e1ad6086fcrow13_col14\" class=\"data row13 col14\" >0.235726</td>\n",
       "                        <td id=\"T_9981018c_3eea_11ec_9a71_54e1ad6086fcrow13_col15\" class=\"data row13 col15\" >0.0827748</td>\n",
       "                        <td id=\"T_9981018c_3eea_11ec_9a71_54e1ad6086fcrow13_col16\" class=\"data row13 col16\" >-0.11406</td>\n",
       "                        <td id=\"T_9981018c_3eea_11ec_9a71_54e1ad6086fcrow13_col17\" class=\"data row13 col17\" >0.371941</td>\n",
       "                        <td id=\"T_9981018c_3eea_11ec_9a71_54e1ad6086fcrow13_col18\" class=\"data row13 col18\" >0.369998</td>\n",
       "            </tr>\n",
       "            <tr>\n",
       "                        <th id=\"T_9981018c_3eea_11ec_9a71_54e1ad6086fclevel0_row14\" class=\"row_heading level0 row14\" >Contract</th>\n",
       "                        <td id=\"T_9981018c_3eea_11ec_9a71_54e1ad6086fcrow14_col0\" class=\"data row14 col0\" >0.00109389</td>\n",
       "                        <td id=\"T_9981018c_3eea_11ec_9a71_54e1ad6086fcrow14_col1\" class=\"data row14 col1\" >-0.14385</td>\n",
       "                        <td id=\"T_9981018c_3eea_11ec_9a71_54e1ad6086fcrow14_col2\" class=\"data row14 col2\" >0.295925</td>\n",
       "                        <td id=\"T_9981018c_3eea_11ec_9a71_54e1ad6086fcrow14_col3\" class=\"data row14 col3\" >0.24412</td>\n",
       "                        <td id=\"T_9981018c_3eea_11ec_9a71_54e1ad6086fcrow14_col4\" class=\"data row14 col4\" >0.667623</td>\n",
       "                        <td id=\"T_9981018c_3eea_11ec_9a71_54e1ad6086fcrow14_col5\" class=\"data row14 col5\" >0.00184151</td>\n",
       "                        <td id=\"T_9981018c_3eea_11ec_9a71_54e1ad6086fcrow14_col6\" class=\"data row14 col6\" >0.107037</td>\n",
       "                        <td id=\"T_9981018c_3eea_11ec_9a71_54e1ad6086fcrow14_col7\" class=\"data row14 col7\" >0.079586</td>\n",
       "                        <td id=\"T_9981018c_3eea_11ec_9a71_54e1ad6086fcrow14_col8\" class=\"data row14 col8\" >0.392417</td>\n",
       "                        <td id=\"T_9981018c_3eea_11ec_9a71_54e1ad6086fcrow14_col9\" class=\"data row14 col9\" >0.293445</td>\n",
       "                        <td id=\"T_9981018c_3eea_11ec_9a71_54e1ad6086fcrow14_col10\" class=\"data row14 col10\" >0.363058</td>\n",
       "                        <td id=\"T_9981018c_3eea_11ec_9a71_54e1ad6086fcrow14_col11\" class=\"data row14 col11\" >0.440338</td>\n",
       "                        <td id=\"T_9981018c_3eea_11ec_9a71_54e1ad6086fcrow14_col12\" class=\"data row14 col12\" >0.231926</td>\n",
       "                        <td id=\"T_9981018c_3eea_11ec_9a71_54e1ad6086fcrow14_col13\" class=\"data row14 col13\" >0.235726</td>\n",
       "                        <td id=\"T_9981018c_3eea_11ec_9a71_54e1ad6086fcrow14_col14\" class=\"data row14 col14\" >1</td>\n",
       "                        <td id=\"T_9981018c_3eea_11ec_9a71_54e1ad6086fcrow14_col15\" class=\"data row14 col15\" >-0.177617</td>\n",
       "                        <td id=\"T_9981018c_3eea_11ec_9a71_54e1ad6086fcrow14_col16\" class=\"data row14 col16\" >-0.226507</td>\n",
       "                        <td id=\"T_9981018c_3eea_11ec_9a71_54e1ad6086fcrow14_col17\" class=\"data row14 col17\" >-0.0488279</td>\n",
       "                        <td id=\"T_9981018c_3eea_11ec_9a71_54e1ad6086fcrow14_col18\" class=\"data row14 col18\" >0.46181</td>\n",
       "            </tr>\n",
       "            <tr>\n",
       "                        <th id=\"T_9981018c_3eea_11ec_9a71_54e1ad6086fclevel0_row15\" class=\"row_heading level0 row15\" >PaperlessBilling</th>\n",
       "                        <td id=\"T_9981018c_3eea_11ec_9a71_54e1ad6086fcrow15_col0\" class=\"data row15 col0\" >-0.0117537</td>\n",
       "                        <td id=\"T_9981018c_3eea_11ec_9a71_54e1ad6086fcrow15_col1\" class=\"data row15 col1\" >0.15653</td>\n",
       "                        <td id=\"T_9981018c_3eea_11ec_9a71_54e1ad6086fcrow15_col2\" class=\"data row15 col2\" >-0.0148766</td>\n",
       "                        <td id=\"T_9981018c_3eea_11ec_9a71_54e1ad6086fcrow15_col3\" class=\"data row15 col3\" >-0.111377</td>\n",
       "                        <td id=\"T_9981018c_3eea_11ec_9a71_54e1ad6086fcrow15_col4\" class=\"data row15 col4\" >0.0076952</td>\n",
       "                        <td id=\"T_9981018c_3eea_11ec_9a71_54e1ad6086fcrow15_col5\" class=\"data row15 col5\" >0.0165048</td>\n",
       "                        <td id=\"T_9981018c_3eea_11ec_9a71_54e1ad6086fcrow15_col6\" class=\"data row15 col6\" >0.164786</td>\n",
       "                        <td id=\"T_9981018c_3eea_11ec_9a71_54e1ad6086fcrow15_col7\" class=\"data row15 col7\" >-0.117944</td>\n",
       "                        <td id=\"T_9981018c_3eea_11ec_9a71_54e1ad6086fcrow15_col8\" class=\"data row15 col8\" >-0.181656</td>\n",
       "                        <td id=\"T_9981018c_3eea_11ec_9a71_54e1ad6086fcrow15_col9\" class=\"data row15 col9\" >-0.0248606</td>\n",
       "                        <td id=\"T_9981018c_3eea_11ec_9a71_54e1ad6086fcrow15_col10\" class=\"data row15 col10\" >-0.0499003</td>\n",
       "                        <td id=\"T_9981018c_3eea_11ec_9a71_54e1ad6086fcrow15_col11\" class=\"data row15 col11\" >-0.137417</td>\n",
       "                        <td id=\"T_9981018c_3eea_11ec_9a71_54e1ad6086fcrow15_col12\" class=\"data row15 col12\" >0.0948391</td>\n",
       "                        <td id=\"T_9981018c_3eea_11ec_9a71_54e1ad6086fcrow15_col13\" class=\"data row15 col13\" >0.0827748</td>\n",
       "                        <td id=\"T_9981018c_3eea_11ec_9a71_54e1ad6086fcrow15_col14\" class=\"data row15 col14\" >-0.177617</td>\n",
       "                        <td id=\"T_9981018c_3eea_11ec_9a71_54e1ad6086fcrow15_col15\" class=\"data row15 col15\" >1</td>\n",
       "                        <td id=\"T_9981018c_3eea_11ec_9a71_54e1ad6086fcrow15_col16\" class=\"data row15 col16\" >-0.0700075</td>\n",
       "                        <td id=\"T_9981018c_3eea_11ec_9a71_54e1ad6086fcrow15_col17\" class=\"data row15 col17\" >0.345994</td>\n",
       "                        <td id=\"T_9981018c_3eea_11ec_9a71_54e1ad6086fcrow15_col18\" class=\"data row15 col18\" >0.155183</td>\n",
       "            </tr>\n",
       "            <tr>\n",
       "                        <th id=\"T_9981018c_3eea_11ec_9a71_54e1ad6086fclevel0_row16\" class=\"row_heading level0 row16\" >PaymentMethod</th>\n",
       "                        <td id=\"T_9981018c_3eea_11ec_9a71_54e1ad6086fcrow16_col0\" class=\"data row16 col0\" >0.0171192</td>\n",
       "                        <td id=\"T_9981018c_3eea_11ec_9a71_54e1ad6086fcrow16_col1\" class=\"data row16 col1\" >-0.0437032</td>\n",
       "                        <td id=\"T_9981018c_3eea_11ec_9a71_54e1ad6086fcrow16_col2\" class=\"data row16 col2\" >-0.155247</td>\n",
       "                        <td id=\"T_9981018c_3eea_11ec_9a71_54e1ad6086fcrow16_col3\" class=\"data row16 col3\" >-0.0375898</td>\n",
       "                        <td id=\"T_9981018c_3eea_11ec_9a71_54e1ad6086fcrow16_col4\" class=\"data row16 col4\" >-0.379356</td>\n",
       "                        <td id=\"T_9981018c_3eea_11ec_9a71_54e1ad6086fcrow16_col5\" class=\"data row16 col5\" >-0.00380799</td>\n",
       "                        <td id=\"T_9981018c_3eea_11ec_9a71_54e1ad6086fcrow16_col6\" class=\"data row16 col6\" >-0.182721</td>\n",
       "                        <td id=\"T_9981018c_3eea_11ec_9a71_54e1ad6086fcrow16_col7\" class=\"data row16 col7\" >0.0846861</td>\n",
       "                        <td id=\"T_9981018c_3eea_11ec_9a71_54e1ad6086fcrow16_col8\" class=\"data row16 col8\" >-0.080632</td>\n",
       "                        <td id=\"T_9981018c_3eea_11ec_9a71_54e1ad6086fcrow16_col9\" class=\"data row16 col9\" >-0.119225</td>\n",
       "                        <td id=\"T_9981018c_3eea_11ec_9a71_54e1ad6086fcrow16_col10\" class=\"data row16 col10\" >-0.13112</td>\n",
       "                        <td id=\"T_9981018c_3eea_11ec_9a71_54e1ad6086fcrow16_col11\" class=\"data row16 col11\" >-0.088904</td>\n",
       "                        <td id=\"T_9981018c_3eea_11ec_9a71_54e1ad6086fcrow16_col12\" class=\"data row16 col12\" >-0.106461</td>\n",
       "                        <td id=\"T_9981018c_3eea_11ec_9a71_54e1ad6086fcrow16_col13\" class=\"data row16 col13\" >-0.11406</td>\n",
       "                        <td id=\"T_9981018c_3eea_11ec_9a71_54e1ad6086fcrow16_col14\" class=\"data row16 col14\" >-0.226507</td>\n",
       "                        <td id=\"T_9981018c_3eea_11ec_9a71_54e1ad6086fcrow16_col15\" class=\"data row16 col15\" >-0.0700075</td>\n",
       "                        <td id=\"T_9981018c_3eea_11ec_9a71_54e1ad6086fcrow16_col16\" class=\"data row16 col16\" >1</td>\n",
       "                        <td id=\"T_9981018c_3eea_11ec_9a71_54e1ad6086fcrow16_col17\" class=\"data row16 col17\" >-0.206639</td>\n",
       "                        <td id=\"T_9981018c_3eea_11ec_9a71_54e1ad6086fcrow16_col18\" class=\"data row16 col18\" >-0.377141</td>\n",
       "            </tr>\n",
       "            <tr>\n",
       "                        <th id=\"T_9981018c_3eea_11ec_9a71_54e1ad6086fclevel0_row17\" class=\"row_heading level0 row17\" >MonthlyCharges</th>\n",
       "                        <td id=\"T_9981018c_3eea_11ec_9a71_54e1ad6086fcrow17_col0\" class=\"data row17 col0\" >-0.0137365</td>\n",
       "                        <td id=\"T_9981018c_3eea_11ec_9a71_54e1ad6086fcrow17_col1\" class=\"data row17 col1\" >0.221067</td>\n",
       "                        <td id=\"T_9981018c_3eea_11ec_9a71_54e1ad6086fcrow17_col2\" class=\"data row17 col2\" >0.108463</td>\n",
       "                        <td id=\"T_9981018c_3eea_11ec_9a71_54e1ad6086fcrow17_col3\" class=\"data row17 col3\" >-0.107011</td>\n",
       "                        <td id=\"T_9981018c_3eea_11ec_9a71_54e1ad6086fcrow17_col4\" class=\"data row17 col4\" >0.276417</td>\n",
       "                        <td id=\"T_9981018c_3eea_11ec_9a71_54e1ad6086fcrow17_col5\" class=\"data row17 col5\" >0.239701</td>\n",
       "                        <td id=\"T_9981018c_3eea_11ec_9a71_54e1ad6086fcrow17_col6\" class=\"data row17 col6\" >0.46421</td>\n",
       "                        <td id=\"T_9981018c_3eea_11ec_9a71_54e1ad6086fcrow17_col7\" class=\"data row17 col7\" >-0.206889</td>\n",
       "                        <td id=\"T_9981018c_3eea_11ec_9a71_54e1ad6086fcrow17_col8\" class=\"data row17 col8\" >-0.108483</td>\n",
       "                        <td id=\"T_9981018c_3eea_11ec_9a71_54e1ad6086fcrow17_col9\" class=\"data row17 col9\" >0.111845</td>\n",
       "                        <td id=\"T_9981018c_3eea_11ec_9a71_54e1ad6086fcrow17_col10\" class=\"data row17 col10\" >0.158987</td>\n",
       "                        <td id=\"T_9981018c_3eea_11ec_9a71_54e1ad6086fcrow17_col11\" class=\"data row17 col11\" >-0.0564847</td>\n",
       "                        <td id=\"T_9981018c_3eea_11ec_9a71_54e1ad6086fcrow17_col12\" class=\"data row17 col12\" >0.371644</td>\n",
       "                        <td id=\"T_9981018c_3eea_11ec_9a71_54e1ad6086fcrow17_col13\" class=\"data row17 col13\" >0.371941</td>\n",
       "                        <td id=\"T_9981018c_3eea_11ec_9a71_54e1ad6086fcrow17_col14\" class=\"data row17 col14\" >-0.0488279</td>\n",
       "                        <td id=\"T_9981018c_3eea_11ec_9a71_54e1ad6086fcrow17_col15\" class=\"data row17 col15\" >0.345994</td>\n",
       "                        <td id=\"T_9981018c_3eea_11ec_9a71_54e1ad6086fcrow17_col16\" class=\"data row17 col16\" >-0.206639</td>\n",
       "                        <td id=\"T_9981018c_3eea_11ec_9a71_54e1ad6086fcrow17_col17\" class=\"data row17 col17\" >1</td>\n",
       "                        <td id=\"T_9981018c_3eea_11ec_9a71_54e1ad6086fcrow17_col18\" class=\"data row17 col18\" >0.638028</td>\n",
       "            </tr>\n",
       "            <tr>\n",
       "                        <th id=\"T_9981018c_3eea_11ec_9a71_54e1ad6086fclevel0_row18\" class=\"row_heading level0 row18\" >TotalCharges</th>\n",
       "                        <td id=\"T_9981018c_3eea_11ec_9a71_54e1ad6086fcrow18_col0\" class=\"data row18 col0\" >-0.00139398</td>\n",
       "                        <td id=\"T_9981018c_3eea_11ec_9a71_54e1ad6086fcrow18_col1\" class=\"data row18 col1\" >0.108171</td>\n",
       "                        <td id=\"T_9981018c_3eea_11ec_9a71_54e1ad6086fcrow18_col2\" class=\"data row18 col2\" >0.340298</td>\n",
       "                        <td id=\"T_9981018c_3eea_11ec_9a71_54e1ad6086fcrow18_col3\" class=\"data row18 col3\" >0.0784087</td>\n",
       "                        <td id=\"T_9981018c_3eea_11ec_9a71_54e1ad6086fcrow18_col4\" class=\"data row18 col4\" >0.889696</td>\n",
       "                        <td id=\"T_9981018c_3eea_11ec_9a71_54e1ad6086fcrow18_col5\" class=\"data row18 col5\" >0.0853706</td>\n",
       "                        <td id=\"T_9981018c_3eea_11ec_9a71_54e1ad6086fcrow18_col6\" class=\"data row18 col6\" >0.460102</td>\n",
       "                        <td id=\"T_9981018c_3eea_11ec_9a71_54e1ad6086fcrow18_col7\" class=\"data row18 col7\" >-0.188862</td>\n",
       "                        <td id=\"T_9981018c_3eea_11ec_9a71_54e1ad6086fcrow18_col8\" class=\"data row18 col8\" >0.20813</td>\n",
       "                        <td id=\"T_9981018c_3eea_11ec_9a71_54e1ad6086fcrow18_col9\" class=\"data row18 col9\" >0.332762</td>\n",
       "                        <td id=\"T_9981018c_3eea_11ec_9a71_54e1ad6086fcrow18_col10\" class=\"data row18 col10\" >0.350661</td>\n",
       "                        <td id=\"T_9981018c_3eea_11ec_9a71_54e1ad6086fcrow18_col11\" class=\"data row18 col11\" >0.225007</td>\n",
       "                        <td id=\"T_9981018c_3eea_11ec_9a71_54e1ad6086fcrow18_col12\" class=\"data row18 col12\" >0.361614</td>\n",
       "                        <td id=\"T_9981018c_3eea_11ec_9a71_54e1ad6086fcrow18_col13\" class=\"data row18 col13\" >0.369998</td>\n",
       "                        <td id=\"T_9981018c_3eea_11ec_9a71_54e1ad6086fcrow18_col14\" class=\"data row18 col14\" >0.46181</td>\n",
       "                        <td id=\"T_9981018c_3eea_11ec_9a71_54e1ad6086fcrow18_col15\" class=\"data row18 col15\" >0.155183</td>\n",
       "                        <td id=\"T_9981018c_3eea_11ec_9a71_54e1ad6086fcrow18_col16\" class=\"data row18 col16\" >-0.377141</td>\n",
       "                        <td id=\"T_9981018c_3eea_11ec_9a71_54e1ad6086fcrow18_col17\" class=\"data row18 col17\" >0.638028</td>\n",
       "                        <td id=\"T_9981018c_3eea_11ec_9a71_54e1ad6086fcrow18_col18\" class=\"data row18 col18\" >1</td>\n",
       "            </tr>\n",
       "    </tbody></table>"
      ],
      "text/plain": [
       "<pandas.io.formats.style.Styler at 0x156b2d85448>"
      ]
     },
     "execution_count": 51,
     "metadata": {},
     "output_type": "execute_result"
    }
   ],
   "source": [
    "sm_df = x.corr(method='spearman')\n",
    "sm_df.style.applymap(lambda x: \"background-color: red\" if x>0.7 else \"background-color: white\")"
   ]
  },
  {
   "cell_type": "code",
   "execution_count": 52,
   "metadata": {
    "execution": {
     "iopub.execute_input": "2021-11-06T07:37:00.669505Z",
     "iopub.status.busy": "2021-11-06T07:37:00.669270Z",
     "iopub.status.idle": "2021-11-06T07:37:00.902753Z",
     "shell.execute_reply": "2021-11-06T07:37:00.901844Z",
     "shell.execute_reply.started": "2021-11-06T07:37:00.669477Z"
    }
   },
   "outputs": [
    {
     "name": "stdout",
     "output_type": "stream",
     "text": [
      "             feature        VIF\n",
      "0             gender   1.954601\n",
      "1      SeniorCitizen   1.369688\n",
      "2            Partner   2.821597\n",
      "3         Dependents   1.964252\n",
      "4             tenure  14.909449\n",
      "5       PhoneService  15.138336\n",
      "6      MultipleLines   2.752986\n",
      "7    InternetService   4.352778\n",
      "8     OnlineSecurity   2.249502\n",
      "9       OnlineBackup   2.456172\n",
      "10  DeviceProtection   2.632377\n",
      "11       TechSupport   2.383056\n",
      "12       StreamingTV   3.240299\n",
      "13   StreamingMovies   3.262482\n",
      "14          Contract   4.164086\n",
      "15  PaperlessBilling   2.872170\n",
      "16     PaymentMethod   3.097858\n",
      "17    MonthlyCharges  20.455626\n",
      "18      TotalCharges  13.822567\n"
     ]
    }
   ],
   "source": [
    "# VIF dataframe\n",
    "vif_data = pd.DataFrame()\n",
    "vif_data[\"feature\"] = x.columns\n",
    "  \n",
    "# calculating VIF for each feature\n",
    "vif_data[\"VIF\"] = [variance_inflation_factor(x.values, i)\n",
    "                          for i in range(len(x.columns))]\n",
    "  \n",
    "print(vif_data)"
   ]
  },
  {
   "cell_type": "code",
   "execution_count": 53,
   "metadata": {},
   "outputs": [],
   "source": [
    "#drop columns with high multicollinearity\n",
    "to_remove =['MonthlyCharges','TotalCharges', 'PhoneService', 'tenure']\n",
    "logr_col = list(x.columns)\n",
    "for each in to_remove:\n",
    "    logr_col.remove(each)"
   ]
  },
  {
   "cell_type": "code",
   "execution_count": 54,
   "metadata": {
    "execution": {
     "iopub.execute_input": "2021-11-06T07:37:00.916198Z",
     "iopub.status.busy": "2021-11-06T07:37:00.915469Z",
     "iopub.status.idle": "2021-11-06T07:37:00.926953Z",
     "shell.execute_reply": "2021-11-06T07:37:00.925952Z",
     "shell.execute_reply.started": "2021-11-06T07:37:00.916146Z"
    }
   },
   "outputs": [
    {
     "data": {
      "text/plain": [
       "'Churn~ gender + SeniorCitizen + Partner + Dependents + tenure + PhoneService + MultipleLines + InternetService + OnlineSecurity + OnlineBackup + DeviceProtection + TechSupport + StreamingTV + StreamingMovies + Contract + PaperlessBilling + PaymentMethod + MonthlyCharges + TotalCharges'"
      ]
     },
     "execution_count": 54,
     "metadata": {},
     "output_type": "execute_result"
    }
   ],
   "source": [
    "#full formula \n",
    "output = x.columns[0]\n",
    "for each in df.columns[1:-1]:\n",
    "    output +=  \" + \" + each \n",
    "full_formula = 'Churn~ ' + output\n",
    "full_formula"
   ]
  },
  {
   "cell_type": "code",
   "execution_count": 55,
   "metadata": {},
   "outputs": [
    {
     "data": {
      "text/plain": [
       "'Churn~ gender + gender + SeniorCitizen + Partner + Dependents + MultipleLines + InternetService + OnlineSecurity + OnlineBackup + DeviceProtection + TechSupport + StreamingTV + StreamingMovies + Contract + PaperlessBilling + PaymentMethod'"
      ]
     },
     "execution_count": 55,
     "metadata": {},
     "output_type": "execute_result"
    }
   ],
   "source": [
    "#removed columns with high multicollinearity\n",
    "output = x.columns[0]\n",
    "for each in logr_col:\n",
    "    output +=  \" + \" + each \n",
    "r_formula = 'Churn~ ' + output\n",
    "r_formula"
   ]
  },
  {
   "cell_type": "markdown",
   "metadata": {},
   "source": [
    "**Model 1A - Logisitic Regression Model trained on original dataset**"
   ]
  },
  {
   "cell_type": "code",
   "execution_count": 56,
   "metadata": {
    "execution": {
     "iopub.execute_input": "2021-11-06T07:37:00.929193Z",
     "iopub.status.busy": "2021-11-06T07:37:00.928687Z",
     "iopub.status.idle": "2021-11-06T07:37:01.092707Z",
     "shell.execute_reply": "2021-11-06T07:37:01.091813Z",
     "shell.execute_reply.started": "2021-11-06T07:37:00.929145Z"
    }
   },
   "outputs": [
    {
     "name": "stdout",
     "output_type": "stream",
     "text": [
      "Optimization terminated successfully.\n",
      "         Current function value: 0.407437\n",
      "         Iterations 8\n"
     ]
    },
    {
     "data": {
      "text/html": [
       "<table class=\"simpletable\">\n",
       "<caption>Logit Regression Results</caption>\n",
       "<tr>\n",
       "  <th>Dep. Variable:</th>         <td>Churn</td>      <th>  No. Observations:  </th>  <td>  4930</td> \n",
       "</tr>\n",
       "<tr>\n",
       "  <th>Model:</th>                 <td>Logit</td>      <th>  Df Residuals:      </th>  <td>  4910</td> \n",
       "</tr>\n",
       "<tr>\n",
       "  <th>Method:</th>                 <td>MLE</td>       <th>  Df Model:          </th>  <td>    19</td> \n",
       "</tr>\n",
       "<tr>\n",
       "  <th>Date:</th>            <td>Sat, 06 Nov 2021</td> <th>  Pseudo R-squ.:     </th>  <td>0.2985</td> \n",
       "</tr>\n",
       "<tr>\n",
       "  <th>Time:</th>                <td>18:16:26</td>     <th>  Log-Likelihood:    </th> <td> -2008.7</td>\n",
       "</tr>\n",
       "<tr>\n",
       "  <th>converged:</th>             <td>True</td>       <th>  LL-Null:           </th> <td> -2863.4</td>\n",
       "</tr>\n",
       "<tr>\n",
       "  <th>Covariance Type:</th>     <td>nonrobust</td>    <th>  LLR p-value:       </th>  <td> 0.000</td> \n",
       "</tr>\n",
       "</table>\n",
       "<table class=\"simpletable\">\n",
       "<tr>\n",
       "          <td></td>            <th>coef</th>     <th>std err</th>      <th>z</th>      <th>P>|z|</th>  <th>[0.025</th>    <th>0.975]</th>  \n",
       "</tr>\n",
       "<tr>\n",
       "  <th>Intercept</th>        <td>   -0.4945</td> <td>    0.229</td> <td>   -2.163</td> <td> 0.031</td> <td>   -0.943</td> <td>   -0.046</td>\n",
       "</tr>\n",
       "<tr>\n",
       "  <th>gender</th>           <td>   -0.0060</td> <td>    0.078</td> <td>   -0.076</td> <td> 0.939</td> <td>   -0.159</td> <td>    0.147</td>\n",
       "</tr>\n",
       "<tr>\n",
       "  <th>SeniorCitizen</th>    <td>    0.1976</td> <td>    0.102</td> <td>    1.944</td> <td> 0.052</td> <td>   -0.002</td> <td>    0.397</td>\n",
       "</tr>\n",
       "<tr>\n",
       "  <th>Partner</th>          <td>    0.0158</td> <td>    0.094</td> <td>    0.169</td> <td> 0.866</td> <td>   -0.168</td> <td>    0.199</td>\n",
       "</tr>\n",
       "<tr>\n",
       "  <th>Dependents</th>       <td>   -0.1415</td> <td>    0.109</td> <td>   -1.302</td> <td> 0.193</td> <td>   -0.354</td> <td>    0.071</td>\n",
       "</tr>\n",
       "<tr>\n",
       "  <th>tenure</th>           <td>   -0.0680</td> <td>    0.008</td> <td>   -8.630</td> <td> 0.000</td> <td>   -0.083</td> <td>   -0.053</td>\n",
       "</tr>\n",
       "<tr>\n",
       "  <th>PhoneService</th>     <td>   -0.9119</td> <td>    0.179</td> <td>   -5.097</td> <td> 0.000</td> <td>   -1.263</td> <td>   -0.561</td>\n",
       "</tr>\n",
       "<tr>\n",
       "  <th>MultipleLines</th>    <td>    0.0644</td> <td>    0.049</td> <td>    1.308</td> <td> 0.191</td> <td>   -0.032</td> <td>    0.161</td>\n",
       "</tr>\n",
       "<tr>\n",
       "  <th>InternetService</th>  <td>    0.2394</td> <td>    0.078</td> <td>    3.051</td> <td> 0.002</td> <td>    0.086</td> <td>    0.393</td>\n",
       "</tr>\n",
       "<tr>\n",
       "  <th>OnlineSecurity</th>   <td>   -0.3212</td> <td>    0.051</td> <td>   -6.356</td> <td> 0.000</td> <td>   -0.420</td> <td>   -0.222</td>\n",
       "</tr>\n",
       "<tr>\n",
       "  <th>OnlineBackup</th>     <td>   -0.1790</td> <td>    0.046</td> <td>   -3.910</td> <td> 0.000</td> <td>   -0.269</td> <td>   -0.089</td>\n",
       "</tr>\n",
       "<tr>\n",
       "  <th>DeviceProtection</th> <td>   -0.1259</td> <td>    0.047</td> <td>   -2.668</td> <td> 0.008</td> <td>   -0.218</td> <td>   -0.033</td>\n",
       "</tr>\n",
       "<tr>\n",
       "  <th>TechSupport</th>      <td>   -0.2769</td> <td>    0.050</td> <td>   -5.534</td> <td> 0.000</td> <td>   -0.375</td> <td>   -0.179</td>\n",
       "</tr>\n",
       "<tr>\n",
       "  <th>StreamingTV</th>      <td>    0.0007</td> <td>    0.050</td> <td>    0.014</td> <td> 0.988</td> <td>   -0.097</td> <td>    0.098</td>\n",
       "</tr>\n",
       "<tr>\n",
       "  <th>StreamingMovies</th>  <td>    0.0283</td> <td>    0.050</td> <td>    0.573</td> <td> 0.567</td> <td>   -0.069</td> <td>    0.125</td>\n",
       "</tr>\n",
       "<tr>\n",
       "  <th>Contract</th>         <td>   -0.6877</td> <td>    0.093</td> <td>   -7.372</td> <td> 0.000</td> <td>   -0.870</td> <td>   -0.505</td>\n",
       "</tr>\n",
       "<tr>\n",
       "  <th>PaperlessBilling</th> <td>    0.4160</td> <td>    0.090</td> <td>    4.629</td> <td> 0.000</td> <td>    0.240</td> <td>    0.592</td>\n",
       "</tr>\n",
       "<tr>\n",
       "  <th>PaymentMethod</th>    <td>    0.0216</td> <td>    0.043</td> <td>    0.503</td> <td> 0.615</td> <td>   -0.062</td> <td>    0.106</td>\n",
       "</tr>\n",
       "<tr>\n",
       "  <th>MonthlyCharges</th>   <td>    0.0228</td> <td>    0.003</td> <td>    8.492</td> <td> 0.000</td> <td>    0.018</td> <td>    0.028</td>\n",
       "</tr>\n",
       "<tr>\n",
       "  <th>TotalCharges</th>     <td>    0.0004</td> <td> 8.83e-05</td> <td>    4.465</td> <td> 0.000</td> <td>    0.000</td> <td>    0.001</td>\n",
       "</tr>\n",
       "</table>"
      ],
      "text/plain": [
       "<class 'statsmodels.iolib.summary.Summary'>\n",
       "\"\"\"\n",
       "                           Logit Regression Results                           \n",
       "==============================================================================\n",
       "Dep. Variable:                  Churn   No. Observations:                 4930\n",
       "Model:                          Logit   Df Residuals:                     4910\n",
       "Method:                           MLE   Df Model:                           19\n",
       "Date:                Sat, 06 Nov 2021   Pseudo R-squ.:                  0.2985\n",
       "Time:                        18:16:26   Log-Likelihood:                -2008.7\n",
       "converged:                       True   LL-Null:                       -2863.4\n",
       "Covariance Type:            nonrobust   LLR p-value:                     0.000\n",
       "====================================================================================\n",
       "                       coef    std err          z      P>|z|      [0.025      0.975]\n",
       "------------------------------------------------------------------------------------\n",
       "Intercept           -0.4945      0.229     -2.163      0.031      -0.943      -0.046\n",
       "gender              -0.0060      0.078     -0.076      0.939      -0.159       0.147\n",
       "SeniorCitizen        0.1976      0.102      1.944      0.052      -0.002       0.397\n",
       "Partner              0.0158      0.094      0.169      0.866      -0.168       0.199\n",
       "Dependents          -0.1415      0.109     -1.302      0.193      -0.354       0.071\n",
       "tenure              -0.0680      0.008     -8.630      0.000      -0.083      -0.053\n",
       "PhoneService        -0.9119      0.179     -5.097      0.000      -1.263      -0.561\n",
       "MultipleLines        0.0644      0.049      1.308      0.191      -0.032       0.161\n",
       "InternetService      0.2394      0.078      3.051      0.002       0.086       0.393\n",
       "OnlineSecurity      -0.3212      0.051     -6.356      0.000      -0.420      -0.222\n",
       "OnlineBackup        -0.1790      0.046     -3.910      0.000      -0.269      -0.089\n",
       "DeviceProtection    -0.1259      0.047     -2.668      0.008      -0.218      -0.033\n",
       "TechSupport         -0.2769      0.050     -5.534      0.000      -0.375      -0.179\n",
       "StreamingTV          0.0007      0.050      0.014      0.988      -0.097       0.098\n",
       "StreamingMovies      0.0283      0.050      0.573      0.567      -0.069       0.125\n",
       "Contract            -0.6877      0.093     -7.372      0.000      -0.870      -0.505\n",
       "PaperlessBilling     0.4160      0.090      4.629      0.000       0.240       0.592\n",
       "PaymentMethod        0.0216      0.043      0.503      0.615      -0.062       0.106\n",
       "MonthlyCharges       0.0228      0.003      8.492      0.000       0.018       0.028\n",
       "TotalCharges         0.0004   8.83e-05      4.465      0.000       0.000       0.001\n",
       "====================================================================================\n",
       "\"\"\""
      ]
     },
     "execution_count": 56,
     "metadata": {},
     "output_type": "execute_result"
    }
   ],
   "source": [
    "#ref: https://www.geeksforgeeks.org/logistic-regression-using-statsmodels/\n",
    "\n",
    "#full dateset\n",
    "model= smf.logit(formula=full_formula, data= x_train.join(y_train)).fit()\n",
    "model.summary()"
   ]
  },
  {
   "cell_type": "code",
   "execution_count": 57,
   "metadata": {
    "execution": {
     "iopub.execute_input": "2021-11-06T07:37:01.094692Z",
     "iopub.status.busy": "2021-11-06T07:37:01.094149Z",
     "iopub.status.idle": "2021-11-06T07:37:01.300195Z",
     "shell.execute_reply": "2021-11-06T07:37:01.299294Z",
     "shell.execute_reply.started": "2021-11-06T07:37:01.094641Z"
    }
   },
   "outputs": [
    {
     "data": {
      "image/png": "[encoded data removed]",
      "text/plain": [
       "<Figure size 432x288 with 1 Axes>"
      ]
     },
     "metadata": {
      "needs_background": "light"
     },
     "output_type": "display_data"
    },
    {
     "name": "stdout",
     "output_type": "stream",
     "text": [
      "Test accuracy =  0.7827733080927591\n"
     ]
    }
   ],
   "source": [
    "ypred = model.predict(x_test)\n",
    "ypred\n",
    "prediction = list(map(round, ypred))\n",
    "\n",
    "# confusion matrix\n",
    "cm = confusion_matrix(y_test, prediction)\n",
    "labels=[0, 1]\n",
    "df_cm = pd.DataFrame(cm, labels, labels)\n",
    "ax = sns.heatmap(df_cm, annot=True, annot_kws={\"size\": 10}, square=True, cbar=False, fmt='g')\n",
    "ax.set_ylim(0, 2) \n",
    "plt.xlabel(\"Predicted\") \n",
    "plt.ylabel(\"Actual\") \n",
    "ax.invert_yaxis() #optional\n",
    "plt.show()\n",
    " \n",
    "# accuracy score of the model\n",
    "print('Test accuracy = ', accuracy_score(y_test, prediction))"
   ]
  },
  {
   "cell_type": "code",
   "execution_count": 58,
   "metadata": {
    "execution": {
     "iopub.execute_input": "2021-11-06T07:37:01.302427Z",
     "iopub.status.busy": "2021-11-06T07:37:01.301887Z",
     "iopub.status.idle": "2021-11-06T07:37:01.327345Z",
     "shell.execute_reply": "2021-11-06T07:37:01.326635Z",
     "shell.execute_reply.started": "2021-11-06T07:37:01.302378Z"
    }
   },
   "outputs": [
    {
     "name": "stdout",
     "output_type": "stream",
     "text": [
      " precision score:  0.5938144329896907 \n",
      "\n",
      " recall score:  0.5236363636363637 \n",
      "\n",
      "              precision    recall  f1-score   support\n",
      "\n",
      "           0       0.84      0.87      0.86      1563\n",
      "           1       0.59      0.52      0.56       550\n",
      "\n",
      "    accuracy                           0.78      2113\n",
      "   macro avg       0.72      0.70      0.71      2113\n",
      "weighted avg       0.78      0.78      0.78      2113\n",
      "\n"
     ]
    }
   ],
   "source": [
    "# Evaluating the predictive capability of the classification model\n",
    "\n",
    "print(' precision score: ',precision_score(y_test, prediction),'\\n')\n",
    "print(' recall score: ',recall_score(y_test, prediction),'\\n')\n",
    "print(classification_report(y_test, prediction))"
   ]
  },
  {
   "cell_type": "markdown",
   "metadata": {},
   "source": [
    "**Model 1B - Logistic Regression Model trained on dataset without the multi-collinear features**"
   ]
  },
  {
   "cell_type": "code",
   "execution_count": 59,
   "metadata": {},
   "outputs": [
    {
     "name": "stdout",
     "output_type": "stream",
     "text": [
      "Optimization terminated successfully.\n",
      "         Current function value: 0.439116\n",
      "         Iterations 7\n"
     ]
    },
    {
     "data": {
      "text/html": [
       "<table class=\"simpletable\">\n",
       "<caption>Logit Regression Results</caption>\n",
       "<tr>\n",
       "  <th>Dep. Variable:</th>         <td>Churn</td>      <th>  No. Observations:  </th>   <td>  4930</td>  \n",
       "</tr>\n",
       "<tr>\n",
       "  <th>Model:</th>                 <td>Logit</td>      <th>  Df Residuals:      </th>   <td>  4914</td>  \n",
       "</tr>\n",
       "<tr>\n",
       "  <th>Method:</th>                 <td>MLE</td>       <th>  Df Model:          </th>   <td>    15</td>  \n",
       "</tr>\n",
       "<tr>\n",
       "  <th>Date:</th>            <td>Sat, 06 Nov 2021</td> <th>  Pseudo R-squ.:     </th>   <td>0.2440</td>  \n",
       "</tr>\n",
       "<tr>\n",
       "  <th>Time:</th>                <td>18:16:26</td>     <th>  Log-Likelihood:    </th>  <td> -2164.8</td> \n",
       "</tr>\n",
       "<tr>\n",
       "  <th>converged:</th>             <td>True</td>       <th>  LL-Null:           </th>  <td> -2863.4</td> \n",
       "</tr>\n",
       "<tr>\n",
       "  <th>Covariance Type:</th>     <td>nonrobust</td>    <th>  LLR p-value:       </th> <td>7.204e-289</td>\n",
       "</tr>\n",
       "</table>\n",
       "<table class=\"simpletable\">\n",
       "<tr>\n",
       "          <td></td>            <th>coef</th>     <th>std err</th>      <th>z</th>      <th>P>|z|</th>  <th>[0.025</th>    <th>0.975]</th>  \n",
       "</tr>\n",
       "<tr>\n",
       "  <th>Intercept</th>        <td>   -0.5213</td> <td>    0.137</td> <td>   -3.819</td> <td> 0.000</td> <td>   -0.789</td> <td>   -0.254</td>\n",
       "</tr>\n",
       "<tr>\n",
       "  <th>gender</th>           <td>   -0.0395</td> <td>    0.075</td> <td>   -0.528</td> <td> 0.597</td> <td>   -0.186</td> <td>    0.107</td>\n",
       "</tr>\n",
       "<tr>\n",
       "  <th>SeniorCitizen</th>    <td>    0.2637</td> <td>    0.097</td> <td>    2.718</td> <td> 0.007</td> <td>    0.074</td> <td>    0.454</td>\n",
       "</tr>\n",
       "<tr>\n",
       "  <th>Partner</th>          <td>   -0.1515</td> <td>    0.088</td> <td>   -1.724</td> <td> 0.085</td> <td>   -0.324</td> <td>    0.021</td>\n",
       "</tr>\n",
       "<tr>\n",
       "  <th>Dependents</th>       <td>   -0.2172</td> <td>    0.104</td> <td>   -2.091</td> <td> 0.037</td> <td>   -0.421</td> <td>   -0.014</td>\n",
       "</tr>\n",
       "<tr>\n",
       "  <th>MultipleLines</th>    <td>    0.1258</td> <td>    0.042</td> <td>    2.977</td> <td> 0.003</td> <td>    0.043</td> <td>    0.209</td>\n",
       "</tr>\n",
       "<tr>\n",
       "  <th>InternetService</th>  <td>    0.0614</td> <td>    0.060</td> <td>    1.021</td> <td> 0.307</td> <td>   -0.057</td> <td>    0.179</td>\n",
       "</tr>\n",
       "<tr>\n",
       "  <th>OnlineSecurity</th>   <td>   -0.4354</td> <td>    0.050</td> <td>   -8.633</td> <td> 0.000</td> <td>   -0.534</td> <td>   -0.337</td>\n",
       "</tr>\n",
       "<tr>\n",
       "  <th>OnlineBackup</th>     <td>   -0.2588</td> <td>    0.044</td> <td>   -5.905</td> <td> 0.000</td> <td>   -0.345</td> <td>   -0.173</td>\n",
       "</tr>\n",
       "<tr>\n",
       "  <th>DeviceProtection</th> <td>   -0.1333</td> <td>    0.046</td> <td>   -2.912</td> <td> 0.004</td> <td>   -0.223</td> <td>   -0.044</td>\n",
       "</tr>\n",
       "<tr>\n",
       "  <th>TechSupport</th>      <td>   -0.3211</td> <td>    0.050</td> <td>   -6.438</td> <td> 0.000</td> <td>   -0.419</td> <td>   -0.223</td>\n",
       "</tr>\n",
       "<tr>\n",
       "  <th>StreamingTV</th>      <td>    0.1412</td> <td>    0.046</td> <td>    3.058</td> <td> 0.002</td> <td>    0.051</td> <td>    0.232</td>\n",
       "</tr>\n",
       "<tr>\n",
       "  <th>StreamingMovies</th>  <td>    0.1593</td> <td>    0.046</td> <td>    3.466</td> <td> 0.001</td> <td>    0.069</td> <td>    0.249</td>\n",
       "</tr>\n",
       "<tr>\n",
       "  <th>Contract</th>         <td>   -1.2910</td> <td>    0.081</td> <td>  -15.883</td> <td> 0.000</td> <td>   -1.450</td> <td>   -1.132</td>\n",
       "</tr>\n",
       "<tr>\n",
       "  <th>PaperlessBilling</th> <td>    0.5811</td> <td>    0.084</td> <td>    6.924</td> <td> 0.000</td> <td>    0.417</td> <td>    0.746</td>\n",
       "</tr>\n",
       "<tr>\n",
       "  <th>PaymentMethod</th>    <td>    0.0629</td> <td>    0.039</td> <td>    1.594</td> <td> 0.111</td> <td>   -0.014</td> <td>    0.140</td>\n",
       "</tr>\n",
       "</table>"
      ],
      "text/plain": [
       "<class 'statsmodels.iolib.summary.Summary'>\n",
       "\"\"\"\n",
       "                           Logit Regression Results                           \n",
       "==============================================================================\n",
       "Dep. Variable:                  Churn   No. Observations:                 4930\n",
       "Model:                          Logit   Df Residuals:                     4914\n",
       "Method:                           MLE   Df Model:                           15\n",
       "Date:                Sat, 06 Nov 2021   Pseudo R-squ.:                  0.2440\n",
       "Time:                        18:16:26   Log-Likelihood:                -2164.8\n",
       "converged:                       True   LL-Null:                       -2863.4\n",
       "Covariance Type:            nonrobust   LLR p-value:                7.204e-289\n",
       "====================================================================================\n",
       "                       coef    std err          z      P>|z|      [0.025      0.975]\n",
       "------------------------------------------------------------------------------------\n",
       "Intercept           -0.5213      0.137     -3.819      0.000      -0.789      -0.254\n",
       "gender              -0.0395      0.075     -0.528      0.597      -0.186       0.107\n",
       "SeniorCitizen        0.2637      0.097      2.718      0.007       0.074       0.454\n",
       "Partner             -0.1515      0.088     -1.724      0.085      -0.324       0.021\n",
       "Dependents          -0.2172      0.104     -2.091      0.037      -0.421      -0.014\n",
       "MultipleLines        0.1258      0.042      2.977      0.003       0.043       0.209\n",
       "InternetService      0.0614      0.060      1.021      0.307      -0.057       0.179\n",
       "OnlineSecurity      -0.4354      0.050     -8.633      0.000      -0.534      -0.337\n",
       "OnlineBackup        -0.2588      0.044     -5.905      0.000      -0.345      -0.173\n",
       "DeviceProtection    -0.1333      0.046     -2.912      0.004      -0.223      -0.044\n",
       "TechSupport         -0.3211      0.050     -6.438      0.000      -0.419      -0.223\n",
       "StreamingTV          0.1412      0.046      3.058      0.002       0.051       0.232\n",
       "StreamingMovies      0.1593      0.046      3.466      0.001       0.069       0.249\n",
       "Contract            -1.2910      0.081    -15.883      0.000      -1.450      -1.132\n",
       "PaperlessBilling     0.5811      0.084      6.924      0.000       0.417       0.746\n",
       "PaymentMethod        0.0629      0.039      1.594      0.111      -0.014       0.140\n",
       "====================================================================================\n",
       "\"\"\""
      ]
     },
     "execution_count": 59,
     "metadata": {},
     "output_type": "execute_result"
    }
   ],
   "source": [
    "model= smf.logit(formula=r_formula, data= x_train.join(y_train)).fit()\n",
    "model.summary()"
   ]
  },
  {
   "cell_type": "code",
   "execution_count": 60,
   "metadata": {},
   "outputs": [
    {
     "data": {
      "image/png": "[encoded data removed]",
      "text/plain": [
       "<Figure size 432x288 with 1 Axes>"
      ]
     },
     "metadata": {
      "needs_background": "light"
     },
     "output_type": "display_data"
    },
    {
     "name": "stdout",
     "output_type": "stream",
     "text": [
      "Test accuracy =  0.7595835305253195\n"
     ]
    }
   ],
   "source": [
    "ypred = model.predict(x_test)\n",
    "ypred\n",
    "prediction = list(map(round, ypred))\n",
    "\n",
    "# confusion matrix\n",
    "cm = confusion_matrix(y_test, prediction)\n",
    "labels=[0, 1]\n",
    "df_cm = pd.DataFrame(cm, labels, labels)\n",
    "ax = sns.heatmap(df_cm, annot=True, annot_kws={\"size\": 10}, square=True, cbar=False, fmt='g')\n",
    "ax.set_ylim(0, 2) \n",
    "plt.xlabel(\"Predicted\") \n",
    "plt.ylabel(\"Actual\") \n",
    "ax.invert_yaxis() #optional\n",
    "plt.show()\n",
    " \n",
    "# accuracy score of the model\n",
    "print('Test accuracy = ', accuracy_score(y_test, prediction))"
   ]
  },
  {
   "cell_type": "code",
   "execution_count": 61,
   "metadata": {},
   "outputs": [
    {
     "name": "stdout",
     "output_type": "stream",
     "text": [
      " precision score:  0.5464601769911505 \n",
      "\n",
      " recall score:  0.4490909090909091 \n",
      "\n",
      "              precision    recall  f1-score   support\n",
      "\n",
      "           0       0.82      0.87      0.84      1563\n",
      "           1       0.55      0.45      0.49       550\n",
      "\n",
      "    accuracy                           0.76      2113\n",
      "   macro avg       0.68      0.66      0.67      2113\n",
      "weighted avg       0.75      0.76      0.75      2113\n",
      "\n"
     ]
    }
   ],
   "source": [
    "# Evaluating the predictive capability of the classification model\n",
    "\n",
    "print(' precision score: ',precision_score(y_test, prediction),'\\n')\n",
    "print(' recall score: ',recall_score(y_test, prediction),'\\n')\n",
    "print(classification_report(y_test, prediction))"
   ]
  },
  {
   "cell_type": "markdown",
   "metadata": {},
   "source": [
    "**Model 1C - Logisitic Regression Model trained on dataset corrected for imbalanced class**"
   ]
  },
  {
   "cell_type": "code",
   "execution_count": 62,
   "metadata": {
    "execution": {
     "iopub.execute_input": "2021-11-06T07:37:01.329155Z",
     "iopub.status.busy": "2021-11-06T07:37:01.328487Z",
     "iopub.status.idle": "2021-11-06T07:37:01.439682Z",
     "shell.execute_reply": "2021-11-06T07:37:01.438793Z",
     "shell.execute_reply.started": "2021-11-06T07:37:01.329120Z"
    }
   },
   "outputs": [
    {
     "name": "stdout",
     "output_type": "stream",
     "text": [
      "Optimization terminated successfully.\n",
      "         Current function value: 0.413839\n",
      "         Iterations 8\n"
     ]
    },
    {
     "data": {
      "text/html": [
       "<table class=\"simpletable\">\n",
       "<caption>Logit Regression Results</caption>\n",
       "<tr>\n",
       "  <th>Dep. Variable:</th>         <td>Churn</td>      <th>  No. Observations:  </th>  <td>  7222</td> \n",
       "</tr>\n",
       "<tr>\n",
       "  <th>Model:</th>                 <td>Logit</td>      <th>  Df Residuals:      </th>  <td>  7202</td> \n",
       "</tr>\n",
       "<tr>\n",
       "  <th>Method:</th>                 <td>MLE</td>       <th>  Df Model:          </th>  <td>    19</td> \n",
       "</tr>\n",
       "<tr>\n",
       "  <th>Date:</th>            <td>Sat, 06 Nov 2021</td> <th>  Pseudo R-squ.:     </th>  <td>0.4030</td> \n",
       "</tr>\n",
       "<tr>\n",
       "  <th>Time:</th>                <td>18:16:27</td>     <th>  Log-Likelihood:    </th> <td> -2988.7</td>\n",
       "</tr>\n",
       "<tr>\n",
       "  <th>converged:</th>             <td>True</td>       <th>  LL-Null:           </th> <td> -5005.9</td>\n",
       "</tr>\n",
       "<tr>\n",
       "  <th>Covariance Type:</th>     <td>nonrobust</td>    <th>  LLR p-value:       </th>  <td> 0.000</td> \n",
       "</tr>\n",
       "</table>\n",
       "<table class=\"simpletable\">\n",
       "<tr>\n",
       "          <td></td>            <th>coef</th>     <th>std err</th>      <th>z</th>      <th>P>|z|</th>  <th>[0.025</th>    <th>0.975]</th>  \n",
       "</tr>\n",
       "<tr>\n",
       "  <th>Intercept</th>        <td>    1.1445</td> <td>    0.198</td> <td>    5.794</td> <td> 0.000</td> <td>    0.757</td> <td>    1.532</td>\n",
       "</tr>\n",
       "<tr>\n",
       "  <th>gender</th>           <td>    0.0431</td> <td>    0.065</td> <td>    0.665</td> <td> 0.506</td> <td>   -0.084</td> <td>    0.170</td>\n",
       "</tr>\n",
       "<tr>\n",
       "  <th>SeniorCitizen</th>    <td>   -0.6059</td> <td>    0.091</td> <td>   -6.626</td> <td> 0.000</td> <td>   -0.785</td> <td>   -0.427</td>\n",
       "</tr>\n",
       "<tr>\n",
       "  <th>Partner</th>          <td>   -0.3836</td> <td>    0.080</td> <td>   -4.815</td> <td> 0.000</td> <td>   -0.540</td> <td>   -0.227</td>\n",
       "</tr>\n",
       "<tr>\n",
       "  <th>Dependents</th>       <td>   -0.6666</td> <td>    0.098</td> <td>   -6.820</td> <td> 0.000</td> <td>   -0.858</td> <td>   -0.475</td>\n",
       "</tr>\n",
       "<tr>\n",
       "  <th>tenure</th>           <td>   -0.0792</td> <td>    0.007</td> <td>  -12.014</td> <td> 0.000</td> <td>   -0.092</td> <td>   -0.066</td>\n",
       "</tr>\n",
       "<tr>\n",
       "  <th>PhoneService</th>     <td>   -1.4251</td> <td>    0.142</td> <td>  -10.011</td> <td> 0.000</td> <td>   -1.704</td> <td>   -1.146</td>\n",
       "</tr>\n",
       "<tr>\n",
       "  <th>MultipleLines</th>    <td>   -0.1631</td> <td>    0.043</td> <td>   -3.835</td> <td> 0.000</td> <td>   -0.246</td> <td>   -0.080</td>\n",
       "</tr>\n",
       "<tr>\n",
       "  <th>InternetService</th>  <td>    0.2851</td> <td>    0.065</td> <td>    4.363</td> <td> 0.000</td> <td>    0.157</td> <td>    0.413</td>\n",
       "</tr>\n",
       "<tr>\n",
       "  <th>OnlineSecurity</th>   <td>   -0.5082</td> <td>    0.044</td> <td>  -11.646</td> <td> 0.000</td> <td>   -0.594</td> <td>   -0.423</td>\n",
       "</tr>\n",
       "<tr>\n",
       "  <th>OnlineBackup</th>     <td>   -0.3030</td> <td>    0.040</td> <td>   -7.585</td> <td> 0.000</td> <td>   -0.381</td> <td>   -0.225</td>\n",
       "</tr>\n",
       "<tr>\n",
       "  <th>DeviceProtection</th> <td>   -0.2295</td> <td>    0.041</td> <td>   -5.641</td> <td> 0.000</td> <td>   -0.309</td> <td>   -0.150</td>\n",
       "</tr>\n",
       "<tr>\n",
       "  <th>TechSupport</th>      <td>   -0.4068</td> <td>    0.043</td> <td>   -9.378</td> <td> 0.000</td> <td>   -0.492</td> <td>   -0.322</td>\n",
       "</tr>\n",
       "<tr>\n",
       "  <th>StreamingTV</th>      <td>   -0.0758</td> <td>    0.044</td> <td>   -1.732</td> <td> 0.083</td> <td>   -0.162</td> <td>    0.010</td>\n",
       "</tr>\n",
       "<tr>\n",
       "  <th>StreamingMovies</th>  <td>   -0.0658</td> <td>    0.043</td> <td>   -1.525</td> <td> 0.127</td> <td>   -0.150</td> <td>    0.019</td>\n",
       "</tr>\n",
       "<tr>\n",
       "  <th>Contract</th>         <td>   -1.0807</td> <td>    0.081</td> <td>  -13.362</td> <td> 0.000</td> <td>   -1.239</td> <td>   -0.922</td>\n",
       "</tr>\n",
       "<tr>\n",
       "  <th>PaperlessBilling</th> <td>   -0.0959</td> <td>    0.071</td> <td>   -1.346</td> <td> 0.178</td> <td>   -0.236</td> <td>    0.044</td>\n",
       "</tr>\n",
       "<tr>\n",
       "  <th>PaymentMethod</th>    <td>    0.1619</td> <td>    0.038</td> <td>    4.255</td> <td> 0.000</td> <td>    0.087</td> <td>    0.236</td>\n",
       "</tr>\n",
       "<tr>\n",
       "  <th>MonthlyCharges</th>   <td>    0.0292</td> <td>    0.002</td> <td>   13.107</td> <td> 0.000</td> <td>    0.025</td> <td>    0.034</td>\n",
       "</tr>\n",
       "<tr>\n",
       "  <th>TotalCharges</th>     <td>    0.0007</td> <td> 7.48e-05</td> <td>   10.017</td> <td> 0.000</td> <td>    0.001</td> <td>    0.001</td>\n",
       "</tr>\n",
       "</table>"
      ],
      "text/plain": [
       "<class 'statsmodels.iolib.summary.Summary'>\n",
       "\"\"\"\n",
       "                           Logit Regression Results                           \n",
       "==============================================================================\n",
       "Dep. Variable:                  Churn   No. Observations:                 7222\n",
       "Model:                          Logit   Df Residuals:                     7202\n",
       "Method:                           MLE   Df Model:                           19\n",
       "Date:                Sat, 06 Nov 2021   Pseudo R-squ.:                  0.4030\n",
       "Time:                        18:16:27   Log-Likelihood:                -2988.7\n",
       "converged:                       True   LL-Null:                       -5005.9\n",
       "Covariance Type:            nonrobust   LLR p-value:                     0.000\n",
       "====================================================================================\n",
       "                       coef    std err          z      P>|z|      [0.025      0.975]\n",
       "------------------------------------------------------------------------------------\n",
       "Intercept            1.1445      0.198      5.794      0.000       0.757       1.532\n",
       "gender               0.0431      0.065      0.665      0.506      -0.084       0.170\n",
       "SeniorCitizen       -0.6059      0.091     -6.626      0.000      -0.785      -0.427\n",
       "Partner             -0.3836      0.080     -4.815      0.000      -0.540      -0.227\n",
       "Dependents          -0.6666      0.098     -6.820      0.000      -0.858      -0.475\n",
       "tenure              -0.0792      0.007    -12.014      0.000      -0.092      -0.066\n",
       "PhoneService        -1.4251      0.142    -10.011      0.000      -1.704      -1.146\n",
       "MultipleLines       -0.1631      0.043     -3.835      0.000      -0.246      -0.080\n",
       "InternetService      0.2851      0.065      4.363      0.000       0.157       0.413\n",
       "OnlineSecurity      -0.5082      0.044    -11.646      0.000      -0.594      -0.423\n",
       "OnlineBackup        -0.3030      0.040     -7.585      0.000      -0.381      -0.225\n",
       "DeviceProtection    -0.2295      0.041     -5.641      0.000      -0.309      -0.150\n",
       "TechSupport         -0.4068      0.043     -9.378      0.000      -0.492      -0.322\n",
       "StreamingTV         -0.0758      0.044     -1.732      0.083      -0.162       0.010\n",
       "StreamingMovies     -0.0658      0.043     -1.525      0.127      -0.150       0.019\n",
       "Contract            -1.0807      0.081    -13.362      0.000      -1.239      -0.922\n",
       "PaperlessBilling    -0.0959      0.071     -1.346      0.178      -0.236       0.044\n",
       "PaymentMethod        0.1619      0.038      4.255      0.000       0.087       0.236\n",
       "MonthlyCharges       0.0292      0.002     13.107      0.000       0.025       0.034\n",
       "TotalCharges         0.0007   7.48e-05     10.017      0.000       0.001       0.001\n",
       "====================================================================================\n",
       "\"\"\""
      ]
     },
     "execution_count": 62,
     "metadata": {},
     "output_type": "execute_result"
    }
   ],
   "source": [
    "#im dateset\n",
    "model= smf.logit(formula=full_formula, data= x_train_sm.join(y_train_sm)).fit()\n",
    "model.summary()"
   ]
  },
  {
   "cell_type": "code",
   "execution_count": 63,
   "metadata": {
    "execution": {
     "iopub.execute_input": "2021-11-06T07:37:01.441848Z",
     "iopub.status.busy": "2021-11-06T07:37:01.441312Z",
     "iopub.status.idle": "2021-11-06T07:37:01.642756Z",
     "shell.execute_reply": "2021-11-06T07:37:01.641870Z",
     "shell.execute_reply.started": "2021-11-06T07:37:01.441804Z"
    }
   },
   "outputs": [
    {
     "data": {
      "image/png": "[encoded data removed]",
      "text/plain": [
       "<Figure size 432x288 with 1 Axes>"
      ]
     },
     "metadata": {
      "needs_background": "light"
     },
     "output_type": "display_data"
    },
    {
     "name": "stdout",
     "output_type": "stream",
     "text": [
      "Test accuracy =  0.7458589682915286\n"
     ]
    }
   ],
   "source": [
    "ypred = model.predict(x_test)\n",
    "ypred\n",
    "prediction = list(map(round, ypred))\n",
    "\n",
    "# confusion matrix\n",
    "cm = confusion_matrix(y_test, prediction)\n",
    "labels=[0, 1]\n",
    "df_cm = pd.DataFrame(cm, labels, labels)\n",
    "ax = sns.heatmap(df_cm, annot=True, annot_kws={\"size\": 10}, square=True, cbar=False, fmt='g')\n",
    "ax.set_ylim(0, 2) \n",
    "plt.xlabel(\"Predicted\") \n",
    "plt.ylabel(\"Actual\") \n",
    "ax.invert_yaxis() #optional\n",
    "plt.show()\n",
    " \n",
    "# accuracy score of the model\n",
    "print('Test accuracy = ', accuracy_score(y_test, prediction))"
   ]
  },
  {
   "cell_type": "code",
   "execution_count": 64,
   "metadata": {
    "execution": {
     "iopub.execute_input": "2021-11-06T07:37:01.645001Z",
     "iopub.status.busy": "2021-11-06T07:37:01.644440Z",
     "iopub.status.idle": "2021-11-06T07:37:01.672014Z",
     "shell.execute_reply": "2021-11-06T07:37:01.671042Z",
     "shell.execute_reply.started": "2021-11-06T07:37:01.644954Z"
    }
   },
   "outputs": [
    {
     "name": "stdout",
     "output_type": "stream",
     "text": [
      " precision score:  0.5084087968952135 \n",
      "\n",
      " recall score:  0.7145454545454546 \n",
      "\n",
      "              precision    recall  f1-score   support\n",
      "\n",
      "           0       0.88      0.76      0.82      1563\n",
      "           1       0.51      0.71      0.59       550\n",
      "\n",
      "    accuracy                           0.75      2113\n",
      "   macro avg       0.70      0.74      0.70      2113\n",
      "weighted avg       0.79      0.75      0.76      2113\n",
      "\n"
     ]
    }
   ],
   "source": [
    "# Evaluating the predictive capability of the classification model\n",
    "\n",
    "print(' precision score: ',precision_score(y_test, prediction),'\\n')\n",
    "print(' recall score: ',recall_score(y_test, prediction),'\\n')\n",
    "print(classification_report(y_test, prediction))"
   ]
  },
  {
   "cell_type": "markdown",
   "metadata": {},
   "source": [
    "**Model Discussion**\n",
    "\n",
    "- Although the first model (1A) produced a high accuracy score of 0.783, it has a low precision and recall scores at 0.594 and 0.524 respectively. The model performed well in terms of accuracy due to the accracy paradox - given that majority of the test data are of the majority class, a model that predicts the majority class for all the test data will have a high number of correct predictions. This results in a misleading accuracy score. \n",
    "- As such, I trained a second model (1B) with a balanced data set to evaluate if this would improve the recall and precision. Although the accuracy score decreased slightly to 0.746, the recall score has improved to 0.715. However, the precision score decreased to 0.508. This is the trade-off for correcting the dataset. As the model is now exposed to more data from the minority class (churn), more of its prediction now leans towards the minority class, resulting in higher false positives and thus, a lower precision. \n",
    "- Given both models, I would pick the second model (1B) as it has a higher recall. In this customer churn prediction case, false positives are less costly compared to false negatives. In a false positive case, the firm would proactively engage a non-churn customer as the model has wrongly predicted that the customer would churn. In a false negative case, the firm would neglect a churning customer as the model has wrongly predicted that the customer would not churn. The latter would cause greater financial loss to the firm as it is more expensive to acquire a new customer than to retain one. \n",
    "\n",
    "**Intepreting model output  [4]**\n",
    "- StreamingMovies, PaperlessBilling and gender have no significant effect on the log odds of customers churning. (p-value>0.05)\n",
    "- The remaining independent variables have a significant effect on the log odds of customer churning (p-value<0.05)\n",
    "- Customers subscribed to phone service has a -1.43 decrease in log odds of churning compared to customers who are not subscribed to phone service\n",
    "- Customers who have dependents has a -0.67 decrease in log odds of churning compared to customers who do not have dependents\n",
    "- Senior citizen customers have a -0.61 decrease in log odds of churning compared to customers who are younger.\n"
   ]
  },
  {
   "cell_type": "markdown",
   "metadata": {},
   "source": [
    "### 4D. Model #2 - Decision Tree\n",
    "Decision Trees (DTs) are a non-parametric supervised learning method used for classification and regression. The goal is to create a model that predicts the value of a target variable by learning simple decision rules inferred from the data features. "
   ]
  },
  {
   "cell_type": "code",
   "execution_count": 65,
   "metadata": {
    "execution": {
     "iopub.execute_input": "2021-11-06T07:37:01.673760Z",
     "iopub.status.busy": "2021-11-06T07:37:01.673421Z",
     "iopub.status.idle": "2021-11-06T07:37:01.744177Z",
     "shell.execute_reply": "2021-11-06T07:37:01.743343Z",
     "shell.execute_reply.started": "2021-11-06T07:37:01.673719Z"
    }
   },
   "outputs": [],
   "source": [
    "clf = DecisionTreeClassifier(random_state=0)\n",
    "clf = clf.fit(x_train_sm,y_train_sm)\n",
    "y_pred = clf.predict(x_test)"
   ]
  },
  {
   "cell_type": "code",
   "execution_count": 66,
   "metadata": {
    "execution": {
     "iopub.execute_input": "2021-11-06T07:37:01.745764Z",
     "iopub.status.busy": "2021-11-06T07:37:01.745554Z",
     "iopub.status.idle": "2021-11-06T07:37:01.894494Z",
     "shell.execute_reply": "2021-11-06T07:37:01.893329Z",
     "shell.execute_reply.started": "2021-11-06T07:37:01.745738Z"
    }
   },
   "outputs": [
    {
     "data": {
      "image/png": "[encoded data removed]",
      "text/plain": [
       "<Figure size 432x288 with 1 Axes>"
      ]
     },
     "metadata": {
      "needs_background": "light"
     },
     "output_type": "display_data"
    },
    {
     "name": "stdout",
     "output_type": "stream",
     "text": [
      "Test accuracy =  0.7146237576904875\n"
     ]
    }
   ],
   "source": [
    "# confusion matrix\n",
    "cm = confusion_matrix(y_test, y_pred)\n",
    "labels=[0, 1]\n",
    "df_cm = pd.DataFrame(cm, labels, labels)\n",
    "ax = sns.heatmap(df_cm, annot=True, annot_kws={\"size\": 10}, square=True, cbar=False, fmt='g')\n",
    "ax.set_ylim(0, 2) \n",
    "plt.xlabel(\"Predicted\") \n",
    "plt.ylabel(\"Actual\") \n",
    "ax.invert_yaxis() #optional\n",
    "plt.show()\n",
    " \n",
    "# accuracy score of the model\n",
    "print('Test accuracy = ', accuracy_score(y_test, y_pred))"
   ]
  },
  {
   "cell_type": "code",
   "execution_count": 67,
   "metadata": {
    "execution": {
     "iopub.execute_input": "2021-11-06T07:37:01.896628Z",
     "iopub.status.busy": "2021-11-06T07:37:01.896192Z",
     "iopub.status.idle": "2021-11-06T07:37:01.918209Z",
     "shell.execute_reply": "2021-11-06T07:37:01.917317Z",
     "shell.execute_reply.started": "2021-11-06T07:37:01.896579Z"
    }
   },
   "outputs": [
    {
     "name": "stdout",
     "output_type": "stream",
     "text": [
      " precision score:  0.45941807044410415 \n",
      "\n",
      " recall score:  0.5454545454545454 \n",
      "\n",
      "              precision    recall  f1-score   support\n",
      "\n",
      "           0       0.83      0.77      0.80      1563\n",
      "           1       0.46      0.55      0.50       550\n",
      "\n",
      "    accuracy                           0.71      2113\n",
      "   macro avg       0.64      0.66      0.65      2113\n",
      "weighted avg       0.73      0.71      0.72      2113\n",
      "\n"
     ]
    }
   ],
   "source": [
    "# Evaluating the predictive capability of the classification model\n",
    "\n",
    "print(' precision score: ',precision_score(y_test, y_pred),'\\n')\n",
    "print(' recall score: ',recall_score(y_test, y_pred),'\\n')\n",
    "print(classification_report(y_test, y_pred))"
   ]
  },
  {
   "cell_type": "markdown",
   "metadata": {},
   "source": [
    "**Fine-tuning Decision Tree [5]**\n",
    "\n",
    "In general, the more complex our tree is, the more information it captures. However, this often leads to overfitting whereby the model will perform very well on the training data set but it will not be able to generalize well on the test data set. On the flip side, an overly simplified model will underfit as it is unable to learn meaningful patterns from the data and will perform badly on both train and test data set. \n",
    "\n",
    "There are several hyper-parameters that affect tree complexity:\n",
    "- stopping criteria: max_depth, min_samples_split, and min_samples_leaf \n",
    "- pruning methods: min_weight_fraction_leaf and min_impurity_decrease\n",
    "\n",
    "Here, I have decided to experiment with max_depth. As seen from the line chart below, a max_depth==3 gives the best score for both test and training data set. There are signs of overfitting for trees with max_depth above 7. The model's accuracy for train data set continue to increase while the model's accuracy for test data set has decreased."
   ]
  },
  {
   "cell_type": "code",
   "execution_count": 68,
   "metadata": {
    "execution": {
     "iopub.execute_input": "2021-11-06T07:37:01.920719Z",
     "iopub.status.busy": "2021-11-06T07:37:01.919816Z",
     "iopub.status.idle": "2021-11-06T07:37:02.711940Z",
     "shell.execute_reply": "2021-11-06T07:37:02.711073Z",
     "shell.execute_reply.started": "2021-11-06T07:37:01.920677Z"
    }
   },
   "outputs": [
    {
     "data": {
      "image/png": "[encoded data removed]",
      "text/plain": [
       "<Figure size 864x576 with 1 Axes>"
      ]
     },
     "metadata": {
      "needs_background": "light"
     },
     "output_type": "display_data"
    }
   ],
   "source": [
    "# Ref:https://machinelearningmastery.com/overfitting-machine-learning-models/\n",
    "\n",
    "values = [i for i in range(1, 21)]\n",
    "train_scores, test_scores = list(), list()\n",
    "\n",
    "# evaluate a decision tree for each depth\n",
    "for i in values:\n",
    "    clf = DecisionTreeClassifier(max_depth=i)\n",
    "    clf = clf.fit(x_train, y_train)\n",
    "    \n",
    "    # evaluate on the train dataset\n",
    "    train_ypred = clf.predict(x_train)\n",
    "    train_acc = metrics.accuracy_score(y_train, train_ypred)\n",
    "    train_scores.append(train_acc)\n",
    "    \n",
    "    # evaluate on the test dataset\n",
    "    test_ypred = clf.predict(x_test)\n",
    "    test_acc = metrics.accuracy_score(y_test, test_ypred)\n",
    "    test_scores.append(test_acc)\n",
    "\n",
    "# plot of train and test scores vs tree depth\n",
    "fig, ax = plt.subplots(figsize=(12, 8))\n",
    "ax.plot(values, train_scores, '-o', label='Train')\n",
    "ax.plot(values, test_scores, '-o', label='Test')\n",
    "ax.set_xticks([x for x in range(1,22)])\n",
    "ax.legend()\n",
    "plt.show()"
   ]
  },
  {
   "cell_type": "code",
   "execution_count": 69,
   "metadata": {
    "execution": {
     "iopub.execute_input": "2021-11-06T07:37:02.713497Z",
     "iopub.status.busy": "2021-11-06T07:37:02.713105Z",
     "iopub.status.idle": "2021-11-06T07:37:02.734606Z",
     "shell.execute_reply": "2021-11-06T07:37:02.733892Z",
     "shell.execute_reply.started": "2021-11-06T07:37:02.713465Z"
    }
   },
   "outputs": [],
   "source": [
    "clf = DecisionTreeClassifier(random_state=0, max_depth = 3)\n",
    "clf = clf.fit(x_train_sm,y_train_sm)\n",
    "y_pred = clf.predict(x_test)"
   ]
  },
  {
   "cell_type": "code",
   "execution_count": 70,
   "metadata": {
    "execution": {
     "iopub.execute_input": "2021-11-06T07:37:02.736303Z",
     "iopub.status.busy": "2021-11-06T07:37:02.735577Z",
     "iopub.status.idle": "2021-11-06T07:37:02.872445Z",
     "shell.execute_reply": "2021-11-06T07:37:02.871546Z",
     "shell.execute_reply.started": "2021-11-06T07:37:02.736267Z"
    }
   },
   "outputs": [
    {
     "data": {
      "image/png": "[encoded data removed]",
      "text/plain": [
       "<Figure size 432x288 with 1 Axes>"
      ]
     },
     "metadata": {
      "needs_background": "light"
     },
     "output_type": "display_data"
    },
    {
     "name": "stdout",
     "output_type": "stream",
     "text": [
      "Test accuracy =  0.6890676762896356\n"
     ]
    }
   ],
   "source": [
    "# confusion matrix\n",
    "cm = confusion_matrix(y_test, y_pred)\n",
    "labels=[0, 1]\n",
    "df_cm = pd.DataFrame(cm, labels, labels)\n",
    "ax = sns.heatmap(df_cm, annot=True, annot_kws={\"size\": 10}, square=True, cbar=False, fmt='g')\n",
    "ax.set_ylim(0, 2) \n",
    "plt.xlabel(\"Predicted\") \n",
    "plt.ylabel(\"Actual\") \n",
    "ax.invert_yaxis() #optional\n",
    "plt.show()\n",
    " \n",
    "# accuracy score of the model\n",
    "print('Test accuracy = ', accuracy_score(y_test, y_pred))"
   ]
  },
  {
   "cell_type": "code",
   "execution_count": 71,
   "metadata": {
    "execution": {
     "iopub.execute_input": "2021-11-06T07:37:02.874727Z",
     "iopub.status.busy": "2021-11-06T07:37:02.874177Z",
     "iopub.status.idle": "2021-11-06T07:37:02.898820Z",
     "shell.execute_reply": "2021-11-06T07:37:02.897888Z",
     "shell.execute_reply.started": "2021-11-06T07:37:02.874680Z"
    }
   },
   "outputs": [
    {
     "name": "stdout",
     "output_type": "stream",
     "text": [
      " precision score:  0.44350580781414994 \n",
      "\n",
      " recall score:  0.7636363636363637 \n",
      "\n",
      "              precision    recall  f1-score   support\n",
      "\n",
      "           0       0.89      0.66      0.76      1563\n",
      "           1       0.44      0.76      0.56       550\n",
      "\n",
      "    accuracy                           0.69      2113\n",
      "   macro avg       0.67      0.71      0.66      2113\n",
      "weighted avg       0.77      0.69      0.71      2113\n",
      "\n"
     ]
    }
   ],
   "source": [
    "# Evaluating the predictive capability of the classification model\n",
    "\n",
    "print(' precision score: ',precision_score(y_test, y_pred),'\\n')\n",
    "print(' recall score: ',recall_score(y_test, y_pred),'\\n')\n",
    "print(classification_report(y_test, y_pred))"
   ]
  },
  {
   "cell_type": "code",
   "execution_count": 72,
   "metadata": {
    "execution": {
     "iopub.execute_input": "2021-11-06T07:37:02.900328Z",
     "iopub.status.busy": "2021-11-06T07:37:02.900056Z",
     "iopub.status.idle": "2021-11-06T07:37:04.471186Z",
     "shell.execute_reply": "2021-11-06T07:37:04.469945Z",
     "shell.execute_reply.started": "2021-11-06T07:37:02.900270Z"
    }
   },
   "outputs": [
    {
     "data": {
      "image/png": "[encoded data removed]",
      "text/plain": [
       "<IPython.core.display.Image object>"
      ]
     },
     "execution_count": 72,
     "metadata": {},
     "output_type": "execute_result"
    }
   ],
   "source": [
    "dot_data = StringIO()\n",
    "export_graphviz(clf, out_file=dot_data,  \n",
    "                filled=True, rounded=True,\n",
    "                special_characters=True,feature_names = x.columns ,class_names=['0','1'])\n",
    "graph = pydotplus.graph_from_dot_data(dot_data.getvalue())  \n",
    "graph.write_png('DecisionTree.png')\n",
    "Image(graph.create_png())"
   ]
  },
  {
   "cell_type": "code",
   "execution_count": 73,
   "metadata": {
    "execution": {
     "iopub.execute_input": "2021-11-06T07:37:04.473420Z",
     "iopub.status.busy": "2021-11-06T07:37:04.473109Z",
     "iopub.status.idle": "2021-11-06T07:37:04.739995Z",
     "shell.execute_reply": "2021-11-06T07:37:04.739037Z",
     "shell.execute_reply.started": "2021-11-06T07:37:04.473377Z"
    }
   },
   "outputs": [
    {
     "data": {
      "text/plain": [
       "<matplotlib.axes._subplots.AxesSubplot at 0x156aa72f908>"
      ]
     },
     "execution_count": 73,
     "metadata": {},
     "output_type": "execute_result"
    },
    {
     "data": {
      "image/png": "[encoded data removed]",
      "text/plain": [
       "<Figure size 432x288 with 1 Axes>"
      ]
     },
     "metadata": {
      "needs_background": "light"
     },
     "output_type": "display_data"
    }
   ],
   "source": [
    "importances = clf.feature_importances_\n",
    "weights = pd.Series(importances,\n",
    "                 index=x.columns.values)\n",
    "weights.sort_values()[-10:].plot(kind = 'barh')"
   ]
  },
  {
   "cell_type": "markdown",
   "metadata": {},
   "source": [
    "### 4E. Model #3 - Random Forest\n",
    "A random forest is an ensemble method that uses averaging from various classifiers to improve the predictive accuracy and control over-fitting"
   ]
  },
  {
   "cell_type": "code",
   "execution_count": 74,
   "metadata": {
    "execution": {
     "iopub.execute_input": "2021-11-06T07:37:04.741904Z",
     "iopub.status.busy": "2021-11-06T07:37:04.741426Z",
     "iopub.status.idle": "2021-11-06T07:37:06.024068Z",
     "shell.execute_reply": "2021-11-06T07:37:06.023018Z",
     "shell.execute_reply.started": "2021-11-06T07:37:04.741870Z"
    }
   },
   "outputs": [],
   "source": [
    "from sklearn.ensemble import RandomForestClassifier\n",
    "\n",
    "clf=RandomForestClassifier(n_estimators=350, max_depth=3)\n",
    "clf.fit(x_train_sm,y_train_sm)\n",
    "y_pred=clf.predict(x_test)"
   ]
  },
  {
   "cell_type": "code",
   "execution_count": 75,
   "metadata": {
    "execution": {
     "iopub.execute_input": "2021-11-06T07:37:06.025967Z",
     "iopub.status.busy": "2021-11-06T07:37:06.025686Z",
     "iopub.status.idle": "2021-11-06T07:37:06.180702Z",
     "shell.execute_reply": "2021-11-06T07:37:06.179603Z",
     "shell.execute_reply.started": "2021-11-06T07:37:06.025937Z"
    }
   },
   "outputs": [
    {
     "data": {
      "image/png": "[encoded data removed]",
      "text/plain": [
       "<Figure size 432x288 with 1 Axes>"
      ]
     },
     "metadata": {
      "needs_background": "light"
     },
     "output_type": "display_data"
    },
    {
     "name": "stdout",
     "output_type": "stream",
     "text": [
      "Test accuracy =  0.7278750591575959\n"
     ]
    }
   ],
   "source": [
    "# confusion matrix\n",
    "cm = confusion_matrix(y_test, y_pred)\n",
    "labels=[0, 1]\n",
    "df_cm = pd.DataFrame(cm, labels, labels)\n",
    "ax = sns.heatmap(df_cm, annot=True, annot_kws={\"size\": 10}, square=True, cbar=False, fmt='g')\n",
    "ax.set_ylim(0, 2) \n",
    "plt.xlabel(\"Predicted\") \n",
    "plt.ylabel(\"Actual\") \n",
    "ax.invert_yaxis() #optional\n",
    "plt.show()\n",
    " \n",
    "# accuracy score of the model\n",
    "print('Test accuracy = ', accuracy_score(y_test, y_pred))"
   ]
  },
  {
   "cell_type": "code",
   "execution_count": 76,
   "metadata": {
    "execution": {
     "iopub.execute_input": "2021-11-06T07:37:06.183731Z",
     "iopub.status.busy": "2021-11-06T07:37:06.182523Z",
     "iopub.status.idle": "2021-11-06T07:37:06.202353Z",
     "shell.execute_reply": "2021-11-06T07:37:06.201277Z",
     "shell.execute_reply.started": "2021-11-06T07:37:06.183669Z"
    }
   },
   "outputs": [
    {
     "name": "stdout",
     "output_type": "stream",
     "text": [
      " precision score:  0.48520710059171596 \n",
      "\n",
      " recall score:  0.7454545454545455 \n",
      "\n",
      "              precision    recall  f1-score   support\n",
      "\n",
      "           0       0.89      0.72      0.80      1563\n",
      "           1       0.49      0.75      0.59       550\n",
      "\n",
      "    accuracy                           0.73      2113\n",
      "   macro avg       0.69      0.73      0.69      2113\n",
      "weighted avg       0.78      0.73      0.74      2113\n",
      "\n"
     ]
    }
   ],
   "source": [
    "# Evaluating the predictive capability of the classification model\n",
    "\n",
    "print(' precision score: ',precision_score(y_test, y_pred),'\\n')\n",
    "print(' recall score: ',recall_score(y_test, y_pred),'\\n')\n",
    "print(classification_report(y_test, y_pred))"
   ]
  },
  {
   "cell_type": "code",
   "execution_count": 77,
   "metadata": {},
   "outputs": [
    {
     "data": {
      "text/plain": [
       "<matplotlib.axes._subplots.AxesSubplot at 0x156b2bec3c8>"
      ]
     },
     "execution_count": 77,
     "metadata": {},
     "output_type": "execute_result"
    },
    {
     "data": {
      "image/png": "[encoded data removed]",
      "text/plain": [
       "<Figure size 432x288 with 1 Axes>"
      ]
     },
     "metadata": {
      "needs_background": "light"
     },
     "output_type": "display_data"
    }
   ],
   "source": [
    "importances = clf.feature_importances_\n",
    "weights = pd.Series(importances,\n",
    "                 index=x.columns.values)\n",
    "weights.sort_values()[-10:].plot(kind = 'barh')"
   ]
  },
  {
   "cell_type": "markdown",
   "metadata": {},
   "source": [
    "# 5. Comparing model performance\n",
    "- Overall, the logistic regression model performs better compared to decision tree model. The logistic regression model gave a better accuracy score of 0.746 and macro-F1 score of 0.79. In comparison, the decision tree model produced a lower accuracy score of 0.689 and macro-F1 score of 0.66. \n",
    "\n",
    "#### Key recommedations:\n",
    "- The InternetService type has a 0.2851 increase in log odds ratio of customer churning. I would recommend the firm to conduct a survey on satisfaction with Internet Service to understand if there might be any underlying issues with the InternetService that may cause customers to churn.\n",
    "- As younger customers with no dependents and no partners are more likely to churn, I would recommend the firm to create bundle family packages with their older family members / friends. \n",
    "- For every one unit increase in monthly charges, the logg odds of customer churning increase by 0.029. Based on the EDA findings, churn customers have a higher median monthly charge compared to non-churn customers. As such, I would recommend the firm to investigate the underlying the possible causes of higher median monthly charge and take steps to reduce the cost to prevent losing these customers to other competitors. "
   ]
  },
  {
   "cell_type": "markdown",
   "metadata": {},
   "source": [
    "# References:\n",
    "* [1] https://blog.clairvoyantsoft.com/correlation-and-collinearity-how-they-can-make-or-break-a-model-9135fbe6936a#:~:text=Multicollinearity%20is%20a%20situation%20where,indicates%20the%20presence%20of%20multicollinearity.\n",
    "* [2] https://quantifyinghealth.com/vif-threshold/\n",
    "* [3] https://www.geeksforgeeks.org/logistic-regression-using-statsmodels/\n",
    "* [4] https://pythonfordatascienceorg.wordpress.com/logistic-regression-python/\n",
    "* [5] https://towardsdatascience.com/how-to-tune-a-decision-tree-f03721801680\n",
    "* [6] https://statisticsbyjim.com/regression/multicollinearity-in-regression-analysis/"
   ]
  }
 ],
 "metadata": {
  "kernelspec": {
   "display_name": "Python 3",
   "language": "python",
   "name": "python3"
  },
  "language_info": {
   "codemirror_mode": {
    "name": "ipython",
    "version": 3
   },
   "file_extension": ".py",
   "mimetype": "text/x-python",
   "name": "python",
   "nbconvert_exporter": "python",
   "pygments_lexer": "ipython3",
   "version": "3.7.4"
  }
 },
 "nbformat": 4,
 "nbformat_minor": 4
}
