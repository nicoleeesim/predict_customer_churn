{
 "cells": [
  {
   "cell_type": "markdown",
   "metadata": {},
   "source": [
    "# **1. Introduction**\n",
    "\n",
    "Customer churn (AKA Customer attrition) occurs when a customer stops using a business's products or services. Customer retention is critical to the business as it is often more costly to acquire new customers compared to retaining existing ones. As such, predicting customer churn will help in early detection of customers who are at risks of leaving a service/product, allowing the business to take proactive measures in prioritising retention efforts with these customers. "
   ]
  },
  {
   "cell_type": "code",
   "execution_count": 233,
   "metadata": {
    "execution": {
     "iopub.execute_input": "2021-11-06T07:36:13.811689Z",
     "iopub.status.busy": "2021-11-06T07:36:13.807501Z",
     "iopub.status.idle": "2021-11-06T07:36:21.295801Z",
     "shell.execute_reply": "2021-11-06T07:36:21.294573Z",
     "shell.execute_reply.started": "2021-11-06T07:36:13.811475Z"
    }
   },
   "outputs": [],
   "source": [
    "!pip install pydotplus\n",
    "# !pip install six"
   ]
  },
  {
   "cell_type": "code",
   "execution_count": 234,
   "metadata": {
    "execution": {
     "iopub.execute_input": "2021-11-06T07:36:21.299636Z",
     "iopub.status.busy": "2021-11-06T07:36:21.299088Z",
     "iopub.status.idle": "2021-11-06T07:36:21.312323Z",
     "shell.execute_reply": "2021-11-06T07:36:21.311396Z",
     "shell.execute_reply.started": "2021-11-06T07:36:21.299601Z"
    }
   },
   "outputs": [],
   "source": [
    "#import libs\n",
    "import pandas as pd\n",
    "pd.set_option(\"display.max_columns\", 101)\n",
    "import numpy as np\n",
    "import matplotlib.pyplot as plt\n",
    "import seaborn as sns\n",
    "import statsmodels.formula.api as smf\n",
    "from sklearn.model_selection import train_test_split\n",
    "from statsmodels.stats.outliers_influence import variance_inflation_factor\n",
    "from sklearn.metrics import confusion_matrix ,classification_report,precision_score, recall_score ,f1_score, accuracy_score \n",
    "\n",
    "#decision tree\n",
    "from sklearn.tree import DecisionTreeClassifier\n",
    "from sklearn.ensemble import RandomForestClassifier\n",
    "from sklearn import metrics\n",
    "from sklearn.tree import export_graphviz\n",
    "from six import StringIO\n",
    "from IPython.display import Image  \n",
    "import pydotplus"
   ]
  },
  {
   "cell_type": "code",
   "execution_count": 235,
   "metadata": {
    "execution": {
     "iopub.execute_input": "2021-11-06T07:36:21.314680Z",
     "iopub.status.busy": "2021-11-06T07:36:21.314117Z",
     "iopub.status.idle": "2021-11-06T07:36:21.421990Z",
     "shell.execute_reply": "2021-11-06T07:36:21.421253Z",
     "shell.execute_reply.started": "2021-11-06T07:36:21.314644Z"
    }
   },
   "outputs": [],
   "source": [
    "#loading data\n",
    "df = pd.read_csv('../input/telco-customer-churn/WA_Fn-UseC_-Telco-Customer-Churn.csv')"
   ]
  },
  {
   "cell_type": "markdown",
   "metadata": {
    "execution": {
     "iopub.execute_input": "2021-11-05T09:29:45.452316Z",
     "iopub.status.busy": "2021-11-05T09:29:45.451829Z",
     "iopub.status.idle": "2021-11-05T09:29:45.457402Z",
     "shell.execute_reply": "2021-11-05T09:29:45.45623Z",
     "shell.execute_reply.started": "2021-11-05T09:29:45.452256Z"
    }
   },
   "source": [
    "# **2. Data Processing**\n",
    "The overall data quality is quite good. There are no duplicates and outliers. There is only a handful of missing values for TotalCharges which was replaced with 0."
   ]
  },
  {
   "cell_type": "markdown",
   "metadata": {},
   "source": [
    "### 2A. Check data type, missing values and duplicates\n",
    "As TotalCharges is a float and SeniorCitizen is a dummy variable, I have corrected the data type."
   ]
  },
  {
   "cell_type": "code",
   "execution_count": 236,
   "metadata": {
    "execution": {
     "iopub.execute_input": "2021-11-06T07:36:21.424026Z",
     "iopub.status.busy": "2021-11-06T07:36:21.423502Z",
     "iopub.status.idle": "2021-11-06T07:36:21.437217Z",
     "shell.execute_reply": "2021-11-06T07:36:21.436520Z",
     "shell.execute_reply.started": "2021-11-06T07:36:21.423990Z"
    }
   },
   "outputs": [],
   "source": [
    "#check data type\n",
    "df.dtypes"
   ]
  },
  {
   "cell_type": "code",
   "execution_count": 237,
   "metadata": {
    "execution": {
     "iopub.execute_input": "2021-11-06T07:36:21.439967Z",
     "iopub.status.busy": "2021-11-06T07:36:21.439522Z",
     "iopub.status.idle": "2021-11-06T07:36:21.460510Z",
     "shell.execute_reply": "2021-11-06T07:36:21.459559Z",
     "shell.execute_reply.started": "2021-11-06T07:36:21.439937Z"
    }
   },
   "outputs": [],
   "source": [
    "#convert data type\n",
    "df['TotalCharges'] = df['TotalCharges'].str.replace(\" \", \"0\", regex=False) #regex=False means input string is not a regex pattern\n",
    "df['TotalCharges'] = df['TotalCharges'].astype('float64')\n",
    "df['SeniorCitizen'] = df['SeniorCitizen'].astype('object')"
   ]
  },
  {
   "cell_type": "code",
   "execution_count": 238,
   "metadata": {
    "execution": {
     "iopub.execute_input": "2021-11-06T07:36:21.462183Z",
     "iopub.status.busy": "2021-11-06T07:36:21.461890Z",
     "iopub.status.idle": "2021-11-06T07:36:21.471562Z",
     "shell.execute_reply": "2021-11-06T07:36:21.470725Z",
     "shell.execute_reply.started": "2021-11-06T07:36:21.462152Z"
    }
   },
   "outputs": [],
   "source": [
    "#check for duplicate values - no duplicates\n",
    "df['customerID'].duplicated().sum()"
   ]
  },
  {
   "cell_type": "code",
   "execution_count": 239,
   "metadata": {
    "execution": {
     "iopub.execute_input": "2021-11-06T07:36:21.473458Z",
     "iopub.status.busy": "2021-11-06T07:36:21.473039Z",
     "iopub.status.idle": "2021-11-06T07:36:21.491929Z",
     "shell.execute_reply": "2021-11-06T07:36:21.490773Z",
     "shell.execute_reply.started": "2021-11-06T07:36:21.473426Z"
    }
   },
   "outputs": [],
   "source": [
    "#drop irrelevant columns - customerID\n",
    "df.index = df['customerID']\n",
    "df = df.drop(columns='customerID')"
   ]
  },
  {
   "cell_type": "code",
   "execution_count": 240,
   "metadata": {
    "execution": {
     "iopub.execute_input": "2021-11-06T07:36:21.493941Z",
     "iopub.status.busy": "2021-11-06T07:36:21.493276Z",
     "iopub.status.idle": "2021-11-06T07:36:21.512038Z",
     "shell.execute_reply": "2021-11-06T07:36:21.511256Z",
     "shell.execute_reply.started": "2021-11-06T07:36:21.493909Z"
    }
   },
   "outputs": [],
   "source": [
    "#check for missing values\n",
    "df.isnull().sum()"
   ]
  },
  {
   "cell_type": "markdown",
   "metadata": {},
   "source": [
    "### 2B. Check for outliers\n",
    "As seen from the summary stats table and boxplot below:\n",
    "- tenure is positively skewed as mean is greater than median monthly charges\n",
    "- MonthlyCharges is negatively skewed as mean is lower than median monthly charges\n",
    "- TotalCharges is positively skewed as mean is greater than median total charges\n",
    "- Based on the IQR formula, there are no outliers"
   ]
  },
  {
   "cell_type": "code",
   "execution_count": 241,
   "metadata": {
    "execution": {
     "iopub.execute_input": "2021-11-06T07:36:21.514200Z",
     "iopub.status.busy": "2021-11-06T07:36:21.513676Z",
     "iopub.status.idle": "2021-11-06T07:36:21.544012Z",
     "shell.execute_reply": "2021-11-06T07:36:21.543460Z",
     "shell.execute_reply.started": "2021-11-06T07:36:21.514150Z"
    }
   },
   "outputs": [],
   "source": [
    "#check outliers using mean and median\n",
    "df.describe()"
   ]
  },
  {
   "cell_type": "code",
   "execution_count": 242,
   "metadata": {
    "execution": {
     "iopub.execute_input": "2021-11-06T07:36:21.545775Z",
     "iopub.status.busy": "2021-11-06T07:36:21.545206Z",
     "iopub.status.idle": "2021-11-06T07:36:21.985578Z",
     "shell.execute_reply": "2021-11-06T07:36:21.984836Z",
     "shell.execute_reply.started": "2021-11-06T07:36:21.545738Z"
    }
   },
   "outputs": [],
   "source": [
    "#check outliers using boxplot\n",
    "numeric_col = ['tenure', 'MonthlyCharges', 'TotalCharges']\n",
    "fig, ax = plt.subplots(1,3, figsize=(16, 4)) \n",
    "\n",
    "#enumerate adds a counter to iterable\n",
    "for n, each_col in enumerate(numeric_col):\n",
    "    ax[n].boxplot(df[each_col]) \n",
    "    ax[n].set_title(each_col)"
   ]
  },
  {
   "cell_type": "markdown",
   "metadata": {},
   "source": [
    "# 3. Exploratory Data Analysis"
   ]
  },
  {
   "cell_type": "code",
   "execution_count": 243,
   "metadata": {
    "execution": {
     "iopub.execute_input": "2021-11-06T07:36:21.987204Z",
     "iopub.status.busy": "2021-11-06T07:36:21.986811Z",
     "iopub.status.idle": "2021-11-06T07:36:21.995163Z",
     "shell.execute_reply": "2021-11-06T07:36:21.994269Z",
     "shell.execute_reply.started": "2021-11-06T07:36:21.987173Z"
    }
   },
   "outputs": [],
   "source": [
    "numerical_col = []\n",
    "cat_col = []\n",
    "for each_feature in df.columns:\n",
    "    if df[each_feature].dtypes == 'int64' or df[each_feature].dtypes == 'float64':\n",
    "        numerical_col.append(each_feature)\n",
    "    else:\n",
    "        cat_col.append(each_feature)\n",
    "        \n",
    "print(numerical_col)\n",
    "print(cat_col)"
   ]
  },
  {
   "cell_type": "markdown",
   "metadata": {},
   "source": [
    "### 3A. Understand data distribution for each categorical variable\n",
    "- In terms of demographic, this dataset is mainly made up customers who are young and has no dependents. \n",
    "- As for the firm's core services, 90% of the customers are subscribed to the firm's phone service. Out of these customers, majority of them own multiple lines. 77% of customers have subscribed to the firm's Internet service and out of these customers, 44% of customers are Fibre Optic users and 34% are DSL users.\n",
    "- On average, across all the add-on service , 78% of customers do not subscribe or do not need add-on services such as Online Security, Online Backup, Device Protection, Tech Support, StreamingTV and StreamingMovies \n",
    "- Month-to-month contracts are more popular than 1-year and 2-year contracts\n",
    "- This dataset has an unequal class distribution. 73% of the data represents existing customers while only 27% of the data represents churned customer. This could create an imbalanced classification issue where it will be more challeneging for the model to learn the characterisitics of the minority class (churned customers)."
   ]
  },
  {
   "cell_type": "code",
   "execution_count": 244,
   "metadata": {
    "execution": {
     "iopub.execute_input": "2021-11-06T07:36:21.997100Z",
     "iopub.status.busy": "2021-11-06T07:36:21.996689Z",
     "iopub.status.idle": "2021-11-06T07:36:24.203498Z",
     "shell.execute_reply": "2021-11-06T07:36:24.202591Z",
     "shell.execute_reply.started": "2021-11-06T07:36:21.997056Z"
    }
   },
   "outputs": [],
   "source": [
    "fig = plt.figure (figsize=(16, 18))\n",
    "for y, each_feature in enumerate(cat_col[1:], start=1): #counter starts at 1, required by add_subplot\n",
    "    x = fig.add_subplot(5,4,y) #5by4 plot, ax1 is subplot at position y\n",
    "    x.pie(df.groupby(each_feature).size(), labels=df[each_feature].unique(), autopct=lambda p: '{:.0f}%'.format(p)) #autopct is the label for piechart, requires function\n",
    "    x.set_title(each_feature) #set title for each subplot\n"
   ]
  },
  {
   "cell_type": "markdown",
   "metadata": {
    "execution": {
     "iopub.execute_input": "2021-11-06T05:46:47.718545Z",
     "iopub.status.busy": "2021-11-06T05:46:47.717130Z",
     "iopub.status.idle": "2021-11-06T05:46:47.727882Z",
     "shell.execute_reply": "2021-11-06T05:46:47.726455Z",
     "shell.execute_reply.started": "2021-11-06T05:46:47.718477Z"
    }
   },
   "source": [
    "### 3B. Understand relationship between numerical independent variable with dependent variable\n",
    "- Churn customers have a shorter median tenure of 10 months, compared to non-churn customers who have a longer median tenure of 38 months\n",
    "- Churn customers have a higher median monthly charge bill of \\\\$79.6 compared to non-churn customers who have a lower median monthly bill of \\\\$64.4.\n",
    "- Yet, churn customers have a lower median total charge bill of \\\\$703.6 compared to non-churn customers who have a higher median total bill of \\\\$1079.5. This seems to contradict the findings from the monthly charge bill. A possible reason could be that churn customers have shorter tenure where they churn prematurely before the end of the fiscal period, resulting in lower total charges."
   ]
  },
  {
   "cell_type": "code",
   "execution_count": 245,
   "metadata": {
    "execution": {
     "iopub.execute_input": "2021-11-06T07:36:24.205642Z",
     "iopub.status.busy": "2021-11-06T07:36:24.204800Z",
     "iopub.status.idle": "2021-11-06T07:36:24.719409Z",
     "shell.execute_reply": "2021-11-06T07:36:24.718762Z",
     "shell.execute_reply.started": "2021-11-06T07:36:24.205609Z"
    }
   },
   "outputs": [],
   "source": [
    "#numerical variables\n",
    "fig, ax = plt.subplots(1,3, figsize=(16, 6)) \n",
    "for n, each_feature in enumerate(numeric_col):\n",
    "    box_plot = sns.boxplot(ax=ax[n], y=each_feature, x = 'Churn', data=df)\n",
    "    \n",
    "    medians = round(df.groupby(df['Churn'])[each_feature].median(),1)\n",
    "    vertical_offset = df[each_feature].median() * 0.05 # offset from median for display\n",
    "\n",
    "    for xtick in box_plot.get_xticks():\n",
    "        box_plot.text(xtick,medians[xtick] + vertical_offset,medians[xtick], \n",
    "                horizontalalignment='center',size='x-small',color='w',weight='semibold')"
   ]
  },
  {
   "cell_type": "markdown",
   "metadata": {},
   "source": [
    "# 4. Classification Models"
   ]
  },
  {
   "cell_type": "markdown",
   "metadata": {},
   "source": [
    "### 4A. Prepare data for analysis"
   ]
  },
  {
   "cell_type": "code",
   "execution_count": 246,
   "metadata": {
    "execution": {
     "iopub.execute_input": "2021-11-06T07:36:24.722887Z",
     "iopub.status.busy": "2021-11-06T07:36:24.722461Z",
     "iopub.status.idle": "2021-11-06T07:36:24.814742Z",
     "shell.execute_reply": "2021-11-06T07:36:24.813286Z",
     "shell.execute_reply.started": "2021-11-06T07:36:24.722851Z"
    }
   },
   "outputs": [],
   "source": [
    "#perform encoding for analysis\n",
    "for each in cat_col:\n",
    "    df[each] = df[each].astype('category')\n",
    "    df[each] = df[each].cat.codes\n",
    "    \n",
    "df.head()"
   ]
  },
  {
   "cell_type": "code",
   "execution_count": 247,
   "metadata": {
    "execution": {
     "iopub.execute_input": "2021-11-06T07:36:24.817046Z",
     "iopub.status.busy": "2021-11-06T07:36:24.816560Z",
     "iopub.status.idle": "2021-11-06T07:36:24.839344Z",
     "shell.execute_reply": "2021-11-06T07:36:24.838126Z",
     "shell.execute_reply.started": "2021-11-06T07:36:24.816994Z"
    }
   },
   "outputs": [],
   "source": [
    "#split data into test and train\n",
    "x = df.iloc[:,0:-1]\n",
    "y = df.iloc[:,-1]\n",
    "x_train, x_test, y_train, y_test = train_test_split(x, y, test_size=0.3, random_state=4)"
   ]
  },
  {
   "cell_type": "markdown",
   "metadata": {},
   "source": [
    "### 4B. Correcting imbalanced class distribution\n",
    "Since it was detected that the dataset has unequal class distribution, I have performed oversampling to duplicate samples from the minority class to create equally distributed classes in the training dataset. "
   ]
  },
  {
   "cell_type": "code",
   "execution_count": 248,
   "metadata": {
    "execution": {
     "iopub.execute_input": "2021-11-06T07:36:24.842099Z",
     "iopub.status.busy": "2021-11-06T07:36:24.841824Z",
     "iopub.status.idle": "2021-11-06T07:36:25.166745Z",
     "shell.execute_reply": "2021-11-06T07:36:25.165816Z",
     "shell.execute_reply.started": "2021-11-06T07:36:24.842068Z"
    }
   },
   "outputs": [],
   "source": [
    "from imblearn.over_sampling import SMOTENC\n",
    "\n",
    "sm = SMOTENC(categorical_features=[0,16], random_state = 2)\n",
    "x_train_sm, y_train_sm = sm.fit_resample(x_train, y_train)\n",
    "\n",
    "# what we had before\n",
    "print(\"what we had before\")\n",
    "print(x_train.shape, y_train.shape, x_test.shape, y_test.shape)\n",
    "\n",
    "# what we have now - an increase in training data, does not affect the test data\n",
    "print(\"\\nwhat we have now after oversampling\")\n",
    "print(x_train_sm.shape, y_train_sm.shape, x_test.shape, y_test.shape)\n",
    "\n",
    "#class distribution\n",
    "print(\"\\nnew class distribution\")\n",
    "y_train_sm.value_counts()"
   ]
  },
  {
   "cell_type": "markdown",
   "metadata": {},
   "source": [
    "### 4C. Model #1 - Logistic Regression\n",
    "Logistic regression is a classification algorithm that predicts a binary outcome (churn vs non-churn). The dependent variable is categorical while the independent variables can be continuous or categorical. "
   ]
  },
  {
   "cell_type": "markdown",
   "metadata": {},
   "source": [
    "**Verifying Assumption #1: The independent variables are linearly related to the log odds**\n",
    "\n",
    "Logistic Regression assumes that the continuous dependent variables are linearly related to the log odds of the dependent variable. To verify this assumption, I have plot the continuous dependent predictor - monthly charges and total charges to the log odds of the dependent variable. We would expect a flat top and bottom with a increasing/decreasing middle. Indeed, we have validated the assumption that the 2 continuous predictor variables are linearly related to the log odds of the dependent variable."
   ]
  },
  {
   "cell_type": "code",
   "execution_count": 249,
   "metadata": {
    "execution": {
     "iopub.execute_input": "2021-11-06T07:36:25.168324Z",
     "iopub.status.busy": "2021-11-06T07:36:25.168052Z",
     "iopub.status.idle": "2021-11-06T07:36:42.599274Z",
     "shell.execute_reply": "2021-11-06T07:36:42.598477Z",
     "shell.execute_reply.started": "2021-11-06T07:36:25.168292Z"
    }
   },
   "outputs": [],
   "source": [
    "sns.regplot(x= 'MonthlyCharges', y= 'Churn', data= df, logistic= True).set_title(\"Monthly Charges Log Odds Linear Plot\")"
   ]
  },
  {
   "cell_type": "code",
   "execution_count": 250,
   "metadata": {
    "execution": {
     "iopub.execute_input": "2021-11-06T07:36:42.603038Z",
     "iopub.status.busy": "2021-11-06T07:36:42.602794Z",
     "iopub.status.idle": "2021-11-06T07:37:00.611216Z",
     "shell.execute_reply": "2021-11-06T07:37:00.610595Z",
     "shell.execute_reply.started": "2021-11-06T07:36:42.603006Z"
    }
   },
   "outputs": [],
   "source": [
    "sns.regplot(x= 'TotalCharges', y= 'Churn', data= df, logistic= True).set_title(\"Total Charges Log Odds Linear Plot\")"
   ]
  },
  {
   "cell_type": "markdown",
   "metadata": {},
   "source": [
    "**Verifying Assumption #2: There is little to no multicollinearity between the independent variables**\n",
    "\n",
    "Logistic Regression also assumes little to no multicollinearity. I have tested this by looking at the correlation between independent variables with Spearman and computed the variance inflation factor (VIF) score. In general, correlation > 0.7 and  VIF>10 indicates presence of multi-collinearity. As seen below, TotalCharges, Tenure, Phone Service and MonthlyCharges are at high risk of multi-collinearity and are removed from the dataset [1, 2]. "
   ]
  },
  {
   "cell_type": "code",
   "execution_count": 251,
   "metadata": {
    "execution": {
     "iopub.execute_input": "2021-11-06T07:37:00.613188Z",
     "iopub.status.busy": "2021-11-06T07:37:00.612865Z",
     "iopub.status.idle": "2021-11-06T07:37:00.668020Z",
     "shell.execute_reply": "2021-11-06T07:37:00.667083Z",
     "shell.execute_reply.started": "2021-11-06T07:37:00.613131Z"
    }
   },
   "outputs": [],
   "source": [
    "sm_df = x.corr(method='spearman')\n",
    "sm_df.style.applymap(lambda x: \"background-color: red\" if x>0.7 else \"background-color: white\")"
   ]
  },
  {
   "cell_type": "code",
   "execution_count": 252,
   "metadata": {
    "execution": {
     "iopub.execute_input": "2021-11-06T07:37:00.669505Z",
     "iopub.status.busy": "2021-11-06T07:37:00.669270Z",
     "iopub.status.idle": "2021-11-06T07:37:00.902753Z",
     "shell.execute_reply": "2021-11-06T07:37:00.901844Z",
     "shell.execute_reply.started": "2021-11-06T07:37:00.669477Z"
    }
   },
   "outputs": [],
   "source": [
    "# VIF dataframe\n",
    "vif_data = pd.DataFrame()\n",
    "vif_data[\"feature\"] = x.columns\n",
    "  \n",
    "# calculating VIF for each feature\n",
    "vif_data[\"VIF\"] = [variance_inflation_factor(x.values, i)\n",
    "                          for i in range(len(x.columns))]\n",
    "  \n",
    "print(vif_data)"
   ]
  },
  {
   "cell_type": "code",
   "execution_count": 253,
   "metadata": {
    "execution": {
     "iopub.execute_input": "2021-11-06T07:37:00.905578Z",
     "iopub.status.busy": "2021-11-06T07:37:00.904586Z",
     "iopub.status.idle": "2021-11-06T07:37:00.913672Z",
     "shell.execute_reply": "2021-11-06T07:37:00.912761Z",
     "shell.execute_reply.started": "2021-11-06T07:37:00.905505Z"
    }
   },
   "outputs": [],
   "source": [
    "#drop columns with high multicollinearity\n",
    "df = df.drop(columns=['MonthlyCharges','TotalCharges', 'PhoneService', 'tenure'])"
   ]
  },
  {
   "cell_type": "code",
   "execution_count": 254,
   "metadata": {
    "execution": {
     "iopub.execute_input": "2021-11-06T07:37:00.916198Z",
     "iopub.status.busy": "2021-11-06T07:37:00.915469Z",
     "iopub.status.idle": "2021-11-06T07:37:00.926953Z",
     "shell.execute_reply": "2021-11-06T07:37:00.925952Z",
     "shell.execute_reply.started": "2021-11-06T07:37:00.916146Z"
    }
   },
   "outputs": [],
   "source": [
    "output = x.columns[0]\n",
    "for each in x.columns[1:]:\n",
    "    output +=  \" + \" + each \n",
    "formula = 'Churn~ ' + output"
   ]
  },
  {
   "cell_type": "markdown",
   "metadata": {},
   "source": [
    "**Model 1A - Logisitic Regression Model trained on original dataset**"
   ]
  },
  {
   "cell_type": "code",
   "execution_count": 255,
   "metadata": {
    "execution": {
     "iopub.execute_input": "2021-11-06T07:37:00.929193Z",
     "iopub.status.busy": "2021-11-06T07:37:00.928687Z",
     "iopub.status.idle": "2021-11-06T07:37:01.092707Z",
     "shell.execute_reply": "2021-11-06T07:37:01.091813Z",
     "shell.execute_reply.started": "2021-11-06T07:37:00.929145Z"
    }
   },
   "outputs": [],
   "source": [
    "#full dateset\n",
    "model= smf.logit(formula=formula, data= x_train.join(y_train)).fit()\n",
    "model.summary()"
   ]
  },
  {
   "cell_type": "code",
   "execution_count": 256,
   "metadata": {
    "execution": {
     "iopub.execute_input": "2021-11-06T07:37:01.094692Z",
     "iopub.status.busy": "2021-11-06T07:37:01.094149Z",
     "iopub.status.idle": "2021-11-06T07:37:01.300195Z",
     "shell.execute_reply": "2021-11-06T07:37:01.299294Z",
     "shell.execute_reply.started": "2021-11-06T07:37:01.094641Z"
    }
   },
   "outputs": [],
   "source": [
    "ypred = model.predict(x_test)\n",
    "ypred\n",
    "prediction = list(map(round, ypred))\n",
    "\n",
    "# confusion matrix\n",
    "cm = confusion_matrix(y_test, prediction)\n",
    "labels=[0, 1]\n",
    "df_cm = pd.DataFrame(cm, labels, labels)\n",
    "ax = sns.heatmap(df_cm, annot=True, annot_kws={\"size\": 10}, square=True, cbar=False, fmt='g')\n",
    "ax.set_ylim(0, 2) \n",
    "plt.xlabel(\"Predicted\") \n",
    "plt.ylabel(\"Actual\") \n",
    "ax.invert_yaxis() #optional\n",
    "plt.show()\n",
    " \n",
    "# accuracy score of the model\n",
    "print('Test accuracy = ', accuracy_score(y_test, prediction))"
   ]
  },
  {
   "cell_type": "code",
   "execution_count": 257,
   "metadata": {
    "execution": {
     "iopub.execute_input": "2021-11-06T07:37:01.302427Z",
     "iopub.status.busy": "2021-11-06T07:37:01.301887Z",
     "iopub.status.idle": "2021-11-06T07:37:01.327345Z",
     "shell.execute_reply": "2021-11-06T07:37:01.326635Z",
     "shell.execute_reply.started": "2021-11-06T07:37:01.302378Z"
    }
   },
   "outputs": [],
   "source": [
    "# Evaluating the predictive capability of the classification model\n",
    "\n",
    "print(' precision score: ',precision_score(y_test, prediction),'\\n')\n",
    "print(' recall score: ',recall_score(y_test, prediction),'\\n')\n",
    "print(classification_report(y_test, prediction))"
   ]
  },
  {
   "cell_type": "markdown",
   "metadata": {},
   "source": [
    "**Model 1B - Logisitic Regression Model trained on dataset corrected for imbalanced class**"
   ]
  },
  {
   "cell_type": "code",
   "execution_count": 258,
   "metadata": {
    "execution": {
     "iopub.execute_input": "2021-11-06T07:37:01.329155Z",
     "iopub.status.busy": "2021-11-06T07:37:01.328487Z",
     "iopub.status.idle": "2021-11-06T07:37:01.439682Z",
     "shell.execute_reply": "2021-11-06T07:37:01.438793Z",
     "shell.execute_reply.started": "2021-11-06T07:37:01.329120Z"
    }
   },
   "outputs": [],
   "source": [
    "#im dateset\n",
    "model= smf.logit(formula=formula, data= x_train_sm.join(y_train_sm)).fit()\n",
    "model.summary()"
   ]
  },
  {
   "cell_type": "code",
   "execution_count": 259,
   "metadata": {
    "execution": {
     "iopub.execute_input": "2021-11-06T07:37:01.441848Z",
     "iopub.status.busy": "2021-11-06T07:37:01.441312Z",
     "iopub.status.idle": "2021-11-06T07:37:01.642756Z",
     "shell.execute_reply": "2021-11-06T07:37:01.641870Z",
     "shell.execute_reply.started": "2021-11-06T07:37:01.441804Z"
    }
   },
   "outputs": [],
   "source": [
    "ypred = model.predict(x_test)\n",
    "ypred\n",
    "prediction = list(map(round, ypred))\n",
    "\n",
    "# confusion matrix\n",
    "cm = confusion_matrix(y_test, prediction)\n",
    "labels=[0, 1]\n",
    "df_cm = pd.DataFrame(cm, labels, labels)\n",
    "ax = sns.heatmap(df_cm, annot=True, annot_kws={\"size\": 10}, square=True, cbar=False, fmt='g')\n",
    "ax.set_ylim(0, 2) \n",
    "plt.xlabel(\"Predicted\") \n",
    "plt.ylabel(\"Actual\") \n",
    "ax.invert_yaxis() #optional\n",
    "plt.show()\n",
    " \n",
    "# accuracy score of the model\n",
    "print('Test accuracy = ', accuracy_score(y_test, prediction))"
   ]
  },
  {
   "cell_type": "code",
   "execution_count": 260,
   "metadata": {
    "execution": {
     "iopub.execute_input": "2021-11-06T07:37:01.645001Z",
     "iopub.status.busy": "2021-11-06T07:37:01.644440Z",
     "iopub.status.idle": "2021-11-06T07:37:01.672014Z",
     "shell.execute_reply": "2021-11-06T07:37:01.671042Z",
     "shell.execute_reply.started": "2021-11-06T07:37:01.644954Z"
    }
   },
   "outputs": [],
   "source": [
    "# Evaluating the predictive capability of the classification model\n",
    "\n",
    "print(' precision score: ',precision_score(y_test, prediction),'\\n')\n",
    "print(' recall score: ',recall_score(y_test, prediction),'\\n')\n",
    "print(classification_report(y_test, prediction))"
   ]
  },
  {
   "cell_type": "markdown",
   "metadata": {},
   "source": [
    "**Model Discussion**\n",
    "\n",
    "- Although the first model (1A) produced a high accuracy score of 0.783, it has a low precision and recall scores at 0.594 and 0.524 respectively. The model performed well in terms of accuracy due to the accracy paradox - given that majority of the test data are of the majority class, a model that predicts the majority class for all the test data will have a high number of correct predictions. This results in a misleading accuracy score. \n",
    "- As such, I trained a second model (1B) with a balanced data set to evaluate if this would improve the recall and precision. Although the accuracy score decreased slightly to 0.746, the recall score has improved to 0.715. However, the precision score decreased to 0.508. This is the trade-off for correcting the dataset. As the model is now exposed to more data from the minority class (churn), more of its prediction now leans towards the minority class, resulting in higher false positives and thus, a lower precision. \n",
    "- Given both models, I would pick the second model (1B) as it has a higher recall. In this customer churn prediction case, false positives are less costly compared to false negatives. In a false positive case, the firm would proactively engage a non-churn customer as the model has wrongly predicted that the customer would churn. In a false negative case, the firm would neglect a churning customer as the model has wrongly predicted that the customer would not churn. The latter would cause greater financial loss to the firm as it is more expensive to acquire a new customer than to retain one. \n",
    "\n",
    "**Intepreting model output  [4]**\n",
    "- StreamingMovies, PaperlessBilling and gender have no significant effect on the log odds of customers churning. (p-value>0.05)\n",
    "- The remaining independent variables have a significant effect on the log odds of customer churning (p-value<0.05)\n",
    "- Customers subscribed to phone service has a -1.43 decrease in log odds of churning compared to customers who are not subscribed to phone service\n",
    "- Customers who have dependents has a -0.67 decrease in log odds of churning compared to customers who do not have dependents\n",
    "- Senior citizen customers have a -0.61 decrease in log odds of churning compared to customers who are younger.\n"
   ]
  },
  {
   "cell_type": "markdown",
   "metadata": {},
   "source": [
    "### 4D. Model #2 - Decision Tree\n",
    "Decision Trees (DTs) are a non-parametric supervised learning method used for classification and regression. The goal is to create a model that predicts the value of a target variable by learning simple decision rules inferred from the data features. "
   ]
  },
  {
   "cell_type": "code",
   "execution_count": 261,
   "metadata": {
    "execution": {
     "iopub.execute_input": "2021-11-06T07:37:01.673760Z",
     "iopub.status.busy": "2021-11-06T07:37:01.673421Z",
     "iopub.status.idle": "2021-11-06T07:37:01.744177Z",
     "shell.execute_reply": "2021-11-06T07:37:01.743343Z",
     "shell.execute_reply.started": "2021-11-06T07:37:01.673719Z"
    }
   },
   "outputs": [],
   "source": [
    "clf = DecisionTreeClassifier(random_state=0)\n",
    "clf = clf.fit(x_train_sm,y_train_sm)\n",
    "y_pred = clf.predict(x_test)"
   ]
  },
  {
   "cell_type": "code",
   "execution_count": 262,
   "metadata": {
    "execution": {
     "iopub.execute_input": "2021-11-06T07:37:01.745764Z",
     "iopub.status.busy": "2021-11-06T07:37:01.745554Z",
     "iopub.status.idle": "2021-11-06T07:37:01.894494Z",
     "shell.execute_reply": "2021-11-06T07:37:01.893329Z",
     "shell.execute_reply.started": "2021-11-06T07:37:01.745738Z"
    }
   },
   "outputs": [],
   "source": [
    "# confusion matrix\n",
    "cm = confusion_matrix(y_test, prediction)\n",
    "labels=[0, 1]\n",
    "df_cm = pd.DataFrame(cm, labels, labels)\n",
    "ax = sns.heatmap(df_cm, annot=True, annot_kws={\"size\": 10}, square=True, cbar=False, fmt='g')\n",
    "ax.set_ylim(0, 2) \n",
    "plt.xlabel(\"Predicted\") \n",
    "plt.ylabel(\"Actual\") \n",
    "ax.invert_yaxis() #optional\n",
    "plt.show()\n",
    " \n",
    "# accuracy score of the model\n",
    "print('Test accuracy = ', accuracy_score(y_test, y_pred))"
   ]
  },
  {
   "cell_type": "code",
   "execution_count": 263,
   "metadata": {
    "execution": {
     "iopub.execute_input": "2021-11-06T07:37:01.896628Z",
     "iopub.status.busy": "2021-11-06T07:37:01.896192Z",
     "iopub.status.idle": "2021-11-06T07:37:01.918209Z",
     "shell.execute_reply": "2021-11-06T07:37:01.917317Z",
     "shell.execute_reply.started": "2021-11-06T07:37:01.896579Z"
    }
   },
   "outputs": [],
   "source": [
    "# Evaluating the predictive capability of the classification model\n",
    "\n",
    "print(' precision score: ',precision_score(y_test, y_pred),'\\n')\n",
    "print(' recall score: ',recall_score(y_test, y_pred),'\\n')\n",
    "print(classification_report(y_test, y_pred))"
   ]
  },
  {
   "cell_type": "markdown",
   "metadata": {},
   "source": [
    "**Fine-tuning Decision Tree [5]**\n",
    "\n",
    "In general, the more complex our tree is, the more information it captures. However, this often leads to overfitting whereby the model will perform very well on the training data set but it will not be able to generalize well on the test data set. On the flip side, an overly simplified model will underfit as it is unable to learn meaningful patterns from the data and will perform badly on both train and test data set. \n",
    "\n",
    "There are several hyper-parameters that affect tree complexity:\n",
    "- stopping criteria: max_depth, min_samples_split, and min_samples_leaf \n",
    "- pruning methods: min_weight_fraction_leaf and min_impurity_decrease\n",
    "\n",
    "Here, I have decided to experiment with max_depth. As seen from the line chart below, a max_depth==3 gives the best score for both test and training data set. There are signs of overfitting for trees with max_depth above 7. The model's accuracy for train data set continue to increase while the model's accuracy for test data set has decreased."
   ]
  },
  {
   "cell_type": "code",
   "execution_count": 264,
   "metadata": {
    "execution": {
     "iopub.execute_input": "2021-11-06T07:37:01.920719Z",
     "iopub.status.busy": "2021-11-06T07:37:01.919816Z",
     "iopub.status.idle": "2021-11-06T07:37:02.711940Z",
     "shell.execute_reply": "2021-11-06T07:37:02.711073Z",
     "shell.execute_reply.started": "2021-11-06T07:37:01.920677Z"
    }
   },
   "outputs": [],
   "source": [
    "values = [i for i in range(1, 21)]\n",
    "train_scores, test_scores = list(), list()\n",
    "\n",
    "# evaluate a decision tree for each depth\n",
    "for i in values:\n",
    "    clf = DecisionTreeClassifier(max_depth=i)\n",
    "    clf = clf.fit(x_train, y_train)\n",
    "    \n",
    "    # evaluate on the train dataset\n",
    "    train_ypred = clf.predict(x_train)\n",
    "    train_acc = metrics.accuracy_score(y_train, train_ypred)\n",
    "    train_scores.append(train_acc)\n",
    "    \n",
    "    # evaluate on the test dataset\n",
    "    test_ypred = clf.predict(x_test)\n",
    "    test_acc = metrics.accuracy_score(y_test, test_ypred)\n",
    "    test_scores.append(test_acc)\n",
    "\n",
    "# plot of train and test scores vs tree depth\n",
    "fig, ax = plt.subplots(figsize=(12, 12))\n",
    "ax.plot(values, train_scores, '-o', label='Train')\n",
    "ax.plot(values, test_scores, '-o', label='Test')\n",
    "ax.set_xticks([x for x in range(1,22)])\n",
    "ax.legend()\n",
    "plt.show()"
   ]
  },
  {
   "cell_type": "code",
   "execution_count": 265,
   "metadata": {
    "execution": {
     "iopub.execute_input": "2021-11-06T07:37:02.713497Z",
     "iopub.status.busy": "2021-11-06T07:37:02.713105Z",
     "iopub.status.idle": "2021-11-06T07:37:02.734606Z",
     "shell.execute_reply": "2021-11-06T07:37:02.733892Z",
     "shell.execute_reply.started": "2021-11-06T07:37:02.713465Z"
    }
   },
   "outputs": [],
   "source": [
    "clf = DecisionTreeClassifier(random_state=0, max_depth = 3)\n",
    "clf = clf.fit(x_train_sm,y_train_sm)\n",
    "y_pred = clf.predict(x_test)"
   ]
  },
  {
   "cell_type": "code",
   "execution_count": 266,
   "metadata": {
    "execution": {
     "iopub.execute_input": "2021-11-06T07:37:02.736303Z",
     "iopub.status.busy": "2021-11-06T07:37:02.735577Z",
     "iopub.status.idle": "2021-11-06T07:37:02.872445Z",
     "shell.execute_reply": "2021-11-06T07:37:02.871546Z",
     "shell.execute_reply.started": "2021-11-06T07:37:02.736267Z"
    }
   },
   "outputs": [],
   "source": [
    "# confusion matrix\n",
    "cm = confusion_matrix(y_test, prediction)\n",
    "labels=[0, 1]\n",
    "df_cm = pd.DataFrame(cm, labels, labels)\n",
    "ax = sns.heatmap(df_cm, annot=True, annot_kws={\"size\": 10}, square=True, cbar=False, fmt='g')\n",
    "ax.set_ylim(0, 2) \n",
    "plt.xlabel(\"Predicted\") \n",
    "plt.ylabel(\"Actual\") \n",
    "ax.invert_yaxis() #optional\n",
    "plt.show()\n",
    " \n",
    "# accuracy score of the model\n",
    "print('Test accuracy = ', accuracy_score(y_test, y_pred))"
   ]
  },
  {
   "cell_type": "code",
   "execution_count": 267,
   "metadata": {
    "execution": {
     "iopub.execute_input": "2021-11-06T07:37:02.874727Z",
     "iopub.status.busy": "2021-11-06T07:37:02.874177Z",
     "iopub.status.idle": "2021-11-06T07:37:02.898820Z",
     "shell.execute_reply": "2021-11-06T07:37:02.897888Z",
     "shell.execute_reply.started": "2021-11-06T07:37:02.874680Z"
    }
   },
   "outputs": [],
   "source": [
    "# Evaluating the predictive capability of the classification model\n",
    "\n",
    "print(' precision score: ',precision_score(y_test, y_pred),'\\n')\n",
    "print(' recall score: ',recall_score(y_test, y_pred),'\\n')\n",
    "print(classification_report(y_test, y_pred))"
   ]
  },
  {
   "cell_type": "code",
   "execution_count": 268,
   "metadata": {
    "execution": {
     "iopub.execute_input": "2021-11-06T07:37:02.900328Z",
     "iopub.status.busy": "2021-11-06T07:37:02.900056Z",
     "iopub.status.idle": "2021-11-06T07:37:04.471186Z",
     "shell.execute_reply": "2021-11-06T07:37:04.469945Z",
     "shell.execute_reply.started": "2021-11-06T07:37:02.900270Z"
    }
   },
   "outputs": [],
   "source": [
    "dot_data = StringIO()\n",
    "export_graphviz(clf, out_file=dot_data,  \n",
    "                filled=True, rounded=True,\n",
    "                special_characters=True,feature_names = x.columns ,class_names=['0','1'])\n",
    "graph = pydotplus.graph_from_dot_data(dot_data.getvalue())  \n",
    "graph.write_png('DecisionTree.png')\n",
    "Image(graph.create_png())"
   ]
  },
  {
   "cell_type": "code",
   "execution_count": 269,
   "metadata": {
    "execution": {
     "iopub.execute_input": "2021-11-06T07:37:04.473420Z",
     "iopub.status.busy": "2021-11-06T07:37:04.473109Z",
     "iopub.status.idle": "2021-11-06T07:37:04.739995Z",
     "shell.execute_reply": "2021-11-06T07:37:04.739037Z",
     "shell.execute_reply.started": "2021-11-06T07:37:04.473377Z"
    }
   },
   "outputs": [],
   "source": [
    "importances = clf.feature_importances_\n",
    "weights = pd.Series(importances,\n",
    "                 index=x.columns.values)\n",
    "weights.sort_values()[-10:].plot(kind = 'barh')"
   ]
  },
  {
   "cell_type": "markdown",
   "metadata": {},
   "source": [
    "### 4E. Model #3 - Random Forest\n",
    "A random forest is an ensemble method that uses averaging from various classifiers to improve the predictive accuracy and control over-fitting"
   ]
  },
  {
   "cell_type": "code",
   "execution_count": 270,
   "metadata": {
    "execution": {
     "iopub.execute_input": "2021-11-06T07:37:04.741904Z",
     "iopub.status.busy": "2021-11-06T07:37:04.741426Z",
     "iopub.status.idle": "2021-11-06T07:37:06.024068Z",
     "shell.execute_reply": "2021-11-06T07:37:06.023018Z",
     "shell.execute_reply.started": "2021-11-06T07:37:04.741870Z"
    }
   },
   "outputs": [],
   "source": [
    "from sklearn.ensemble import RandomForestClassifier\n",
    "\n",
    "clf=RandomForestClassifier(n_estimators=350, max_depth=3)\n",
    "clf.fit(x_train_sm,y_train_sm)\n",
    "y_pred=clf.predict(x_test)"
   ]
  },
  {
   "cell_type": "code",
   "execution_count": 271,
   "metadata": {
    "execution": {
     "iopub.execute_input": "2021-11-06T07:37:06.025967Z",
     "iopub.status.busy": "2021-11-06T07:37:06.025686Z",
     "iopub.status.idle": "2021-11-06T07:37:06.180702Z",
     "shell.execute_reply": "2021-11-06T07:37:06.179603Z",
     "shell.execute_reply.started": "2021-11-06T07:37:06.025937Z"
    }
   },
   "outputs": [],
   "source": [
    "# confusion matrix\n",
    "cm = confusion_matrix(y_test, prediction)\n",
    "labels=[0, 1]\n",
    "df_cm = pd.DataFrame(cm, labels, labels)\n",
    "ax = sns.heatmap(df_cm, annot=True, annot_kws={\"size\": 10}, square=True, cbar=False, fmt='g')\n",
    "ax.set_ylim(0, 2) \n",
    "plt.xlabel(\"Predicted\") \n",
    "plt.ylabel(\"Actual\") \n",
    "ax.invert_yaxis() #optional\n",
    "plt.show()\n",
    " \n",
    "# accuracy score of the model\n",
    "print('Test accuracy = ', accuracy_score(y_test, y_pred))"
   ]
  },
  {
   "cell_type": "markdown",
   "metadata": {},
   "source": [
    "# 5. Comparing model performance\n",
    "- Overall, the logistic regression model performs better compared to decision tree model. The logistic regression model gave a better accuracy score of 0.746 and macro-F1 score of 0.79. In comparison, the decision tree model produced a lower accuracy score of 0.689 and macro-F1 score of 0.66. \n",
    "\n",
    "#### Key recommedations:\n",
    "- The InternetService type has a 0.2851 increase in log odds ratio of customer churning. I would recommend the firm to conduct a survey on satisfaction with Internet Service to understand if there might be any underlying issues with the InternetService that may cause customers to churn.\n",
    "- As younger customers with no dependents and no partners are more likely to churn, I would recommend the firm to create bundle family packages with their older family members / friends. \n",
    "- For every one unit increase in monthly charges, the logg odds of customer churning increase by 0.029. Based on the EDA findings, churn customers have a higher median monthly charge compared to non-churn customers. As such, I would recommend the firm to investigate the underlying the possible causes of higher median monthly charge and take steps to reduce the cost to prevent losing these customers to other competitors. "
   ]
  },
  {
   "cell_type": "markdown",
   "metadata": {},
   "source": [
    "# References:\n",
    "* [1] https://blog.clairvoyantsoft.com/correlation-and-collinearity-how-they-can-make-or-break-a-model-9135fbe6936a#:~:text=Multicollinearity%20is%20a%20situation%20where,indicates%20the%20presence%20of%20multicollinearity.\n",
    "* [2] https://quantifyinghealth.com/vif-threshold/\n",
    "* [3] https://www.geeksforgeeks.org/logistic-regression-using-statsmodels/\n",
    "* [4] https://pythonfordatascienceorg.wordpress.com/logistic-regression-python/\n",
    "* [5] https://towardsdatascience.com/how-to-tune-a-decision-tree-f03721801680"
   ]
  }
 ],
 "metadata": {
  "kernelspec": {
   "display_name": "Python 3",
   "language": "python",
   "name": "python3"
  },
  "language_info": {
   "codemirror_mode": {
    "name": "ipython",
    "version": 3
   },
   "file_extension": ".py",
   "mimetype": "text/x-python",
   "name": "python",
   "nbconvert_exporter": "python",
   "pygments_lexer": "ipython3",
   "version": "3.7.4"
  }
 },
 "nbformat": 4,
 "nbformat_minor": 4
}
